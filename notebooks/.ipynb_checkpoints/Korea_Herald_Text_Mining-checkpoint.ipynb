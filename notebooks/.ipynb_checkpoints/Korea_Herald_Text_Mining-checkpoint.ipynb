{
 "cells": [
  {
   "cell_type": "markdown",
   "metadata": {},
   "source": [
    "# Load Data"
   ]
  },
  {
   "cell_type": "code",
   "execution_count": 12,
   "metadata": {
    "scrolled": false
   },
   "outputs": [
    {
     "data": {
      "text/plain": [
       "title          object\n",
       "author         object\n",
       "time           object\n",
       "description    object\n",
       "body           object\n",
       "section        object\n",
       "dtype: object"
      ]
     },
     "execution_count": 12,
     "metadata": {},
     "output_type": "execute_result"
    }
   ],
   "source": [
    "import json\n",
    "import pandas\n",
    "import gzip\n",
    "\n",
    "data_path = '../data/koreaherald_1517_#.json.gz'\n",
    "\n",
    "for i in range(8):\n",
    "  p = data_path.replace('#',str(i))\n",
    "  with gzip.open(p,'rb') as f:\n",
    "    data=json.load(f)\n",
    "  if i == 0:\n",
    "    df_data = pandas.DataFrame.from_dict(data)\n",
    "  else:\n",
    "    df_data.append(data,ignore_index=True)\n",
    "\n",
    "# clean up column names\n",
    "df_data = df_data.rename(columns={\" author\": \"author\",\n",
    "                        \" time\": \"time\",\n",
    "                        \" description\": \"description\",\n",
    "                        \" body\": \"body\",\n",
    "                        \" section\": \"section\",\n",
    "                       })\n",
    "# preview data\n",
    "df_data.dtypes"
   ]
  },
  {
   "cell_type": "markdown",
   "metadata": {},
   "source": [
    "# Pre-Processing\n",
    "\n",
    "Here we apply:\n",
    "- tokenisation\n",
    "- lemmatisation\n",
    "- normalisation\n",
    "\n",
    "(optional) Bigrams"
   ]
  },
  {
   "cell_type": "code",
   "execution_count": 27,
   "metadata": {},
   "outputs": [],
   "source": [
    "from nltk.tokenize import RegexpTokenizer\n",
    "from nltk.stem.wordnet import WordNetLemmatizer\n",
    "\n",
    "lemmatizer = WordNetLemmatizer()\n",
    "tokenizer = RegexpTokenizer(r'\\w+')\n",
    "\n",
    "def tokenise_pipeline(doc):\n",
    "  doc = doc.lower()  # Convert to lowercase.\n",
    "  tokens = tokenizer.tokenize(doc) # split into words\n",
    "  # TODO: remove stopwords\n",
    "  tokens = [token for token in tokens if not token.isnumeric()] # remove numbers\n",
    "  tokens = [token for token in tokens if len(token) > 2] # remove words of only 1 letter\n",
    "  tokens = [lemmatizer.lemmatize(token) for token in tokens] # lemmatisation\n",
    "  return tokens"
   ]
  },
  {
   "cell_type": "code",
   "execution_count": 24,
   "metadata": {
    "scrolled": true
   },
   "outputs": [],
   "source": [
    "df_data['body_tokenised'] = df_data['body'].apply(tokenise_pipeline)"
   ]
  },
  {
   "cell_type": "code",
   "execution_count": 25,
   "metadata": {},
   "outputs": [],
   "source": [
    "from gensim.models import Phrases\n",
    "\n",
    "bigrams = Phrases([doc for doc in df_data['body_tokenised']], min_count=20) # keeps only phrases that appear >= 20 times in corpus.\n",
    "\n",
    "def add_bigrams(doc):\n",
    "  for token in bigrams[doc]:\n",
    "    if '_' in token:\n",
    "      doc.append(token)\n",
    "  return doc\n",
    "\n",
    "df_data['body_tokenised'] = df_data['body_tokenised'].apply(add_bigrams)"
   ]
  }
 ],
 "metadata": {
  "kernelspec": {
   "display_name": "Python 3",
   "language": "python",
   "name": "python3"
  },
  "language_info": {
   "codemirror_mode": {
    "name": "ipython",
    "version": 3
   },
   "file_extension": ".py",
   "mimetype": "text/x-python",
   "name": "python",
   "nbconvert_exporter": "python",
   "pygments_lexer": "ipython3",
   "version": "3.7.3"
  }
 },
 "nbformat": 4,
 "nbformat_minor": 2
}
