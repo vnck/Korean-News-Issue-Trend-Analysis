{
 "cells": [
  {
   "cell_type": "markdown",
   "metadata": {},
   "source": [
    "# Text Mining Project on Korea Herald"
   ]
  },
  {
   "cell_type": "markdown",
   "metadata": {},
   "source": [
    "# Data Preparation"
   ]
  },
  {
   "cell_type": "markdown",
   "metadata": {},
   "source": [
    "## Load Data"
   ]
  },
  {
   "cell_type": "code",
   "execution_count": 1,
   "metadata": {
    "scrolled": false
   },
   "outputs": [
    {
     "name": "stdout",
     "output_type": "stream",
     "text": [
      "Number of docs: 23769\n"
     ]
    },
    {
     "data": {
      "text/plain": [
       "title          object\n",
       "author         object\n",
       "time           object\n",
       "description    object\n",
       "body           object\n",
       "section        object\n",
       "dtype: object"
      ]
     },
     "execution_count": 1,
     "metadata": {},
     "output_type": "execute_result"
    }
   ],
   "source": [
    "import json\n",
    "import pandas as pd\n",
    "import gzip\n",
    "import numpy as np\n",
    "\n",
    "data_path = '../data/koreaherald_1517_#.json.gz'\n",
    "\n",
    "df_data = pd.DataFrame()\n",
    "\n",
    "for i in range(8):\n",
    "  p = data_path.replace('#',str(i))\n",
    "  with gzip.open(p,'rb') as f:\n",
    "    data = pd.DataFrame.from_dict(json.load(f))\n",
    "  df_data = df_data.append(data,ignore_index=True)\n",
    "\n",
    "# clean up column names\n",
    "df_data = df_data.rename(columns={\" author\": \"author\",\n",
    "                        \" time\": \"time\",\n",
    "                        \" description\": \"description\",\n",
    "                        \" body\": \"body\",\n",
    "                        \" section\": \"section\",\n",
    "                       })\n",
    "# preview data\n",
    "print('Number of docs: {}'.format(df_data.shape[0]))\n",
    "df_data.dtypes"
   ]
  },
  {
   "cell_type": "markdown",
   "metadata": {},
   "source": [
    "## Pre-Processing\n",
    "\n",
    "Here we apply:\n",
    "- tokenisation\n",
    "- lemmatisation\n",
    "- normalisation\n",
    "\n",
    "(optional) Bigrams"
   ]
  },
  {
   "cell_type": "code",
   "execution_count": 2,
   "metadata": {},
   "outputs": [],
   "source": [
    "from nltk.tokenize import RegexpTokenizer\n",
    "from nltk.stem.wordnet import WordNetLemmatizer\n",
    "from nltk.corpus import stopwords\n",
    "\n",
    "lemmatizer = WordNetLemmatizer()\n",
    "tokenizer = RegexpTokenizer(r'\\w+')\n",
    "stop_words = set(stopwords.words('english'))\n",
    "whitelist = {'US':'United States'}\n",
    "\n",
    "def tokenise_pipeline(doc):\n",
    "  for k,v in whitelist:\n",
    "    doc = doc.replace(k,v)\n",
    "  doc = doc.lower()  # Convert to lowercase.\n",
    "  tokens = tokenizer.tokenize(doc) # split into words\n",
    "  # TODO: remove stopwords\n",
    "  tokens = [token for token in tokens if not token.isnumeric()] # remove numbers\n",
    "  tokens = [token for token in tokens if token not in stop_words]\n",
    "  tokens = [token for token in tokens if len(token) > 2] # remove words of only 1 letter\n",
    "  tokens = [lemmatizer.lemmatize(token) for token in tokens] # lemmatisation\n",
    "  return tokens"
   ]
  },
  {
   "cell_type": "code",
   "execution_count": 3,
   "metadata": {
    "scrolled": true
   },
   "outputs": [],
   "source": [
    "df_data['body_tokenised'] = df_data['body'].apply(tokenise_pipeline)"
   ]
  },
  {
   "cell_type": "code",
   "execution_count": 4,
   "metadata": {},
   "outputs": [],
   "source": [
    "from gensim.models import Phrases\n",
    "\n",
    "bigrams = Phrases(df_data['body_tokenised'].values, min_count=20) # keeps only phrases that appear >= 20 times in corpus.\n",
    "\n",
    "def add_bigrams(doc):\n",
    "  for token in bigrams[doc]:\n",
    "    if '_' in token:\n",
    "      doc.append(token)\n",
    "  return doc\n",
    "\n",
    "df_data['body_tokenised'] = df_data['body_tokenised'].apply(add_bigrams)"
   ]
  },
  {
   "cell_type": "code",
   "execution_count": 5,
   "metadata": {},
   "outputs": [
    {
     "name": "stdout",
     "output_type": "stream",
     "text": [
      "Number of unique tokens: 16614\n",
      "Number of documents: 23769\n"
     ]
    }
   ],
   "source": [
    "from gensim.corpora import Dictionary\n",
    "\n",
    "dictionary = Dictionary(df_data['body_tokenised'].values)\n",
    "dictionary.filter_extremes(no_below=20, no_above=0.5) # filter words that occur in less than 20 docs or more than 50% docs\n",
    "\n",
    "print('Number of unique tokens: {}'.format(len(dictionary)))\n",
    "print('Number of documents: {}'.format(len(df_data['body_tokenised'].values)))"
   ]
  },
  {
   "cell_type": "markdown",
   "metadata": {},
   "source": [
    "## Vectorization"
   ]
  },
  {
   "cell_type": "code",
   "execution_count": 6,
   "metadata": {},
   "outputs": [],
   "source": [
    "# BOW vectorisation\n",
    "# TFIDF vectorisation\n",
    "from gensim.models import TfidfModel\n",
    "\n",
    "corpus = [dictionary.doc2bow(doc) for doc in df_data['body_tokenised']]\n",
    "tfidf = TfidfModel(corpus)\n",
    "df_data['body_bow'] = df_data['body_tokenised'].apply(dictionary.doc2bow)\n",
    "df_data['body_tfidf'] = df_data['body_bow'].apply(lambda doc : tfidf[doc])"
   ]
  },
  {
   "cell_type": "markdown",
   "metadata": {},
   "source": [
    "## Group By Year"
   ]
  },
  {
   "cell_type": "code",
   "execution_count": 7,
   "metadata": {},
   "outputs": [],
   "source": [
    "import copy\n",
    "\n",
    "df_2015 = copy.deepcopy(df_data[df_data['time'].str.contains('2015')])\n",
    "df_2016 = copy.deepcopy(df_data[df_data['time'].str.contains('2016')])\n",
    "df_2017 = copy.deepcopy(df_data[df_data['time'].str.contains('2017')])"
   ]
  },
  {
   "cell_type": "markdown",
   "metadata": {},
   "source": [
    "# 2015 Analysis"
   ]
  },
  {
   "cell_type": "markdown",
   "metadata": {},
   "source": [
    "## Get n_topics by evaluating Coherence"
   ]
  },
  {
   "cell_type": "code",
   "execution_count": 8,
   "metadata": {},
   "outputs": [
    {
     "name": "stderr",
     "output_type": "stream",
     "text": [
      "100%|██████████| 21/21 [56:17<00:00, 160.85s/it] "
     ]
    },
    {
     "name": "stdout",
     "output_type": "stream",
     "text": [
      "Best Coherence Score: -1.3123611286143622, Number of Topics: 11\n"
     ]
    },
    {
     "name": "stderr",
     "output_type": "stream",
     "text": [
      "\n"
     ]
    }
   ],
   "source": [
    "from gensim.models.coherencemodel import CoherenceModel\n",
    "from gensim.models import LdaModel\n",
    "import seaborn as sns\n",
    "from tqdm import tqdm\n",
    "\n",
    "temp = dictionary[0] # to 'load' dictionary\n",
    "id2word = dictionary.id2token\n",
    "\n",
    "# parameters\n",
    "feature = 'body_bow' # lda uses bow\n",
    "corpus = df_2015[feature].values\n",
    "\n",
    "results = []\n",
    "\n",
    "for i in tqdm(range(10,31)):\n",
    "  model = LdaModel(\n",
    "    corpus = corpus,\n",
    "    id2word = id2word,\n",
    "    chunksize = 2000,\n",
    "    alpha = 'auto',\n",
    "    eta = 'auto',\n",
    "    iterations = 400,\n",
    "    num_topics = i,\n",
    "    passes = 20,\n",
    "    eval_every = None\n",
    "    )\n",
    "  cm = CoherenceModel(model=model, corpus=corpus, coherence='u_mass')\n",
    "  coherence = cm.get_coherence()\n",
    "  results.append([i,coherence])\n",
    "  \n",
    "  \n",
    "best_score = max([i[1] for i in results])\n",
    "best_num_topics = [i[0] for i in results if i[1] == best_score][0]\n",
    "sns.lineplot(x=[i[0] for i in results], y=[i[1] for i in results])\n",
    "print('Best Coherence Score: {}, Number of Topics: {}'.format(best_score, best_num_topics))"
   ]
  },
  {
   "cell_type": "markdown",
   "metadata": {},
   "source": [
    "## LDA"
   ]
  },
  {
   "cell_type": "code",
   "execution_count": 9,
   "metadata": {},
   "outputs": [],
   "source": [
    "from gensim.models import LdaModel\n",
    "\n",
    "temp = dictionary[0] # to 'load' dictionary\n",
    "id2word = dictionary.id2token\n",
    "\n",
    "# parameters\n",
    "feature = 'body_bow' # lda uses bow\n",
    "corpus = df_2015[feature].values\n",
    "num_topics = best_num_topics\n",
    "\n",
    "model_2015 = LdaModel(\n",
    "  corpus = corpus,\n",
    "  id2word = id2word,\n",
    "  chunksize = 2000,\n",
    "  alpha = 'auto',\n",
    "  eta = 'auto',\n",
    "  iterations = 400,\n",
    "  num_topics = num_topics,\n",
    "  passes = 20,\n",
    "  eval_every = None\n",
    "  )"
   ]
  },
  {
   "cell_type": "markdown",
   "metadata": {},
   "source": [
    "### LDA Visualisation"
   ]
  },
  {
   "cell_type": "code",
   "execution_count": 10,
   "metadata": {
    "scrolled": false
   },
   "outputs": [
    {
     "name": "stderr",
     "output_type": "stream",
     "text": [
      "/usr/local/lib/python3.7/site-packages/pyLDAvis/_prepare.py:257: FutureWarning: Sorting because non-concatenation axis is not aligned. A future version\n",
      "of pandas will change to not sort by default.\n",
      "\n",
      "To accept the future behavior, pass 'sort=False'.\n",
      "\n",
      "To retain the current behavior and silence the warning, pass 'sort=True'.\n",
      "\n",
      "  return pd.concat([default_term_info] + list(topic_dfs))\n"
     ]
    },
    {
     "data": {
      "text/html": [
       "\n",
       "<link rel=\"stylesheet\" type=\"text/css\" href=\"https://cdn.rawgit.com/bmabey/pyLDAvis/files/ldavis.v1.0.0.css\">\n",
       "\n",
       "\n",
       "<div id=\"ldavis_el4852455551724807053970007\"></div>\n",
       "<script type=\"text/javascript\">\n",
       "\n",
       "var ldavis_el4852455551724807053970007_data = {\"mdsDat\": {\"x\": [-0.16488384092539432, -0.07765255722830347, -0.13905968231294946, 0.08358098106305632, -0.1043994014765955, 0.14096354043843123, 0.07789028058009291, -0.20521240991823322, 0.09957784595019648, 0.1296937763961956, 0.15950146743350266], \"y\": [0.0551268998112473, 0.013633713700215974, -0.09222091476112426, 0.15195446228571108, 0.1692692498828344, 0.07288819796438348, -0.1581578592901644, -0.11738031873340463, 0.13146094627451813, -0.11070811322604297, -0.11586626390817412], \"topics\": [1, 2, 3, 4, 5, 6, 7, 8, 9, 10, 11], \"cluster\": [1, 1, 1, 1, 1, 1, 1, 1, 1, 1, 1], \"Freq\": [18.173381805419922, 12.816278457641602, 9.372718811035156, 9.267590522766113, 9.084379196166992, 9.045061111450195, 8.49492359161377, 7.113259315490723, 6.13495397567749, 5.776215553283691, 4.721232891082764]}, \"tinfo\": {\"Category\": [\"Default\", \"Default\", \"Default\", \"Default\", \"Default\", \"Default\", \"Default\", \"Default\", \"Default\", \"Default\", \"Default\", \"Default\", \"Default\", \"Default\", \"Default\", \"Default\", \"Default\", \"Default\", \"Default\", \"Default\", \"Default\", \"Default\", \"Default\", \"Default\", \"Default\", \"Default\", \"Default\", \"Default\", \"Default\", \"Default\", \"Topic1\", \"Topic1\", \"Topic1\", \"Topic1\", \"Topic1\", \"Topic1\", \"Topic1\", \"Topic1\", \"Topic1\", \"Topic1\", \"Topic1\", \"Topic1\", \"Topic1\", \"Topic1\", \"Topic1\", \"Topic1\", \"Topic1\", \"Topic1\", \"Topic1\", \"Topic1\", \"Topic1\", \"Topic1\", \"Topic1\", \"Topic1\", \"Topic1\", \"Topic1\", \"Topic1\", \"Topic1\", \"Topic1\", \"Topic1\", \"Topic1\", \"Topic1\", \"Topic1\", \"Topic1\", \"Topic1\", \"Topic1\", \"Topic1\", \"Topic1\", \"Topic1\", \"Topic1\", \"Topic1\", \"Topic1\", \"Topic1\", \"Topic1\", \"Topic1\", \"Topic1\", \"Topic1\", \"Topic1\", \"Topic1\", \"Topic1\", \"Topic1\", \"Topic1\", \"Topic1\", \"Topic1\", \"Topic1\", \"Topic1\", \"Topic1\", \"Topic1\", \"Topic1\", \"Topic1\", \"Topic1\", \"Topic1\", \"Topic1\", \"Topic1\", \"Topic1\", \"Topic1\", \"Topic1\", \"Topic1\", \"Topic1\", \"Topic1\", \"Topic1\", \"Topic1\", \"Topic1\", \"Topic2\", \"Topic2\", \"Topic2\", \"Topic2\", \"Topic2\", \"Topic2\", \"Topic2\", \"Topic2\", \"Topic2\", \"Topic2\", \"Topic2\", \"Topic2\", \"Topic2\", \"Topic2\", \"Topic2\", \"Topic2\", \"Topic2\", \"Topic2\", \"Topic2\", \"Topic2\", \"Topic2\", \"Topic2\", \"Topic2\", \"Topic2\", \"Topic2\", \"Topic2\", \"Topic2\", \"Topic2\", \"Topic2\", \"Topic2\", \"Topic2\", \"Topic2\", \"Topic2\", \"Topic2\", \"Topic2\", \"Topic2\", \"Topic2\", \"Topic2\", \"Topic2\", \"Topic2\", \"Topic2\", \"Topic2\", \"Topic2\", \"Topic2\", \"Topic2\", \"Topic2\", \"Topic2\", \"Topic2\", \"Topic2\", \"Topic2\", \"Topic2\", \"Topic2\", \"Topic2\", \"Topic2\", \"Topic2\", \"Topic2\", \"Topic2\", \"Topic2\", \"Topic2\", \"Topic2\", \"Topic2\", \"Topic2\", \"Topic2\", \"Topic2\", \"Topic2\", \"Topic3\", \"Topic3\", \"Topic3\", \"Topic3\", \"Topic3\", \"Topic3\", \"Topic3\", \"Topic3\", \"Topic3\", \"Topic3\", \"Topic3\", \"Topic3\", \"Topic3\", \"Topic3\", \"Topic3\", \"Topic3\", \"Topic3\", \"Topic3\", \"Topic3\", \"Topic3\", \"Topic3\", \"Topic3\", \"Topic3\", \"Topic3\", \"Topic3\", \"Topic3\", \"Topic3\", \"Topic3\", \"Topic3\", \"Topic3\", \"Topic3\", \"Topic3\", \"Topic3\", \"Topic3\", \"Topic3\", \"Topic3\", \"Topic3\", \"Topic3\", \"Topic3\", \"Topic3\", \"Topic3\", \"Topic3\", \"Topic3\", \"Topic3\", \"Topic3\", \"Topic3\", \"Topic3\", \"Topic3\", \"Topic3\", \"Topic3\", \"Topic3\", \"Topic3\", \"Topic3\", \"Topic3\", \"Topic3\", \"Topic3\", \"Topic3\", \"Topic3\", \"Topic3\", \"Topic3\", \"Topic3\", \"Topic3\", \"Topic3\", \"Topic3\", \"Topic3\", \"Topic3\", \"Topic3\", \"Topic3\", \"Topic3\", \"Topic4\", \"Topic4\", \"Topic4\", \"Topic4\", \"Topic4\", \"Topic4\", \"Topic4\", \"Topic4\", \"Topic4\", \"Topic4\", \"Topic4\", \"Topic4\", \"Topic4\", \"Topic4\", \"Topic4\", \"Topic4\", \"Topic4\", \"Topic4\", \"Topic4\", \"Topic4\", \"Topic4\", \"Topic4\", \"Topic4\", \"Topic4\", \"Topic4\", \"Topic4\", \"Topic4\", \"Topic4\", \"Topic4\", \"Topic4\", \"Topic4\", \"Topic4\", \"Topic4\", \"Topic4\", \"Topic4\", \"Topic4\", \"Topic4\", \"Topic4\", \"Topic4\", \"Topic4\", \"Topic4\", \"Topic4\", \"Topic4\", \"Topic4\", \"Topic4\", \"Topic4\", \"Topic4\", \"Topic4\", \"Topic4\", \"Topic4\", \"Topic4\", \"Topic4\", \"Topic4\", \"Topic4\", \"Topic4\", \"Topic4\", \"Topic4\", \"Topic4\", \"Topic4\", \"Topic4\", \"Topic4\", \"Topic4\", \"Topic4\", \"Topic4\", \"Topic4\", \"Topic4\", \"Topic4\", \"Topic4\", \"Topic4\", \"Topic4\", \"Topic4\", \"Topic4\", \"Topic4\", \"Topic4\", \"Topic4\", \"Topic4\", \"Topic4\", \"Topic4\", \"Topic4\", \"Topic4\", \"Topic4\", \"Topic4\", \"Topic5\", \"Topic5\", \"Topic5\", \"Topic5\", \"Topic5\", \"Topic5\", \"Topic5\", \"Topic5\", \"Topic5\", \"Topic5\", \"Topic5\", \"Topic5\", \"Topic5\", \"Topic5\", \"Topic5\", \"Topic5\", \"Topic5\", \"Topic5\", \"Topic5\", \"Topic5\", \"Topic5\", \"Topic5\", \"Topic5\", \"Topic5\", \"Topic5\", \"Topic5\", \"Topic5\", \"Topic5\", \"Topic5\", \"Topic5\", \"Topic5\", \"Topic5\", \"Topic5\", \"Topic5\", \"Topic5\", \"Topic5\", \"Topic5\", \"Topic5\", \"Topic5\", \"Topic5\", \"Topic5\", \"Topic5\", \"Topic5\", \"Topic5\", \"Topic5\", \"Topic5\", \"Topic5\", \"Topic5\", \"Topic5\", \"Topic5\", \"Topic5\", \"Topic5\", \"Topic5\", \"Topic5\", \"Topic5\", \"Topic5\", \"Topic5\", \"Topic5\", \"Topic5\", \"Topic5\", \"Topic5\", \"Topic5\", \"Topic5\", \"Topic5\", \"Topic5\", \"Topic5\", \"Topic5\", \"Topic5\", \"Topic5\", \"Topic5\", \"Topic5\", \"Topic5\", \"Topic5\", \"Topic5\", \"Topic5\", \"Topic5\", \"Topic5\", \"Topic5\", \"Topic5\", \"Topic5\", \"Topic5\", \"Topic6\", \"Topic6\", \"Topic6\", \"Topic6\", \"Topic6\", \"Topic6\", \"Topic6\", \"Topic6\", \"Topic6\", \"Topic6\", \"Topic6\", \"Topic6\", \"Topic6\", \"Topic6\", \"Topic6\", \"Topic6\", \"Topic6\", \"Topic6\", \"Topic6\", \"Topic6\", \"Topic6\", \"Topic6\", \"Topic6\", \"Topic6\", \"Topic6\", \"Topic6\", \"Topic6\", \"Topic6\", \"Topic6\", \"Topic6\", \"Topic6\", \"Topic6\", \"Topic6\", \"Topic6\", \"Topic6\", \"Topic6\", \"Topic6\", \"Topic6\", \"Topic6\", \"Topic6\", \"Topic6\", \"Topic6\", \"Topic6\", \"Topic6\", \"Topic6\", \"Topic6\", \"Topic6\", \"Topic6\", \"Topic6\", \"Topic6\", \"Topic6\", \"Topic6\", \"Topic6\", \"Topic6\", \"Topic6\", \"Topic6\", \"Topic6\", \"Topic6\", \"Topic6\", \"Topic6\", \"Topic6\", \"Topic6\", \"Topic6\", \"Topic6\", \"Topic6\", \"Topic6\", \"Topic6\", \"Topic6\", \"Topic6\", \"Topic6\", \"Topic6\", \"Topic6\", \"Topic6\", \"Topic6\", \"Topic6\", \"Topic6\", \"Topic6\", \"Topic6\", \"Topic6\", \"Topic6\", \"Topic7\", \"Topic7\", \"Topic7\", \"Topic7\", \"Topic7\", \"Topic7\", \"Topic7\", \"Topic7\", \"Topic7\", \"Topic7\", \"Topic7\", \"Topic7\", \"Topic7\", \"Topic7\", \"Topic7\", \"Topic7\", \"Topic7\", \"Topic7\", \"Topic7\", \"Topic7\", \"Topic7\", \"Topic7\", \"Topic7\", \"Topic7\", \"Topic7\", \"Topic7\", \"Topic7\", \"Topic7\", \"Topic7\", \"Topic7\", \"Topic7\", \"Topic7\", \"Topic7\", \"Topic7\", \"Topic7\", \"Topic7\", \"Topic7\", \"Topic7\", \"Topic7\", \"Topic7\", \"Topic7\", \"Topic7\", \"Topic7\", \"Topic7\", \"Topic7\", \"Topic7\", \"Topic7\", \"Topic7\", \"Topic7\", \"Topic7\", \"Topic7\", \"Topic7\", \"Topic7\", \"Topic7\", \"Topic7\", \"Topic7\", \"Topic7\", \"Topic7\", \"Topic7\", \"Topic7\", \"Topic7\", \"Topic7\", \"Topic7\", \"Topic7\", \"Topic7\", \"Topic7\", \"Topic7\", \"Topic7\", \"Topic7\", \"Topic7\", \"Topic7\", \"Topic7\", \"Topic7\", \"Topic7\", \"Topic7\", \"Topic7\", \"Topic7\", \"Topic7\", \"Topic7\", \"Topic7\", \"Topic7\", \"Topic7\", \"Topic7\", \"Topic7\", \"Topic8\", \"Topic8\", \"Topic8\", \"Topic8\", \"Topic8\", \"Topic8\", \"Topic8\", \"Topic8\", \"Topic8\", \"Topic8\", \"Topic8\", \"Topic8\", \"Topic8\", \"Topic8\", \"Topic8\", \"Topic8\", \"Topic8\", \"Topic8\", \"Topic8\", \"Topic8\", \"Topic8\", \"Topic8\", \"Topic8\", \"Topic8\", \"Topic8\", \"Topic8\", \"Topic8\", \"Topic8\", \"Topic8\", \"Topic8\", \"Topic8\", \"Topic8\", \"Topic8\", \"Topic8\", \"Topic8\", \"Topic8\", \"Topic8\", \"Topic8\", \"Topic8\", \"Topic8\", \"Topic8\", \"Topic8\", \"Topic8\", \"Topic8\", \"Topic8\", \"Topic8\", \"Topic8\", \"Topic8\", \"Topic8\", \"Topic8\", \"Topic8\", \"Topic8\", \"Topic8\", \"Topic8\", \"Topic8\", \"Topic8\", \"Topic8\", \"Topic8\", \"Topic8\", \"Topic8\", \"Topic8\", \"Topic8\", \"Topic8\", \"Topic8\", \"Topic8\", \"Topic8\", \"Topic8\", \"Topic8\", \"Topic8\", \"Topic8\", \"Topic8\", \"Topic9\", \"Topic9\", \"Topic9\", \"Topic9\", \"Topic9\", \"Topic9\", \"Topic9\", \"Topic9\", \"Topic9\", \"Topic9\", \"Topic9\", \"Topic9\", \"Topic9\", \"Topic9\", \"Topic9\", \"Topic9\", \"Topic9\", \"Topic9\", \"Topic9\", \"Topic9\", \"Topic9\", \"Topic9\", \"Topic9\", \"Topic9\", \"Topic9\", \"Topic9\", \"Topic9\", \"Topic9\", \"Topic9\", \"Topic9\", \"Topic9\", \"Topic9\", \"Topic9\", \"Topic9\", \"Topic9\", \"Topic9\", \"Topic9\", \"Topic9\", \"Topic9\", \"Topic9\", \"Topic9\", \"Topic9\", \"Topic9\", \"Topic9\", \"Topic9\", \"Topic9\", \"Topic9\", \"Topic9\", \"Topic9\", \"Topic9\", \"Topic9\", \"Topic9\", \"Topic9\", \"Topic9\", \"Topic9\", \"Topic9\", \"Topic9\", \"Topic9\", \"Topic9\", \"Topic9\", \"Topic9\", \"Topic9\", \"Topic9\", \"Topic9\", \"Topic9\", \"Topic9\", \"Topic9\", \"Topic9\", \"Topic9\", \"Topic9\", \"Topic10\", \"Topic10\", \"Topic10\", \"Topic10\", \"Topic10\", \"Topic10\", \"Topic10\", \"Topic10\", \"Topic10\", \"Topic10\", \"Topic10\", \"Topic10\", \"Topic10\", \"Topic10\", \"Topic10\", \"Topic10\", \"Topic10\", \"Topic10\", \"Topic10\", \"Topic10\", \"Topic10\", \"Topic10\", \"Topic10\", \"Topic10\", \"Topic10\", \"Topic10\", \"Topic10\", \"Topic10\", \"Topic10\", \"Topic10\", \"Topic10\", \"Topic10\", \"Topic10\", \"Topic10\", \"Topic10\", \"Topic10\", \"Topic10\", \"Topic10\", \"Topic10\", \"Topic10\", \"Topic10\", \"Topic10\", \"Topic10\", \"Topic10\", \"Topic10\", \"Topic10\", \"Topic10\", \"Topic10\", \"Topic10\", \"Topic10\", \"Topic10\", \"Topic10\", \"Topic10\", \"Topic10\", \"Topic10\", \"Topic10\", \"Topic10\", \"Topic10\", \"Topic10\", \"Topic10\", \"Topic10\", \"Topic10\", \"Topic10\", \"Topic10\", \"Topic10\", \"Topic10\", \"Topic10\", \"Topic10\", \"Topic10\", \"Topic10\", \"Topic10\", \"Topic10\", \"Topic10\", \"Topic10\", \"Topic10\", \"Topic10\", \"Topic10\", \"Topic10\", \"Topic10\", \"Topic10\", \"Topic10\", \"Topic11\", \"Topic11\", \"Topic11\", \"Topic11\", \"Topic11\", \"Topic11\", \"Topic11\", \"Topic11\", \"Topic11\", \"Topic11\", \"Topic11\", \"Topic11\", \"Topic11\", \"Topic11\", \"Topic11\", \"Topic11\", \"Topic11\", \"Topic11\", \"Topic11\", \"Topic11\", \"Topic11\", \"Topic11\", \"Topic11\", \"Topic11\", \"Topic11\", \"Topic11\", \"Topic11\", \"Topic11\", \"Topic11\", \"Topic11\", \"Topic11\", \"Topic11\", \"Topic11\", \"Topic11\", \"Topic11\", \"Topic11\", \"Topic11\", \"Topic11\", \"Topic11\", \"Topic11\", \"Topic11\", \"Topic11\", \"Topic11\", \"Topic11\", \"Topic11\", \"Topic11\", \"Topic11\", \"Topic11\", \"Topic11\", \"Topic11\", \"Topic11\", \"Topic11\", \"Topic11\", \"Topic11\", \"Topic11\", \"Topic11\", \"Topic11\", \"Topic11\"], \"Freq\": [17050.0, 6376.0, 4336.0, 5804.0, 5225.0, 8724.0, 3543.0, 4348.0, 5621.0, 7900.0, 1698.0, 3174.0, 5019.0, 1827.0, 6260.0, 2551.0, 2161.0, 6765.0, 1834.0, 1417.0, 2151.0, 1358.0, 1772.0, 2250.0, 2387.0, 1464.0, 2195.0, 1395.0, 7983.0, 2136.0, 1482.223876953125, 693.6282958984375, 460.39080810546875, 418.5719299316406, 407.250244140625, 376.44427490234375, 334.0393371582031, 336.914794921875, 324.8780822753906, 288.65399169921875, 265.8363952636719, 260.217529296875, 257.0858459472656, 1154.8497314453125, 210.5922088623047, 1401.9241943359375, 203.58200073242188, 520.5150756835938, 187.98146057128906, 177.982666015625, 174.83714294433594, 170.1260528564453, 159.11619567871094, 150.63565063476562, 134.0524139404297, 124.64840698242188, 116.27606964111328, 112.084228515625, 109.09574127197266, 107.24435424804688, 5091.9931640625, 304.03778076171875, 500.9285583496094, 359.4497985839844, 2040.8642578125, 560.0430908203125, 356.2083740234375, 676.842041015625, 4860.48193359375, 527.7969360351562, 1793.51123046875, 3260.184814453125, 986.7592163085938, 603.6253051757812, 1168.1224365234375, 1478.6397705078125, 754.0068359375, 2149.791259765625, 1708.802001953125, 784.47265625, 1919.7645263671875, 979.7989501953125, 974.1199951171875, 599.072509765625, 826.7791137695312, 1227.4593505859375, 989.572265625, 4125.75634765625, 1774.298095703125, 1054.1234130859375, 2059.026123046875, 1386.494873046875, 1408.364501953125, 931.6759643554688, 1374.3887939453125, 1134.8018798828125, 1472.1519775390625, 1235.40185546875, 1180.37353515625, 1312.513427734375, 1307.36865234375, 1160.2088623046875, 1083.3878173828125, 1714.770751953125, 1511.319091796875, 1339.2303466796875, 1133.4031982421875, 839.6387939453125, 720.7758178710938, 713.0712280273438, 660.4877319335938, 458.0990905761719, 442.45709228515625, 658.311279296875, 316.878173828125, 306.6177978515625, 291.8734130859375, 266.3870544433594, 235.5949249267578, 221.59991455078125, 216.04798889160156, 190.99758911132812, 190.8236846923828, 205.84146118164062, 170.79090881347656, 165.75099182128906, 159.30320739746094, 153.368896484375, 150.37489318847656, 138.60012817382812, 136.71592712402344, 132.7165985107422, 119.50605010986328, 1580.3695068359375, 654.4845581054688, 291.31781005859375, 987.5252685546875, 227.6916046142578, 1948.41796875, 997.2116088867188, 243.77757263183594, 5439.73876953125, 1274.9052734375, 978.1287231445312, 747.0140991210938, 1224.3878173828125, 482.8717956542969, 407.03955078125, 753.8853149414062, 1337.0391845703125, 1370.3607177734375, 985.134033203125, 1589.9459228515625, 1019.2905883789062, 1015.4097900390625, 4156.46728515625, 2556.844482421875, 2540.51708984375, 1333.1458740234375, 2868.954833984375, 1443.71875, 1535.549072265625, 1400.359375, 1425.082275390625, 1077.6107177734375, 1230.24462890625, 1345.3134765625, 1043.615966796875, 732.326416015625, 676.7195434570312, 509.06243896484375, 460.1799011230469, 540.4832763671875, 357.5160217285156, 342.10443115234375, 334.8966369628906, 268.0767822265625, 294.6214599609375, 229.57911682128906, 225.53195190429688, 220.5986785888672, 189.97695922851562, 189.3509521484375, 183.83949279785156, 182.70494079589844, 163.71649169921875, 163.16114807128906, 148.6012725830078, 148.09219360351562, 146.3467559814453, 146.12290954589844, 142.27114868164062, 132.31570434570312, 131.3458709716797, 141.238525390625, 127.63217163085938, 127.15399169921875, 122.76061248779297, 470.99066162109375, 272.947998046875, 3348.06494140625, 454.8283386230469, 1395.2457275390625, 3383.403076171875, 531.5655517578125, 294.05218505859375, 585.1876220703125, 224.24583435058594, 312.11993408203125, 1773.19091796875, 669.90771484375, 610.1138916015625, 662.1983032226562, 1200.50634765625, 460.3466491699219, 969.5426025390625, 407.04534912109375, 4733.93212890625, 658.4365234375, 499.52178955078125, 874.9755249023438, 527.1082763671875, 1353.7677001953125, 576.3046264648438, 1270.78955078125, 802.3863525390625, 657.2354125976562, 1240.8912353515625, 637.2484130859375, 793.3622436523438, 891.208740234375, 588.1151733398438, 702.6294555664062, 613.30322265625, 643.0081787109375, 628.9476928710938, 566.880126953125, 138.25514221191406, 123.50867462158203, 112.64851379394531, 116.52867126464844, 86.73050689697266, 84.2450180053711, 78.38640594482422, 75.97026824951172, 85.4837646484375, 64.98481750488281, 64.94473266601562, 58.10651397705078, 58.74094009399414, 55.17514419555664, 50.20499801635742, 48.12236404418945, 47.65058135986328, 46.498634338378906, 45.18134689331055, 44.90071105957031, 44.797916412353516, 43.29342269897461, 42.77252197265625, 42.46333694458008, 42.37747573852539, 41.570980072021484, 40.67485809326172, 40.499324798583984, 39.282562255859375, 38.92156219482422, 174.80560302734375, 140.4280548095703, 57.77342987060547, 797.14453125, 260.58782958984375, 303.061279296875, 425.3915710449219, 132.54136657714844, 329.9201354980469, 140.61492919921875, 96.4302749633789, 76.24880981445312, 632.6729125976562, 341.9576110839844, 226.82534790039062, 1235.81494140625, 725.322021484375, 539.4867553710938, 183.3045196533203, 677.8370361328125, 331.3177185058594, 576.493408203125, 732.21484375, 571.1610717773438, 291.35565185546875, 732.776611328125, 963.6857299804688, 432.42718505859375, 1106.9459228515625, 1193.70458984375, 1000.5770874023438, 1945.54638671875, 2252.900146484375, 327.3032531738281, 902.1039428710938, 428.9714050292969, 682.9074096679688, 819.263916015625, 505.7164306640625, 562.5691528320312, 568.7852172851562, 1078.1741943359375, 470.9288635253906, 838.486328125, 683.46337890625, 627.5924682617188, 848.8742065429688, 716.1154174804688, 877.455078125, 729.4486083984375, 593.190673828125, 700.334716796875, 351.6321716308594, 321.6814270019531, 465.3016662597656, 236.25035095214844, 241.58677673339844, 198.2318115234375, 136.2422637939453, 121.2114486694336, 116.98615264892578, 93.58983612060547, 92.67234802246094, 90.60696411132812, 90.60696411132812, 89.76701354980469, 87.4341049194336, 85.53093719482422, 85.11151123046875, 97.6195297241211, 78.18122863769531, 64.75553894042969, 119.7945327758789, 62.343631744384766, 61.75751495361328, 61.731964111328125, 61.71861267089844, 60.41600799560547, 59.74404525756836, 59.746238708496094, 59.40238571166992, 209.1862030029297, 401.6426696777344, 606.7197265625, 149.350341796875, 108.12955474853516, 185.6456298828125, 121.64350128173828, 972.0009765625, 80.14435577392578, 234.7847442626953, 133.8895263671875, 510.2651062011719, 169.8755645751953, 236.88986206054688, 161.61741638183594, 177.0054168701172, 759.30078125, 1229.432373046875, 240.0821533203125, 359.200927734375, 818.7371215820312, 443.8288879394531, 2680.69384765625, 265.78192138671875, 647.9646606445312, 1382.4061279296875, 1858.4990234375, 800.6131591796875, 429.70062255859375, 945.8252563476562, 920.077880859375, 705.205078125, 1067.248779296875, 465.46441650390625, 764.13916015625, 631.8218994140625, 666.4279174804688, 514.3017578125, 536.7923583984375, 1037.426025390625, 665.8547973632812, 609.0038452148438, 515.6492309570312, 574.366943359375, 571.260498046875, 678.5142822265625, 546.7171630859375, 623.7229614257812, 603.4466552734375, 608.0327758789062, 557.876953125, 540.0528564453125, 197.4293670654297, 188.25965881347656, 144.03831481933594, 117.79067993164062, 113.7991943359375, 110.12850952148438, 98.15499877929688, 97.89207458496094, 1755.7015380859375, 93.53722381591797, 322.30206298828125, 78.0945053100586, 203.18304443359375, 75.23287200927734, 75.15565490722656, 167.33428955078125, 93.39736938476562, 71.33466339111328, 70.36317443847656, 291.4357604980469, 68.23138427734375, 67.99868774414062, 64.88185119628906, 62.43071746826172, 187.59103393554688, 59.23554229736328, 58.982818603515625, 58.8714485168457, 58.42780303955078, 58.140506744384766, 723.02392578125, 195.51641845703125, 388.2130432128906, 404.90960693359375, 163.17620849609375, 199.79600524902344, 86.41419219970703, 119.27854919433594, 164.49630737304688, 356.6609802246094, 409.2807922363281, 143.08502197265625, 285.808349609375, 495.7886962890625, 640.2249755859375, 1285.0311279296875, 308.3122863769531, 1455.705078125, 602.2739868164062, 193.0703125, 429.59130859375, 254.9613037109375, 695.0398559570312, 791.679931640625, 488.9717712402344, 477.63916015625, 458.744140625, 563.2545776367188, 766.076416015625, 965.369873046875, 778.0081176757812, 466.3355712890625, 1150.020263671875, 1345.1116943359375, 553.9344482421875, 719.3502807617188, 935.2055053710938, 684.6636962890625, 982.6168212890625, 603.5443115234375, 878.4094848632812, 638.9055786132812, 621.4542236328125, 496.3310852050781, 603.8184814453125, 645.1844482421875, 549.7562255859375, 545.3687744140625, 510.4780578613281, 497.5992736816406, 337.22174072265625, 217.1605682373047, 189.81423950195312, 155.78314208984375, 125.74748229980469, 118.31318664550781, 116.52137756347656, 113.56201934814453, 1819.8358154296875, 96.86078643798828, 94.73103332519531, 91.88818359375, 90.84478759765625, 84.310302734375, 140.60108947753906, 80.05950164794922, 78.1679916381836, 75.77909088134766, 75.55838775634766, 75.32987213134766, 74.300048828125, 71.36399841308594, 70.63703918457031, 197.8151092529297, 65.23912048339844, 65.14611053466797, 63.45691680908203, 62.583194732666016, 60.784873962402344, 60.25199890136719, 290.6067810058594, 159.59039306640625, 196.66070556640625, 168.3919677734375, 141.04356384277344, 293.7238464355469, 447.21099853515625, 226.48895263671875, 632.5848388671875, 163.60003662109375, 215.89324951171875, 192.03106689453125, 1932.6409912109375, 1072.186767578125, 150.2586212158203, 329.4209899902344, 298.9330749511719, 353.97418212890625, 258.7239685058594, 1366.5008544921875, 399.24212646484375, 388.1677551269531, 897.0323486328125, 231.71925354003906, 696.5181884765625, 218.7151641845703, 285.0731506347656, 269.53570556640625, 532.8074340820312, 1276.810791015625, 472.4087219238281, 1124.9957275390625, 677.5879516601562, 709.6338500976562, 532.3721923828125, 680.3502807617188, 545.6107177734375, 605.2941284179688, 799.5147094726562, 466.3285217285156, 403.9130554199219, 365.7656555175781, 1059.3585205078125, 640.3175659179688, 524.0563354492188, 498.0746154785156, 774.8248901367188, 687.5970458984375, 551.414794921875, 631.0419311523438, 584.7809448242188, 552.1476440429688, 534.3969116210938, 502.7817687988281, 465.4670715332031, 280.7646179199219, 239.2041778564453, 199.10232543945312, 199.10232543945312, 185.6997528076172, 185.6997528076172, 185.49464416503906, 170.25848388671875, 157.4391326904297, 133.81956481933594, 128.71170043945312, 124.7087631225586, 114.64147186279297, 114.39379119873047, 111.92723083496094, 103.77272033691406, 102.44075012207031, 100.9102554321289, 100.36096954345703, 88.0534896850586, 84.38220977783203, 83.52268981933594, 81.35816955566406, 83.58108520507812, 79.8831787109375, 78.34491729736328, 76.26517486572266, 74.12883758544922, 73.99234771728516, 503.355712890625, 387.3162536621094, 426.04254150390625, 399.3990783691406, 270.201171875, 343.7550964355469, 3859.085693359375, 326.02874755859375, 454.8728332519531, 270.69580078125, 687.931884765625, 246.8724822998047, 1242.0098876953125, 311.0058288574219, 794.8432006835938, 404.8121337890625, 207.87905883789062, 8148.587890625, 270.84521484375, 1696.3853759765625, 680.0888671875, 512.2952270507812, 609.8521118164062, 543.1947021484375, 757.4909057617188, 601.7290649414062, 760.0816040039062, 616.5040283203125, 985.845947265625, 814.0308837890625, 1020.3890380859375, 862.3648681640625, 422.76361083984375, 512.9588623046875, 455.280029296875, 529.3140869140625, 491.2048645019531, 532.9403076171875, 508.3923034667969, 465.0326232910156, 426.2540283203125, 1096.561767578125, 292.486572265625, 276.3057556152344, 268.6337585449219, 222.31460571289062, 175.38864135742188, 143.56748962402344, 128.7920379638672, 119.42512512207031, 116.013916015625, 109.7691879272461, 108.71244049072266, 104.97453308105469, 90.0598373413086, 81.74929809570312, 78.18605041503906, 74.47416687011719, 73.92156982421875, 70.56363677978516, 66.552734375, 65.12335205078125, 63.51220703125, 63.030174255371094, 61.30073928833008, 60.3003044128418, 60.1376953125, 59.84748458862305, 57.63668441772461, 57.19279098510742, 54.684173583984375, 357.4480285644531, 396.011474609375, 1392.3446044921875, 844.1055908203125, 178.64910888671875, 136.23472595214844, 229.91763305664062, 220.81936645507812, 181.84951782226562, 274.0654296875, 535.8211669921875, 443.3213806152344, 1313.5997314453125, 817.6179809570312, 1280.402099609375, 335.006591796875, 468.4601745605469, 401.61761474609375, 1165.4967041015625, 2182.2275390625, 2472.268798828125, 351.7984924316406, 639.4334106445312, 418.2119140625, 794.7880859375, 507.6822204589844, 1234.7022705078125, 713.8984375, 728.9122314453125, 523.201904296875, 428.80657958984375, 505.0812072753906, 557.1640014648438, 361.6461181640625, 430.1087341308594, 485.0485534667969, 469.894775390625, 460.0868835449219, 428.6236572265625, 398.615478515625, 194.7168426513672, 164.23939514160156, 152.25216674804688, 123.26050567626953, 153.71849060058594, 146.26966857910156, 94.78289031982422, 86.43107604980469, 85.98342895507812, 83.81940460205078, 80.36042022705078, 74.2650375366211, 70.24869537353516, 67.13077545166016, 66.52008819580078, 65.89571380615234, 65.59571838378906, 65.1834487915039, 63.34680938720703, 61.886924743652344, 60.430137634277344, 59.98712158203125, 59.43391418457031, 58.41696548461914, 54.00236511230469, 52.82221603393555, 480.62335205078125, 52.347023010253906, 49.08331298828125, 47.99687576293945, 325.88385009765625, 485.13262939453125, 121.71712493896484, 102.79403686523438, 423.40789794921875, 174.31423950195312, 86.37875366210938, 160.92904663085938, 152.1962890625, 147.02015686035156, 123.96358489990234, 357.1511535644531, 738.9015502929688, 114.21869659423828, 371.6288146972656, 180.5242462158203, 260.6792297363281, 144.3692626953125, 597.9489135742188, 1338.28759765625, 225.4938507080078, 260.5294494628906, 116.61263275146484, 652.7091064453125, 268.67926025390625, 446.7055969238281, 541.7389526367188, 282.510986328125, 334.72113037109375, 237.4988250732422, 352.22808837890625, 270.63385009765625, 320.0726013183594, 557.4560546875, 1020.6831665039062, 339.3309020996094, 901.7022094726562, 401.1629638671875, 338.9167785644531, 341.03582763671875, 320.546142578125, 509.7895202636719, 477.88153076171875, 391.6838073730469, 405.5604248046875, 412.119140625, 354.20697021484375, 354.32891845703125, 381.0034484863281, 375.39959716796875, 348.1880798339844, 1697.2489013671875, 1416.240234375, 1357.9459228515625, 731.224853515625, 729.89501953125, 527.5217895507812, 386.5505676269531, 374.41253662109375, 373.15234375, 302.82666015625, 296.5763854980469, 290.4137878417969, 269.2618408203125, 256.60662841796875, 250.13734436035156, 201.74229431152344, 205.06236267089844, 184.61886596679688, 167.55177307128906, 154.85806274414062, 112.07783508300781, 108.77684783935547, 104.71105194091797, 101.90733337402344, 99.38317108154297, 98.1468505859375, 97.13867950439453, 93.64022827148438, 88.73255920410156, 84.6021957397461, 1183.7344970703125, 1281.8212890625, 256.1565246582031, 1471.656005859375, 362.1513977050781, 155.72909545898438, 458.5825500488281, 157.31504821777344, 614.758544921875, 358.42059326171875, 333.3453369140625, 566.1431274414062, 910.6097412109375, 547.4073486328125, 479.77276611328125, 839.9893188476562, 962.655517578125, 622.6542358398438, 620.3006591796875, 526.1439208984375, 362.1524353027344, 631.1587524414062, 467.8040771484375, 581.23828125, 416.73992919921875, 523.41796875, 453.1839599609375, 388.41015625], \"Term\": [\"north\", \"party\", \"nuclear\", \"percent\", \"japan\", \"park\", \"defense\", \"military\", \"china\", \"government\", \"mers\", \"pyongyang\", \"president\", \"health\", \"ministry\", \"missile\", \"police\", \"kim\", \"court\", \"patient\", \"education\", \"disease\", \"child\", \"school\", \"case\", \"labor\", \"city\", \"hospital\", \"country\", \"student\", \"abe\", \"world_war\", \"shinzo\", \"atrocity\", \"dokdo\", \"japanese_prime\", \"minister_shinzo\", \"aiib\", \"seoul_tokyo\", \"comfort_woman\", \"sexual_slavery\", \"enslavement\", \"islet\", \"beijing\", \"sexual_enslavement\", \"tokyo\", \"sex_slave\", \"slavery\", \"kaesong\", \"sex_slavery\", \"sovereignty\", \"japan_wartime\", \"diplomatic_source\", \"wartime_atrocity\", \"frayed\", \"shinzo_abe\", \"trilateral_summit\", \"liu\", \"world_heritage\", \"putin\", \"japan\", \"strained\", \"colonial\", \"territorial\", \"japanese\", \"historical\", \"comfort\", \"wartime\", \"china\", \"trilateral\", \"relation\", \"issue\", \"diplomatic\", \"apology\", \"tie\", \"chinese\", \"foreign_ministry\", \"talk\", \"war\", \"dialogue\", \"foreign\", \"bilateral\", \"summit\", \"unification\", \"anniversary\", \"visit\", \"statement\", \"north\", \"minister\", \"washington\", \"two\", \"world\", \"meeting\", \"history\", \"south_korean\", \"security\", \"country\", \"state\", \"would\", \"official\", \"park\", \"ministry\", \"government\", \"saenuri\", \"rep\", \"election\", \"npad\", \"main_opposition\", \"new_politics\", \"alliance_democracy\", \"saenuri_party\", \"moo\", \"vote\", \"ruling_saenuri\", \"moon_jae\", \"roh\", \"opposition_party\", \"floor_leader\", \"nomination\", \"kim_moo\", \"rival_party\", \"general_election\", \"nominee\", \"presidential_election\", \"voter\", \"rep_kim\", \"resign\", \"faction\", \"rep_lee\", \"parliamentary_election\", \"opposition_lawmaker\", \"rep_yoo\", \"leader_rep\", \"lawmaker\", \"ruling_party\", \"former_president\", \"parliamentary\", \"governing\", \"opposition\", \"politics\", \"resignation\", \"party\", \"moon\", \"democracy\", \"scandal\", \"bill\", \"aide\", \"candidate\", \"national_assembly\", \"presidential\", \"sung\", \"chung\", \"ruling\", \"assembly\", \"main\", \"park\", \"lee\", \"president\", \"political\", \"kim\", \"former\", \"leader\", \"national\", \"new\", \"president_park\", \"public\", \"minister\", \"would\", \"thaad\", \"drill\", \"deployment\", \"defense_ministry\", \"reunion\", \"defense_minister\", \"carter\", \"missile_defense\", \"altitude\", \"commander\", \"artillery\", \"readiness\", \"gen\", \"balloon\", \"joint_military\", \"anti_pyongyang\", \"han_min\", \"land_mine\", \"demilitarized\", \"defense_system\", \"truce\", \"demilitarized_zone\", \"family_reunion\", \"dmz\", \"terminal_high\", \"altitude_area\", \"separated_family\", \"jcs\", \"posture\", \"eagle\", \"leaflet\", \"air_force\", \"defense\", \"command\", \"border\", \"military\", \"army\", \"naval\", \"submarine\", \"battery\", \"fighter\", \"missile\", \"exercise\", \"troop\", \"provocation\", \"force\", \"navy\", \"threat\", \"cross\", \"north\", \"air\", \"soldier\", \"joint\", \"capability\", \"south_korean\", \"tension\", \"two\", \"system\", \"inter\", \"official\", \"attack\", \"war\", \"ministry\", \"inter_korean\", \"pyongyang\", \"family\", \"plan\", \"security\", \"peninsula\", \"investor\", \"kuwait\", \"electricity\", \"world_bank\", \"drought\", \"greece\", \"senior_citizen\", \"oda\", \"manufacturer\", \"qatar\", \"pyeongchang\", \"pig\", \"resource_development\", \"central_bank\", \"flood\", \"financial_institution\", \"water_management\", \"bolivia\", \"recycling\", \"banking\", \"app\", \"development_assistance\", \"diesel\", \"pac\", \"imported\", \"yuan\", \"egypt\", \"livestock\", \"start_ups\", \"boomer\", \"import\", \"shortage\", \"polish\", \"bank\", \"loan\", \"oil\", \"product\", \"forest\", \"export\", \"data_showed\", \"pakistan\", \"development_project\", \"investment\", \"price\", \"sale\", \"billion\", \"industry\", \"trillion\", \"production\", \"energy\", \"resource\", \"data\", \"technology\", \"financial\", \"tourism\", \"market\", \"project\", \"growth\", \"company\", \"million\", \"development\", \"percent\", \"country\", \"food\", \"number\", \"research\", \"trade\", \"last_year\", \"firm\", \"economy\", \"business\", \"last\", \"total\", \"according\", \"international\", \"economic\", \"ministry\", \"foreign\", \"government\", \"new\", \"report\", \"china\", \"climate_change\", \"free_trade\", \"climate\", \"peru\", \"asean\", \"colombia\", \"eurasia\", \"bird\", \"danish\", \"colombian\", \"sierra\", \"leone\", \"sierra_leone\", \"berlin\", \"continent\", \"special_pardon\", \"tpp\", \"czech\", \"kee\", \"kazakhstan\", \"sustainable_development\", \"rajin\", \"ratification\", \"knife_attack\", \"peruvian\", \"flu\", \"eurasia_initiative\", \"euro\", \"lao\", \"joel_heraldcorp\", \"joel_lee\", \"joel\", \"brazil\", \"memorandum\", \"india\", \"chile\", \"ambassador\", \"indian\", \"paris\", \"reception\", \"forum\", \"railway\", \"sustainable\", \"african\", \"ebola\", \"global\", \"cooperation\", \"europe\", \"partnership\", \"trade\", \"embassy\", \"park\", \"america\", \"event\", \"president\", \"country\", \"economic\", \"free\", \"world\", \"meeting\", \"development\", \"minister\", \"conference\", \"nation\", \"held\", \"visit\", \"asia\", \"summit\", \"two\", \"international\", \"president_park\", \"bilateral\", \"hye\", \"geun\", \"day\", \"geun_hye\", \"foreign\", \"new\", \"south_korean\", \"plan\", \"leader\", \"married\", \"smoking\", \"gender_equality\", \"tobacco\", \"multicultural\", \"kid\", \"olympic\", \"depression\", \"child\", \"campus\", \"marriage\", \"disorder\", \"baby\", \"olympics\", \"sleep\", \"day_care\", \"meal\", \"classroom\", \"athlete\", \"gender\", \"addiction\", \"swimming\", \"ireland\", \"translation\", \"wedding\", \"smoker\", \"irish\", \"foreign_language\", \"single_parent\", \"educated\", \"parent\", \"child_care\", \"language\", \"mother\", \"disabled\", \"festival\", \"disability\", \"30\", \"equality\", \"english\", \"men\", \"learning\", \"aged\", \"university\", \"care\", \"student\", \"elderly\", \"woman\", \"study\", \"born\", \"society\", \"art\", \"life\", \"sniversity\", \"culture\", \"herald\", \"korea_herald\", \"like\", \"many\", \"school\", \"work\", \"professor\", \"one\", \"percent\", \"young\", \"education\", \"time\", \"family\", \"lee\", \"center\", \"people\", \"com\", \"heraldcorp\", \"even\", \"according\", \"kim\", \"number\", \"would\", \"day\", \"among\", \"arrested\", \"murder\", \"rape\", \"guilty\", \"asylum\", \"child_abuse\", \"detention\", \"hostage\", \"court\", \"freedom_expression\", \"justice_ministry\", \"punished\", \"attorney\", \"harassment\", \"testimony\", \"sex_crime\", \"offender\", \"police_station\", \"verdict\", \"petition\", \"asylum_seeker\", \"defendant\", \"found_guilty\", \"jail\", \"sexual_harassment\", \"acquitted\", \"top_court\", \"plaintiff\", \"wrist\", \"gunman\", \"filed\", \"sentence\", \"district_court\", \"lawsuit\", \"police_agency\", \"arrest\", \"abuse\", \"indicted\", \"crime\", \"knife\", \"seoul_central\", \"supreme_court\", \"police\", \"prosecutor\", \"detained\", \"suspect\", \"criminal\", \"prison\", \"judge\", \"law\", \"illegal\", \"allegedly\", \"charge\", \"lawyer\", \"human_right\", \"trial\", \"violence\", \"refugee\", \"man\", \"right\", \"prosecution\", \"case\", \"year_old\", \"human\", \"investigation\", \"old\", \"found\", \"authority\", \"group\", \"sex\", \"officer\", \"legal\", \"kim\", \"office\", \"victim\", \"attack\", \"official\", \"last\", \"million\", \"two\", \"south_korean\", \"national\", \"month\", \"government\", \"nuclear_test\", \"lee_wan\", \"bribery\", \"hunny\", \"jeong_hunny\", \"hj257\", \"hj257_heraldcorp\", \"keangnam\", \"hacking\", \"memo\", \"slbm\", \"rocket_launch\", \"keangnam_enterprise\", \"arsenal\", \"cyber_attack\", \"nuclear_envoy\", \"graft_scandal\", \"lee_byung\", \"sony_picture\", \"kim_choon\", \"bribery_scandal\", \"plutonium\", \"nuclear_arsenal\", \"salvage_ship\", \"denuclearization_talk\", \"cabin\", \"kook\", \"hwang_joon\", \"hack\", \"sung_wan\", \"denuclearization\", \"six_party\", \"iran\", \"wan\", \"sony\", \"satellite\", \"nuclear\", \"dprk\", \"nuclear_weapon\", \"cyber\", \"sanction\", \"communist_nation\", \"test\", \"nuclear_program\", \"weapon\", \"rocket\", \"bomb\", \"north\", \"long_range\", \"pyongyang\", \"launch\", \"regime\", \"six\", \"communist\", \"program\", \"jong\", \"missile\", \"long\", \"state\", \"talk\", \"kim\", \"party\", \"range\", \"snited\", \"snited_state\", \"nation\", \"could\", \"official\", \"would\", \"security\", \"late\", \"wage\", \"history_textbook\", \"percentage\", \"labor_market\", \"minimum_wage\", \"percentage_point\", \"tuition\", \"salary\", \"pension_reform\", \"labor_reform\", \"percent_respondent\", \"private_education\", \"labor_union\", \"snions\", \"pension_system\", \"labor_management\", \"trade_snions\", \"survey_conducted\", \"trade_union\", \"nonregular\", \"survey_showed\", \"retirement_age\", \"non_regular\", \"minus\", \"margin_error\", \"regular_worker\", \"smoe\", \"join_aiib\", \"fertility\", \"wage_peak\", \"minimum\", \"union\", \"labor\", \"textbook\", \"respondent\", \"unemployment\", \"education_ministry\", \"hike\", \"employer\", \"employment\", \"tax\", \"survey\", \"education\", \"job\", \"worker\", \"employee\", \"pension\", \"teacher\", \"school\", \"percent\", \"government\", \"income\", \"reform\", \"pay\", \"student\", \"rate\", \"ministry\", \"system\", \"plan\", \"history\", \"market\", \"company\", \"public\", \"private\", \"policy\", \"state\", \"people\", \"would\", \"official\", \"high\", \"rescue\", \"crew\", \"salvage\", \"coast_guard\", \"bereaved\", \"bereaved_family\", \"southwest\", \"nepal\", \"captain\", \"nut\", \"huh\", \"crew_member\", \"rescued\", \"prosecution_probe\", \"dvd\", \"salt\", \"victim_family\", \"sunken\", \"earthquake\", \"attendant\", \"jindo\", \"southwest_coast\", \"southern_resort\", \"rain\", \"cho_hyun\", \"demonstrator\", \"accident\", \"island_jeju\", \"subcontractor\", \"tent\", \"passenger\", \"ferry\", \"airline\", \"slush\", \"sewol\", \"bus\", \"slush_fund\", \"jeju\", \"posco\", \"fishing\", \"sank\", \"disaster\", \"safety\", \"sewol_ferry\", \"flight\", \"boat\", \"missing\", \"apartment\", \"ship\", \"city\", \"meter\", \"sinking\", \"nearby\", \"water\", \"coast\", \"island\", \"province\", \"resident\", \"construction\", \"rally\", \"fire\", \"southern\", \"site\", \"family\", \"government\", \"building\", \"official\", \"victim\", \"operation\", \"air\", \"found\", \"ministry\", \"last\", \"million\", \"public\", \"people\", \"company\", \"part\", \"lee\", \"two\", \"group\", \"mers\", \"patient\", \"disease\", \"virus\", \"outbreak\", \"respiratory\", \"infected\", \"infection\", \"syndrome\", \"respiratory_syndrome\", \"diagnosed\", \"saudi\", \"quarantine\", \"symptom\", \"arabia\", \"mers_patient\", \"saudi_arabia\", \"fatality\", \"mers_outbreak\", \"samsung_medical\", \"infectious\", \"health_authority\", \"fatality_rate\", \"medical_staff\", \"quarantined\", \"mers_case\", \"infectious_disease\", \"vaccine\", \"people_diagnosed\", \"medical_facility\", \"medical\", \"hospital\", \"animal\", \"health\", \"doctor\", \"viral\", \"middle_east\", \"illness\", \"confirmed\", \"spread\", \"treatment\", \"reported\", \"case\", \"middle\", \"east\", \"people\", \"ministry\", \"first\", \"day\", \"may\", \"death\", \"country\", \"number\", \"government\", \"center\", \"official\", \"since\", \"according\"], \"Total\": [17050.0, 6376.0, 4336.0, 5804.0, 5225.0, 8724.0, 3543.0, 4348.0, 5621.0, 7900.0, 1698.0, 3174.0, 5019.0, 1827.0, 6260.0, 2551.0, 2161.0, 6765.0, 1834.0, 1417.0, 2151.0, 1358.0, 1772.0, 2250.0, 2387.0, 1464.0, 2195.0, 1395.0, 7983.0, 2136.0, 1483.1434326171875, 694.5477294921875, 461.310302734375, 419.491455078125, 408.16973876953125, 377.36376953125, 334.9588317871094, 337.85821533203125, 325.7975769042969, 289.573486328125, 266.7558898925781, 261.13702392578125, 258.0053405761719, 1159.734619140625, 211.5116729736328, 1408.1898193359375, 204.50148010253906, 523.0270385742188, 188.90098571777344, 178.9021453857422, 175.7622833251953, 171.0455322265625, 160.03570556640625, 151.55511474609375, 134.971923828125, 125.56790161132812, 117.195556640625, 113.00373077392578, 110.01527404785156, 108.16384887695312, 5225.73583984375, 307.26116943359375, 509.1053771972656, 365.5701904296875, 2132.992431640625, 575.0624389648438, 363.1396179199219, 718.026611328125, 5621.4072265625, 559.9158935546875, 2099.77880859375, 4455.771484375, 1216.5224609375, 702.6820068359375, 1579.9105224609375, 2151.4091796875, 950.8677368164062, 3434.48583984375, 2670.739990234375, 1022.867431640625, 3761.69189453125, 1496.8026123046875, 1511.7374267578125, 767.9572143554688, 1240.376953125, 2306.4892578125, 1670.161376953125, 17050.88671875, 4554.162109375, 1884.396240234375, 6617.92724609375, 3246.460205078125, 3441.94677734375, 1637.4832763671875, 4757.11376953125, 3013.755859375, 7983.3271484375, 4867.78173828125, 4757.51953125, 7235.775390625, 8724.2998046875, 6260.1015625, 7900.83642578125, 1715.6895751953125, 1512.23876953125, 1340.154052734375, 1134.32177734375, 840.5573120117188, 721.6943359375, 713.98974609375, 661.40625, 459.0176086425781, 443.3756408691406, 660.0159912109375, 317.79669189453125, 307.5363464355469, 292.7919616699219, 267.3055725097656, 236.51345825195312, 222.51844787597656, 216.96649169921875, 191.9160919189453, 191.74221801757812, 206.8357696533203, 171.70944213867188, 166.66952514648438, 160.2217254638672, 154.2874298095703, 151.2934112548828, 139.51869201660156, 137.63450622558594, 133.63510131835938, 120.42455291748047, 1620.0025634765625, 666.9425659179688, 295.51617431640625, 1023.5347290039062, 231.18653869628906, 2117.57763671875, 1077.5751953125, 248.6985321044922, 6376.287109375, 1397.20556640625, 1057.7991943359375, 801.705322265625, 1368.4344482421875, 510.8666687011719, 427.7209167480469, 830.0816650390625, 1584.8271484375, 1692.798828125, 1169.518798828125, 2085.10205078125, 1279.6231689453125, 1301.387451171875, 8724.2998046875, 4783.93310546875, 5019.64111328125, 2174.554443359375, 6765.81982421875, 2492.92578125, 3437.613525390625, 3550.212646484375, 4494.95751953125, 2243.76806640625, 3327.725341796875, 4554.162109375, 4757.51953125, 733.2454833984375, 677.6435546875, 509.9815673828125, 461.0990295410156, 541.6448364257812, 358.4351501464844, 343.0235595703125, 335.8157653808594, 268.9959411621094, 295.7335205078125, 230.49826049804688, 226.4512176513672, 221.52081298828125, 190.89614868164062, 190.29605102539062, 184.75865173339844, 183.6240997314453, 164.63565063476562, 164.080322265625, 149.5204315185547, 149.01136779785156, 147.2659149169922, 147.04208374023438, 143.19029235839844, 133.23486328125, 132.26502990722656, 142.22872924804688, 128.55130004882812, 128.07315063476562, 123.6798095703125, 478.6125793457031, 276.1238708496094, 3543.979248046875, 486.2174987792969, 1618.9141845703125, 4348.41455078125, 594.7249145507812, 312.93402099609375, 665.6642456054688, 236.226806640625, 343.390869140625, 2551.4228515625, 833.618408203125, 755.19287109375, 839.779052734375, 1739.0478515625, 552.0584106445312, 1478.5965576171875, 523.6151733398438, 17050.88671875, 1058.97265625, 722.1767578125, 1868.9654541015625, 859.9666748046875, 4757.11376953125, 1150.0260009765625, 6617.92724609375, 2382.24658203125, 1574.904541015625, 7235.775390625, 1469.355224609375, 2670.739990234375, 6260.1015625, 1308.0645751953125, 3174.453857421875, 2076.8388671875, 3180.619873046875, 3013.755859375, 1566.235595703125, 139.17544555664062, 124.42901611328125, 113.5689468383789, 117.49092102050781, 87.65091705322266, 85.16541290283203, 79.30680847167969, 76.89057922363281, 86.64974975585938, 65.90519714355469, 65.8651123046875, 59.02713394165039, 59.67692184448242, 56.097808837890625, 51.126487731933594, 49.04276657104492, 48.57091522216797, 47.41897964477539, 46.10250473022461, 45.82101821899414, 45.718238830566406, 44.213768005371094, 43.69287109375, 43.38378143310547, 43.297821044921875, 42.491546630859375, 41.59525680541992, 41.4205207824707, 40.21016311645508, 39.84196472167969, 179.1529083251953, 144.56637573242188, 59.27824020385742, 862.567138671875, 278.274169921875, 334.9338684082031, 478.5890197753906, 143.0546417236328, 375.7264404296875, 153.2189483642578, 102.86746215820312, 80.2406005859375, 769.599853515625, 397.3097839355469, 260.6217041015625, 1657.6636962890625, 980.6688232421875, 713.8262329101562, 216.14756774902344, 968.0450439453125, 429.02862548828125, 835.5244140625, 1151.84375, 871.7380981445312, 388.2772216796875, 1210.6177978515625, 1727.5574951171875, 647.8165283203125, 2114.07666015625, 2577.48095703125, 2195.98681640625, 5804.68798828125, 7983.3271484375, 528.422119140625, 2426.5703125, 802.1887817382812, 1689.2060546875, 2269.454345703125, 1075.8363037109375, 1324.5198974609375, 1411.1793212890625, 5682.66162109375, 989.7532958984375, 3809.060302734375, 2735.405029296875, 2269.5263671875, 6260.1015625, 3761.69189453125, 7900.83642578125, 4494.95751953125, 2211.66064453125, 5621.4072265625, 352.5960998535156, 322.6979675292969, 466.807373046875, 237.16571044921875, 242.5409393310547, 199.1471405029297, 137.1575927734375, 122.12699890136719, 117.90151977539062, 94.50518798828125, 93.58773040771484, 91.52235412597656, 91.52235412597656, 90.68241119384766, 88.34945678710938, 86.44639587402344, 86.02703094482422, 98.71969604492188, 79.09713745117188, 65.67089080810547, 121.5495834350586, 63.2634391784668, 62.67287826538086, 62.647430419921875, 62.63396453857422, 61.331642150878906, 60.65938949584961, 60.661678314208984, 60.32011032104492, 212.45880126953125, 410.17156982421875, 637.3501586914062, 155.81942749023438, 113.41344451904297, 201.63497924804688, 128.78451538085938, 1227.3056640625, 82.96099853515625, 270.3451232910156, 146.50550842285156, 654.4268798828125, 192.2582244873047, 285.877685546875, 183.2505645751953, 204.6349639892578, 1287.4783935546875, 2355.513916015625, 306.2785949707031, 506.853759765625, 1689.2060546875, 753.705078125, 8724.2998046875, 386.6639709472656, 1465.3050537109375, 5019.64111328125, 7983.3271484375, 2269.5263671875, 876.315673828125, 3246.460205078125, 3441.94677734375, 2195.98681640625, 4554.162109375, 1080.4195556640625, 2795.060546875, 1984.318115234375, 2306.4892578125, 1359.8603515625, 1511.7374267578125, 6617.92724609375, 2735.405029296875, 2243.76806640625, 1496.8026123046875, 2122.9501953125, 2120.483154296875, 3956.669921875, 1856.759765625, 3761.69189453125, 4494.95751953125, 4757.11376953125, 3180.619873046875, 3437.613525390625, 198.36282348632812, 189.17762756347656, 144.9686279296875, 118.70928192138672, 114.71714782714844, 111.04647064208984, 99.07295989990234, 98.81233215332031, 1772.4921875, 94.45521545410156, 325.8493347167969, 79.01252746582031, 205.59915161132812, 76.15086364746094, 76.0743637084961, 169.39137268066406, 94.58173370361328, 72.25350952148438, 71.2811508178711, 295.26806640625, 69.14933013916016, 68.91665649414062, 65.79981994628906, 63.348670959472656, 190.47398376464844, 60.15350341796875, 59.9007682800293, 59.789424896240234, 59.34574890136719, 59.05846405029297, 749.7405395507812, 200.54786682128906, 404.078125, 425.57147216796875, 169.06797790527344, 209.40966796875, 88.49730682373047, 124.1072006225586, 177.63392639160156, 415.5865173339844, 501.5220031738281, 156.1665802001953, 346.353759765625, 650.6044311523438, 900.0924072265625, 2136.287109375, 390.87689208984375, 2574.189208984375, 899.628173828125, 226.6265869140625, 621.1605834960938, 325.3880615234375, 1181.5860595703125, 1421.4569091796875, 763.9487915039062, 762.05419921875, 727.7430419921875, 973.2818603515625, 1542.2952880859375, 2250.180908203125, 1845.5157470703125, 863.5562744140625, 4224.23779296875, 5804.68798828125, 1303.8779296875, 2151.5146484375, 3602.5205078125, 2076.8388671875, 4783.93310546875, 1618.92724609375, 4474.712890625, 2615.50732421875, 2580.564453125, 1262.8489990234375, 3809.060302734375, 6765.81982421875, 2426.5703125, 4757.51953125, 3956.669921875, 1736.7843017578125, 338.3872375488281, 218.07894897460938, 190.7326202392578, 156.70301818847656, 126.66588592529297, 119.23160552978516, 117.43992614746094, 114.4804458618164, 1834.6678466796875, 97.77923583984375, 95.64944458007812, 92.80657958984375, 91.76321411132812, 85.22869110107422, 142.1331329345703, 80.9778823852539, 79.08637237548828, 76.69747161865234, 76.47696685791016, 76.24829864501953, 75.21842193603516, 72.2846908569336, 71.55802154541016, 200.5204315185547, 66.15751647949219, 66.06451416015625, 64.37535858154297, 63.502925872802734, 61.70328140258789, 61.17039489746094, 295.79876708984375, 162.1779022216797, 200.41233825683594, 171.58375549316406, 143.9862518310547, 303.60595703125, 469.97772216796875, 234.98191833496094, 680.7721557617188, 169.10061645507812, 225.4271240234375, 199.81716918945312, 2161.45556640625, 1184.9129638671875, 156.09767150878906, 357.2369689941406, 322.6671142578125, 390.6438293457031, 278.970947265625, 1872.602294921875, 476.04736328125, 470.7679748535156, 1288.5064697265625, 261.53973388671875, 1004.9269409179688, 244.936279296875, 342.87872314453125, 320.4463806152344, 777.5206298828125, 2604.00390625, 691.1350708007812, 2387.174560546875, 1289.05712890625, 1451.6871337890625, 1013.321533203125, 1533.5054931640625, 1121.010009765625, 1422.8363037109375, 2559.37646484375, 925.892822265625, 707.2542114257812, 581.5270385742188, 6765.81982421875, 2260.85693359375, 1482.5638427734375, 1469.355224609375, 7235.775390625, 5682.66162109375, 2577.48095703125, 6617.92724609375, 4757.11376953125, 3550.212646484375, 3446.817138671875, 7900.83642578125, 466.6220703125, 281.6857604980469, 240.13104248046875, 200.02354431152344, 200.02354431152344, 186.6209716796875, 186.6209716796875, 186.41580200195312, 171.17958068847656, 158.3602752685547, 134.7406463623047, 129.6357421875, 125.62991333007812, 115.56267547607422, 115.31485748291016, 112.8482894897461, 104.6938705444336, 103.36194610595703, 101.83132934570312, 101.28214263916016, 88.9746322631836, 85.30326843261719, 84.44380187988281, 82.27964782714844, 84.54425811767578, 80.80458068847656, 79.26607513427734, 77.18623352050781, 75.04991149902344, 74.91345977783203, 512.3697509765625, 393.9598388671875, 434.1526184082031, 409.9382629394531, 277.733642578125, 356.4974060058594, 4336.79833984375, 340.7579650878906, 484.0285339355469, 283.82867431640625, 776.3821411132812, 269.1988830566406, 1564.5693359375, 348.71795654296875, 982.5918579101562, 468.3763122558594, 226.45045471191406, 17050.88671875, 316.7348327636719, 3174.453857421875, 1138.426025390625, 847.9303588867188, 1184.824462890625, 1098.0921630859375, 2059.0576171875, 1636.3221435546875, 2551.4228515625, 1895.7774658203125, 4867.78173828125, 3434.48583984375, 6765.81982421875, 6376.287109375, 989.9354858398438, 1811.3984375, 1308.1500244140625, 2795.060546875, 2773.596435546875, 7235.775390625, 4757.51953125, 3013.755859375, 1570.2177734375, 1097.480224609375, 293.4049377441406, 277.2241516113281, 269.5521240234375, 223.23297119140625, 176.30703735351562, 144.5371856689453, 129.71043395996094, 120.34353637695312, 116.93235778808594, 110.68758392333984, 109.63080596923828, 105.90201568603516, 90.98187255859375, 82.6677017211914, 79.10441589355469, 75.39427947998047, 74.8399429321289, 71.48199462890625, 67.4710922241211, 66.041748046875, 64.4305648803711, 63.94852828979492, 62.219181060791016, 61.218685150146484, 61.056053161621094, 60.76586151123047, 58.55552673339844, 58.1112060546875, 55.6025276184082, 363.4753112792969, 406.3831787109375, 1464.4708251953125, 881.7894287109375, 184.29736328125, 141.68646240234375, 246.2850341796875, 238.59771728515625, 196.5703125, 312.4822692871094, 705.2839965820312, 591.7568969726562, 2151.5146484375, 1269.7486572265625, 2211.415283203125, 454.3652648925781, 696.0595092773438, 576.843505859375, 2250.180908203125, 5804.68798828125, 7900.83642578125, 553.8052978515625, 1406.5819091796875, 765.8740844726562, 2136.287109375, 1138.058349609375, 6260.1015625, 2382.24658203125, 3180.619873046875, 1637.4832763671875, 1210.6177978515625, 2114.07666015625, 3327.725341796875, 794.4144897460938, 2283.037109375, 4867.78173828125, 4474.712890625, 4757.51953125, 7235.775390625, 2462.364501953125, 195.6425323486328, 165.16506958007812, 153.17784118652344, 124.18638610839844, 154.9303741455078, 147.5704345703125, 95.70856475830078, 87.35880279541016, 86.90909576416016, 84.74512481689453, 81.28624725341797, 75.19071960449219, 71.17434692382812, 68.05665588378906, 67.44609069824219, 66.82145690917969, 66.52140045166016, 66.10916900634766, 64.27247619628906, 62.812583923339844, 61.35578918457031, 60.91277313232422, 60.35959243774414, 59.34265899658203, 54.92802429199219, 53.74787139892578, 489.0904235839844, 53.272701263427734, 50.008995056152344, 48.922542572021484, 332.85693359375, 502.8473205566406, 124.44586181640625, 105.02686309814453, 458.0224914550781, 184.03233337402344, 88.99797058105469, 170.1815948486328, 160.79257202148438, 155.4113006591797, 131.90011596679688, 423.04669189453125, 945.3428344726562, 122.19475555419922, 449.7003173828125, 203.08987426757812, 305.94354248046875, 159.00924682617188, 799.6943969726562, 2195.3095703125, 273.94622802734375, 346.3214111328125, 127.92748260498047, 1220.531494140625, 380.740234375, 785.1884765625, 1110.24755859375, 470.0426940917969, 650.1387329101562, 371.77911376953125, 760.6024780273438, 485.8932800292969, 685.12353515625, 2076.8388671875, 7900.83642578125, 832.5143432617188, 7235.775390625, 1482.5638427734375, 1015.07470703125, 1058.97265625, 1121.010009765625, 6260.1015625, 5682.66162109375, 2577.48095703125, 3327.725341796875, 4474.712890625, 2114.07666015625, 2272.51123046875, 4783.93310546875, 6617.92724609375, 2559.37646484375, 1698.1529541015625, 1417.144287109375, 1358.85009765625, 732.12890625, 730.7992553710938, 528.4258422851562, 387.4546203613281, 375.3165588378906, 374.056396484375, 303.7306823730469, 297.4804382324219, 291.3202209472656, 270.1658935546875, 257.5107116699219, 251.04251098632812, 202.6463165283203, 206.02862548828125, 185.5229034423828, 168.455810546875, 155.76210021972656, 112.98187255859375, 109.68087768554688, 105.61508178710938, 102.8113784790039, 100.28720092773438, 99.0508804321289, 98.042724609375, 94.54427337646484, 89.63658905029297, 85.50623321533203, 1262.7738037109375, 1395.56396484375, 268.0973815917969, 1827.48291015625, 427.8517761230469, 165.9125518798828, 579.4378051757812, 171.98133850097656, 915.41015625, 489.137939453125, 449.27972412109375, 1138.052001953125, 2387.174560546875, 1141.8511962890625, 1291.3590087890625, 4474.712890625, 6260.1015625, 3892.40185546875, 3956.669921875, 2717.7255859375, 853.7788696289062, 7983.3271484375, 2426.5703125, 7900.83642578125, 1618.92724609375, 7235.775390625, 3317.6640625, 3809.060302734375], \"loglift\": [30.0, 29.0, 28.0, 27.0, 26.0, 25.0, 24.0, 23.0, 22.0, 21.0, 20.0, 19.0, 18.0, 17.0, 16.0, 15.0, 14.0, 13.0, 12.0, 11.0, 10.0, 9.0, 8.0, 7.0, 6.0, 5.0, 4.0, 3.0, 2.0, 1.0, 1.7045999765396118, 1.7038999795913696, 1.7031999826431274, 1.7029999494552612, 1.7029999494552612, 1.7028000354766846, 1.7024999856948853, 1.7023999691009521, 1.7023999691009521, 1.7020000219345093, 1.701799988746643, 1.70169997215271, 1.7015999555587769, 1.7009999752044678, 1.7008999586105347, 1.7007999420166016, 1.700700044631958, 1.7003999948501587, 1.7002999782562256, 1.7000999450683594, 1.6999000310897827, 1.6998000144958496, 1.6993999481201172, 1.6991000175476074, 1.6984000205993652, 1.6979000568389893, 1.6972999572753906, 1.6970000267028809, 1.6967999935150146, 1.6966999769210815, 1.6792999505996704, 1.694700002670288, 1.6890000104904175, 1.6883000135421753, 1.6611000299453735, 1.6786999702453613, 1.6858999729156494, 1.6461000442504883, 1.5598000288009644, 1.6461000442504883, 1.5476000308990479, 1.392799973487854, 1.49590003490448, 1.5533000230789185, 1.4032000303268433, 1.330199956893921, 1.4731999635696411, 1.2367000579833984, 1.2585999965667725, 1.4399000406265259, 1.0325000286102295, 1.281499981880188, 1.2656999826431274, 1.4569000005722046, 1.2996000051498413, 1.0743999481201172, 1.1818000078201294, 0.28630000352859497, 0.7626000046730042, 1.1243000030517578, 0.5376999974250793, 0.8543999791145325, 0.8116000294685364, 1.1412999629974365, 0.4636000096797943, 0.7285000085830688, 0.014600000344216824, 0.33399999141693115, 0.31130000948905945, -0.0019000000320374966, -0.19290000200271606, 0.019600000232458115, -0.2816999852657318, 2.0539000034332275, 2.053800106048584, 2.053800106048584, 2.0536000728607178, 2.0534000396728516, 2.0532000064849854, 2.0532000064849854, 2.053100109100342, 2.052500009536743, 2.0524001121520996, 2.0518999099731445, 2.0515999794006348, 2.051500082015991, 2.051300048828125, 2.0510001182556152, 2.050600051879883, 2.050299882888794, 2.0501999855041504, 2.0497000217437744, 2.0497000217437744, 2.0495998859405518, 2.049099922180176, 2.0488998889923096, 2.0487000942230225, 2.0485000610351562, 2.0483999252319336, 2.047800064086914, 2.047800064086914, 2.047600030899048, 2.046799898147583, 2.0297000408172607, 2.035599946975708, 2.04010009765625, 2.0185999870300293, 2.0392000675201416, 1.9711999893188477, 1.9768999814987183, 2.0344998836517334, 1.8955999612808228, 1.9629000425338745, 1.976099967956543, 1.9838000535964966, 1.9431999921798706, 1.9981000423431396, 2.0048999786376953, 1.9581999778747559, 1.8844000101089478, 1.8430999517440796, 1.8828999996185303, 1.7833000421524048, 1.8270000219345093, 1.8063000440597534, 1.312999963760376, 1.4279999732971191, 1.3734999895095825, 1.5651999711990356, 1.1964999437332153, 1.5082000494003296, 1.2486000061035156, 1.1241999864578247, 0.9057000279426575, 1.3209999799728394, 1.059399962425232, 0.8349999785423279, 0.5374000072479248, 2.3661000728607178, 2.365999937057495, 2.365600109100342, 2.3654000759124756, 2.3652000427246094, 2.364799976348877, 2.3647000789642334, 2.3645999431610107, 2.3638999462127686, 2.363600015640259, 2.3633999824523926, 2.363300085067749, 2.3631999492645264, 2.362499952316284, 2.3624000549316406, 2.3624000549316406, 2.362299919128418, 2.361799955368042, 2.3617000579833984, 2.3612000942230225, 2.3612000942230225, 2.3610999584198, 2.3610999584198, 2.3608999252319336, 2.3603999614715576, 2.3603999614715576, 2.3603999614715576, 2.3601999282836914, 2.3601999282836914, 2.3598999977111816, 2.351300001144409, 2.355799913406372, 2.310499906539917, 2.300600051879883, 2.2186999320983887, 2.1164000034332275, 2.2551000118255615, 2.3050999641418457, 2.2385001182556152, 2.3152999877929688, 2.271899938583374, 2.003499984741211, 2.148699998855591, 2.1540000438690186, 2.1298000812530518, 1.9967999458312988, 2.185699939727783, 1.9452999830245972, 2.115499973297119, 1.0858999490737915, 1.892199993133545, 1.9987000226974487, 1.6083999872207642, 1.8779000043869019, 1.1105999946594238, 1.6764999628067017, 0.717199981212616, 1.2791999578475952, 1.493499994277954, 0.604200005531311, 1.5319000482559204, 1.153499960899353, 0.4180000126361847, 1.5679999589920044, 0.8593000173568726, 1.1476000547409058, 0.7687000036239624, 0.8004999756813049, 1.351099967956543, 2.371999979019165, 2.3712000846862793, 2.370500087738037, 2.3703999519348145, 2.3680999279022217, 2.367799997329712, 2.367000102996826, 2.3666000366210938, 2.3650999069213867, 2.3645999431610107, 2.3645999431610107, 2.3629000186920166, 2.362799882888794, 2.3620998859405518, 2.3605000972747803, 2.3596999645233154, 2.359499931335449, 2.3589999675750732, 2.3585000038146973, 2.3584001064300537, 2.358299970626831, 2.357599973678589, 2.3573999404907227, 2.3571999073028564, 2.3571999073028564, 2.3566999435424805, 2.356300115585327, 2.3561999797821045, 2.355299949645996, 2.355299949645996, 2.354099988937378, 2.349600076675415, 2.3529000282287598, 2.299799919128418, 2.312999963760376, 2.278599977493286, 2.2607998847961426, 2.302299976348877, 2.2486000061035156, 2.292799949645996, 2.313999891281128, 2.3276000022888184, 2.1826999187469482, 2.228600025177002, 2.239799976348877, 2.0850000381469727, 2.0769999027252197, 2.098599910736084, 2.2137999534606934, 2.0223000049591064, 2.1201999187469482, 2.0076000690460205, 1.9256000518798828, 1.9558000564575195, 2.0915000438690186, 1.8766000270843506, 1.7948999404907227, 1.9744999408721924, 1.731600046157837, 1.6088999509811401, 1.5925999879837036, 1.2855000495910645, 1.1134999990463257, 1.8996000289916992, 1.3890999555587769, 1.7526999711990356, 1.4730000495910645, 1.3597999811172485, 1.6238000392913818, 1.5224000215530396, 1.4700000286102295, 0.7164999842643738, 1.6359000205993652, 0.8651000261306763, 0.9918000102043152, 1.0931999683380127, 0.3806000053882599, 0.7199000120162964, 0.1808999925851822, 0.5601999759674072, 1.0627000331878662, 0.29589998722076416, 2.395900011062622, 2.3954999446868896, 2.395400047302246, 2.394700050354004, 2.394700050354004, 2.3940000534057617, 2.391900062561035, 2.3910999298095703, 2.3907999992370605, 2.3889000415802, 2.3887999057769775, 2.3886001110076904, 2.3886001110076904, 2.3884999752044678, 2.388200044631958, 2.388000011444092, 2.3879001140594482, 2.387399911880493, 2.38700008392334, 2.3845999240875244, 2.3840999603271484, 2.384000062942505, 2.3838999271392822, 2.3838999271392822, 2.3838999271392822, 2.3835999965667725, 2.3833999633789062, 2.3833999633789062, 2.3833000659942627, 2.3831000328063965, 2.3775999546051025, 2.349400043487549, 2.3561999797821045, 2.3508999347686768, 2.315999984741211, 2.341599941253662, 2.1654000282287598, 2.3640999794006348, 2.2576000690460205, 2.3085999488830566, 2.1498000621795654, 2.2748000621795654, 2.210599899291992, 2.2730000019073486, 2.2535998821258545, 1.8705999851226807, 1.7483999729156494, 2.155100107192993, 2.05430006980896, 1.674399971961975, 1.8690999746322632, 1.2186000347137451, 2.023699998855591, 1.5825999975204468, 1.1090999841690063, 0.9409999847412109, 1.3566999435424805, 1.6859999895095825, 1.1654000282287598, 1.079300045967102, 1.2626999616622925, 0.947700023651123, 1.55649995803833, 1.1017999649047852, 1.2541999816894531, 1.157099962234497, 1.426300048828125, 1.3631999492645264, 0.5455999970436096, 0.9857000112533569, 1.094499945640564, 1.3329999446868896, 1.0913000106811523, 1.0871000289916992, 0.6353999972343445, 1.1759999990463257, 0.6017000079154968, 0.3905999958515167, 0.34139999747276306, 0.6578999757766724, 0.5476999878883362, 2.398200035095215, 2.398099899291992, 2.3965001106262207, 2.39520001411438, 2.39490008354187, 2.394700050354004, 2.3935999870300293, 2.3935999870300293, 2.393399953842163, 2.393199920654297, 2.3919999599456787, 2.3912999629974365, 2.3910999298095703, 2.3907999992370605, 2.3907999992370605, 2.390700101852417, 2.390399932861328, 2.390199899673462, 2.390000104904175, 2.389899969100952, 2.3896000385284424, 2.3894999027252197, 2.3889000415802, 2.388400077819824, 2.387700080871582, 2.3875999450683594, 2.387500047683716, 2.387500047683716, 2.387399911880493, 2.3873000144958496, 2.3666999340057373, 2.377500057220459, 2.3629000186920166, 2.3531999588012695, 2.367500066757202, 2.3559999465942383, 2.3791000843048096, 2.363300085067749, 2.3261001110076904, 2.25, 2.199700117111206, 2.315500020980835, 2.2107999324798584, 2.131200075149536, 2.062299966812134, 1.894700050354004, 2.1656999588012695, 1.832900047302246, 2.001699924468994, 2.2427000999450684, 2.0341999530792236, 2.1589999198913574, 1.8723000288009644, 1.8177000284194946, 1.9567999839782715, 1.9357999563217163, 1.941499948501587, 1.8559999465942383, 1.7031999826431274, 1.5566999912261963, 1.539199948310852, 1.7868000268936157, 1.1018999814987183, 0.9408000111579895, 1.5469000339508057, 1.3073999881744385, 1.0542999505996704, 1.2933000326156616, 0.8202000260353088, 1.4163000583648682, 0.7749000191688538, 0.9934999942779541, 0.979200005531311, 1.469099998474121, 0.5611000061035156, 0.052799999713897705, 0.9182000160217285, 0.23690000176429749, 0.35510000586509705, 1.152999997138977, 2.4623000621795654, 2.4614999294281006, 2.460900068283081, 2.4598000049591064, 2.458400011062622, 2.4579999446868896, 2.4577999114990234, 2.4576001167297363, 2.4576001167297363, 2.4563000202178955, 2.4560999870300293, 2.4558000564575195, 2.4556000232696533, 2.454900026321411, 2.454900026321411, 2.4542999267578125, 2.4539999961853027, 2.453700065612793, 2.4535999298095703, 2.4535999298095703, 2.453399896621704, 2.452899932861328, 2.452699899673462, 2.4521000385284424, 2.45169997215271, 2.45169997215271, 2.4512999057769775, 2.4511001110076904, 2.450700044631958, 2.4505999088287354, 2.447999954223633, 2.4495999813079834, 2.4467999935150146, 2.446899890899658, 2.4451000690460205, 2.4326000213623047, 2.4159998893737793, 2.4289000034332275, 2.3922998905181885, 2.4326000213623047, 2.422499895095825, 2.4260001182556152, 2.353800058364868, 2.3657000064849854, 2.4275999069213867, 2.3845999240875244, 2.3893001079559326, 2.3671000003814697, 2.390399932861328, 2.150599956512451, 2.289799928665161, 2.2727999687194824, 2.103600025177002, 2.344599962234497, 2.099100112915039, 2.3524999618530273, 2.281100034713745, 2.2927000522613525, 2.0878000259399414, 1.753000020980835, 2.085200071334839, 1.7134000062942505, 1.82260000705719, 1.75, 1.822100043296814, 1.652999997138977, 1.7455999851226807, 1.6109999418258667, 1.3021999597549438, 1.7798000574111938, 1.905500054359436, 2.002000093460083, 0.6115000247955322, 1.204200029373169, 1.4257999658584595, 1.3839000463485718, 0.23149999976158142, 0.35370001196861267, 0.9236000180244446, 0.11550000309944153, 0.3695000112056732, 0.6047999858856201, 0.6015999913215637, -0.2888999879360199, 2.640700101852417, 2.639899969100952, 2.6393001079559326, 2.6386001110076904, 2.6386001110076904, 2.6382999420166016, 2.6382999420166016, 2.6382999420166016, 2.6377999782562256, 2.637399911880493, 2.636399984359741, 2.6361000537872314, 2.6359000205993652, 2.635200023651123, 2.635200023651123, 2.634999990463257, 2.634399890899658, 2.6342999935150146, 2.6340999603271484, 2.6340999603271484, 2.6328001022338867, 2.6324000358581543, 2.632200002670288, 2.6319000720977783, 2.6317999362945557, 2.631700038909912, 2.631500005722046, 2.631200075149536, 2.6308999061584473, 2.6308000087738037, 2.625499963760376, 2.626199960708618, 2.6243999004364014, 2.6171998977661133, 2.6157000064849854, 2.606800079345703, 2.5264999866485596, 2.5989999771118164, 2.5810999870300293, 2.5957999229431152, 2.5223000049591064, 2.5566000938415527, 2.4123001098632812, 2.5288000106811523, 2.4312000274658203, 2.4974000453948975, 2.5576000213623047, 1.9048999547958374, 2.4867000579833984, 2.0165998935699463, 2.128000020980835, 2.1393001079559326, 1.979099988937378, 1.9392999410629272, 1.6432000398635864, 1.642799973487854, 1.4321999549865723, 1.5198999643325806, 1.0463000535964966, 1.2036000490188599, 0.7515000104904175, 0.6424999833106995, 1.7924000024795532, 1.381600022315979, 1.5878000259399414, 0.979200005531311, 0.9121999740600586, 0.03480000048875809, 0.40700000524520874, 0.774399995803833, 1.3393000364303589, 2.790299892425537, 2.7880001068115234, 2.7878000736236572, 2.7878000736236572, 2.7869999408721924, 2.785900115966797, 2.78439998626709, 2.78410005569458, 2.7834999561309814, 2.7832999229431152, 2.7827999591827393, 2.7827999591827393, 2.782399892807007, 2.7809998989105225, 2.7799999713897705, 2.7795000076293945, 2.778899908065796, 2.7788000106811523, 2.7781999111175537, 2.7774999141693115, 2.7771999835968018, 2.7767999172210693, 2.776700019836426, 2.7762999534606934, 2.776099920272827, 2.7760000228881836, 2.775899887084961, 2.775399923324585, 2.7751998901367188, 2.7744998931884766, 2.774399995803833, 2.7653000354766846, 2.7407000064849854, 2.747499942779541, 2.759999990463257, 2.7518999576568604, 2.722399950027466, 2.71370005607605, 2.7132999897003174, 2.6600000858306885, 2.516400098800659, 2.5023999214172363, 2.297800064086914, 2.3510000705718994, 2.2446999549865723, 2.4863998889923096, 2.39520001411438, 2.4291000366210938, 2.1333000659942627, 1.8128000497817993, 1.6292999982833862, 2.337399959564209, 2.0027999877929688, 2.1861000061035156, 1.80239999294281, 1.9838999509811401, 1.167799949645996, 1.5860999822616577, 1.3178999423980713, 1.6502000093460083, 1.7532999515533447, 1.3595000505447388, 1.003999948501587, 2.004199981689453, 1.121899962425232, 0.48500001430511475, 0.5375000238418579, 0.45509999990463257, -0.03500000014901161, 0.970300018787384, 2.8466999530792236, 2.8457999229431152, 2.845400094985962, 2.843899965286255, 2.843600034713745, 2.842600107192993, 2.8417000770568848, 2.8406999111175537, 2.8406999111175537, 2.840399980545044, 2.8399999141693115, 2.8389999866485596, 2.8382999897003174, 2.8376998901367188, 2.837599992752075, 2.8375000953674316, 2.837399959564209, 2.8373000621795654, 2.836899995803833, 2.8366000652313232, 2.836199998855591, 2.8361001014709473, 2.8359999656677246, 2.835700035095215, 2.834399938583374, 2.8340001106262207, 2.8340001106262207, 2.833899974822998, 2.83270001411438, 2.8322999477386475, 2.830199956893921, 2.8155999183654785, 2.8292999267578125, 2.829900026321411, 2.7727999687194824, 2.7971999645233154, 2.821500062942505, 2.7955000400543213, 2.7964999675750732, 2.7959001064300537, 2.789400100708008, 2.6821000576019287, 2.6050000190734863, 2.783900022506714, 2.6607000827789307, 2.733599901199341, 2.6912999153137207, 2.7548000812530518, 2.560699939727783, 2.3564999103546143, 2.6568000316619873, 2.566800117492676, 2.7588000297546387, 2.2255001068115234, 2.5027999877929688, 2.287400007247925, 2.1338999271392822, 2.3422999382019043, 2.1875, 2.4033000469207764, 2.0815999507904053, 2.266200065612793, 2.090399980545044, 1.5362000465393066, 0.8048999905586243, 1.9538999795913696, 0.7688999772071838, 1.5442999601364136, 1.7545000314712524, 1.718400001525879, 1.5994999408721924, 0.3434999883174896, 0.37560001015663147, 0.9672999978065491, 0.7465999722480774, 0.46650001406669617, 1.0649000406265259, 0.9929999709129333, 0.32120001316070557, -0.01810000091791153, 0.8565999865531921, 3.0525999069213867, 3.052500009536743, 3.0524001121520996, 3.0518999099731445, 3.0518999099731445, 3.0513999462127686, 3.050800085067749, 3.0506999492645264, 3.0506999492645264, 3.050100088119507, 3.050100088119507, 3.049999952316284, 3.0497000217437744, 3.0495998859405518, 3.049499988555908, 3.0485999584198, 3.0483999252319336, 3.0481998920440674, 3.0476999282836914, 3.047300100326538, 3.045099973678589, 3.044800043106079, 3.0445001125335693, 3.044300079345703, 3.0439999103546143, 3.0439000129699707, 3.043800115585327, 3.0434999465942383, 3.0429999828338623, 3.0425000190734863, 2.9885001182556152, 2.968100070953369, 3.007499933242798, 2.8364999294281006, 2.886399984359741, 2.989799976348877, 2.819200038909912, 2.9639999866485596, 2.6549999713897705, 2.7421998977661133, 2.7546000480651855, 2.3548998832702637, 2.0892999172210693, 2.3178999423980713, 2.062999963760376, 1.3803000450134277, 1.180799961090088, 1.2202999591827393, 1.2000999450683594, 1.4111000299453735, 2.195499897003174, 0.515500009059906, 1.4069000482559204, 0.44350001215934753, 1.6959999799728394, 0.42669999599456787, 1.062399983406067, 0.7699999809265137], \"logprob\": [30.0, 29.0, 28.0, 27.0, 26.0, 25.0, 24.0, 23.0, 22.0, 21.0, 20.0, 19.0, 18.0, 17.0, 16.0, 15.0, 14.0, 13.0, 12.0, 11.0, 10.0, 9.0, 8.0, 7.0, 6.0, 5.0, 4.0, 3.0, 2.0, 1.0, -5.338799953460693, -6.098199844360352, -6.5081000328063965, -6.603300094604492, -6.63070011138916, -6.709400177001953, -6.82889986038208, -6.820300102233887, -6.8566999435424805, -6.974899768829346, -7.057199954986572, -7.07859992980957, -7.090700149536133, -5.588399887084961, -7.290200233459473, -5.394499778747559, -7.324100017547607, -6.385300159454346, -7.403800010681152, -7.458399772644043, -7.47629976272583, -7.503600120544434, -7.570499897003174, -7.62529993057251, -7.7418999671936035, -7.814599990844727, -7.884200096130371, -7.920899868011475, -7.94789981842041, -7.965000152587891, -4.104700088500977, -6.922999858856201, -6.423699855804443, -6.7555999755859375, -5.019000053405762, -6.312099933624268, -6.764599800109863, -6.122700214385986, -4.151199817657471, -6.371399879455566, -5.148200035095215, -4.550600051879883, -5.745699882507324, -6.237199783325195, -5.577000141143799, -5.341300010681152, -6.014699935913086, -4.9670000076293945, -5.196599960327148, -5.975100040435791, -5.0802001953125, -5.752799987792969, -5.758600234985352, -6.244699954986572, -5.922599792480469, -5.527400016784668, -5.7428998947143555, -4.315100193023682, -5.158999919891357, -5.679699897766113, -5.0100998878479, -5.405600070953369, -5.389900207519531, -5.803100109100342, -5.414400100708008, -5.605899810791016, -5.345600128173828, -5.520999908447266, -5.566500186920166, -5.460400104522705, -5.464399814605713, -5.583799839019775, -5.652299880981445, -4.843900203704834, -4.970099925994873, -5.091000080108643, -5.257900238037109, -5.5578999519348145, -5.710599899291992, -5.72130012512207, -5.797900199890137, -6.16379976272583, -6.198500156402588, -5.801199913024902, -6.532400131225586, -6.565299987792969, -6.61460018157959, -6.705900192260742, -6.828800201416016, -6.889999866485596, -6.91540002822876, -7.038599967956543, -7.0395002365112305, -6.963799953460693, -7.150400161743164, -7.1803998947143555, -7.220099925994873, -7.257999897003174, -7.2778000831604, -7.359300136566162, -7.373000144958496, -7.402699947357178, -7.507500171661377, -4.92549991607666, -5.807000160217285, -6.616499900817871, -5.395699977874756, -6.8628997802734375, -4.716100215911865, -5.385900020599365, -6.794600009918213, -3.6893999576568604, -5.1402997970581055, -5.405200004577637, -5.674799919128418, -5.180699825286865, -6.111100196838379, -6.2820000648498535, -5.665599822998047, -5.092700004577637, -5.0680999755859375, -5.398099899291992, -4.919400215148926, -5.363999843597412, -5.367800235748291, -3.9584999084472656, -4.444399833679199, -4.450799942016602, -5.095600128173828, -4.32919979095459, -5.015900135040283, -4.95419979095459, -5.04640007019043, -5.028900146484375, -5.3084001541137695, -5.175899982452393, -5.08650016784668, -5.340400218963623, -5.381700038909912, -5.460700035095215, -5.7453999519348145, -5.846399784088135, -5.685500144958496, -6.098800182342529, -6.142899990081787, -6.1641998291015625, -6.38670015335083, -6.292300224304199, -6.5416998863220215, -6.559500217437744, -6.581600189208984, -6.731100082397461, -6.734399795532227, -6.763899803161621, -6.770100116729736, -6.879799842834473, -6.883200168609619, -6.9766998291015625, -6.980100154876709, -6.992000102996826, -6.993500232696533, -7.020199775695801, -7.092800140380859, -7.100100040435791, -7.027500152587891, -7.128799915313721, -7.132599830627441, -7.167699813842773, -5.8231000900268555, -6.36870002746582, -3.861799955368042, -5.858099937438965, -4.737100124359131, -3.851300001144409, -5.702099800109863, -6.2941999435424805, -5.605999946594238, -6.565199851989746, -6.234600067138672, -4.497399806976318, -5.470799922943115, -5.564300060272217, -5.482399940490723, -4.887499809265137, -5.8460001945495605, -5.101099967956543, -5.968999862670898, -3.515500068664551, -5.488100051879883, -5.7642998695373535, -5.203800201416016, -5.710599899291992, -4.767300128936768, -5.621300220489502, -4.830599784851074, -5.29040002822876, -5.4899001121521, -4.854400157928467, -5.5208001136779785, -5.301700115203857, -5.185400009155273, -5.601099967956543, -5.423099994659424, -5.559100151062012, -5.5117998123168945, -5.533899784088135, -5.637800216674805, -7.037600040435791, -7.150400161743164, -7.242400169372559, -7.208600044250488, -7.503900051116943, -7.5329999923706055, -7.605000019073486, -7.63640022277832, -7.518400192260742, -7.792500019073486, -7.7932000160217285, -7.904399871826172, -7.893599987030029, -7.956200122833252, -8.050600051879883, -8.092900276184082, -8.102800369262695, -8.127300262451172, -8.156000137329102, -8.162199974060059, -8.16450023651123, -8.198699951171875, -8.210800170898438, -8.218099594116211, -8.220100402832031, -8.239299774169922, -8.261099815368652, -8.265399932861328, -8.295900344848633, -8.305100440979004, -6.802999973297119, -7.021999835968018, -7.910200119018555, -5.285699844360352, -6.403800010681152, -6.252799987792969, -5.913700103759766, -7.079800128936768, -6.167799949645996, -7.020699977874756, -7.397900104522705, -7.632699966430664, -5.51669979095459, -6.131999969482422, -6.542500019073486, -4.8471999168396, -5.380099773406982, -5.67609977722168, -6.755499839782715, -5.447800159454346, -6.163599967956543, -5.6097002029418945, -5.37060022354126, -5.61899995803833, -6.292099952697754, -5.369900226593018, -5.095900058746338, -5.897299766540527, -4.957300186157227, -4.881899833679199, -5.0584001541137695, -4.393400192260742, -4.246699810028076, -6.17579984664917, -5.1620001792907715, -5.905300140380859, -5.440299987792969, -5.258299827575684, -5.740699768066406, -5.634200096130371, -5.623199939727783, -4.983699798583984, -5.811999797821045, -5.235099792480469, -5.439499855041504, -5.524799823760986, -5.222799777984619, -5.392899990081787, -5.189700126647949, -5.3744001388549805, -5.581200122833252, -5.41510009765625, -6.084099769592285, -6.1732001304626465, -5.803999900817871, -6.481800079345703, -6.459499835968018, -6.657299995422363, -7.032299995422363, -7.149199962615967, -7.184700012207031, -7.407800197601318, -7.417699813842773, -7.440199851989746, -7.440199851989746, -7.44950008392334, -7.475800037384033, -7.497799873352051, -7.502799987792969, -7.365600109100342, -7.587699890136719, -7.776100158691406, -7.160900115966797, -7.8140997886657715, -7.823500156402588, -7.82390022277832, -7.824100017547607, -7.8454999923706055, -7.8566999435424805, -7.856599807739258, -7.862400054931641, -6.603499889373779, -5.951200008392334, -5.538700103759766, -6.940400123596191, -7.263400077819824, -6.722899913787842, -7.145599842071533, -5.067399978637695, -7.562900066375732, -6.488100051879883, -7.049699783325195, -5.7118000984191895, -6.811699867248535, -6.479100227355957, -6.861499786376953, -6.770500183105469, -5.314300060272217, -4.832399845123291, -6.465700149536133, -6.06279993057251, -5.238999843597412, -5.85129976272583, -4.0528998374938965, -6.364099979400635, -5.472899913787842, -4.715099811553955, -4.4191999435424805, -5.261300086975098, -5.883600234985352, -5.094699859619141, -5.122300148010254, -5.388199806213379, -4.973899841308594, -5.803699970245361, -5.308000087738037, -5.4980998039245605, -5.444799900054932, -5.70389986038208, -5.661099910736084, -5.002200126647949, -5.445700168609619, -5.534900188446045, -5.701300144195557, -5.593500137329102, -5.598899841308594, -5.426799774169922, -5.6427998542785645, -5.511000156402588, -5.544099807739258, -5.536499977111816, -5.622600078582764, -5.655099868774414, -6.6570000648498535, -6.704599857330322, -6.972300052642822, -7.173500061035156, -7.208000183105469, -7.240699768066406, -7.355800151824951, -7.358500003814697, -4.471799850463867, -7.4039998054504395, -6.166900157928467, -7.584499835968018, -6.628300189971924, -7.621799945831299, -7.622799873352051, -6.822400093078613, -7.4054999351501465, -7.675000190734863, -7.688700199127197, -6.267600059509277, -7.7195000648498535, -7.722899913787842, -7.769800186157227, -7.808300018310547, -6.708099842071533, -7.860899925231934, -7.865099906921387, -7.867000102996826, -7.874599933624268, -7.879499912261963, -5.35890007019043, -6.6666998863220215, -5.980800151824951, -5.938700199127197, -6.847599983215332, -6.645100116729736, -7.4832000732421875, -7.160900115966797, -6.8394999504089355, -6.0655999183654785, -5.927999973297119, -6.979000091552734, -6.287099838256836, -5.736199855804443, -5.480599880218506, -4.783899784088135, -6.211299896240234, -4.65910005569458, -5.5416998863220215, -6.679299831390381, -5.8796000480651855, -6.401299953460693, -5.398399829864502, -5.268199920654297, -5.750100135803223, -5.773499965667725, -5.813899993896484, -5.608699798583984, -5.30109977722168, -5.069900035858154, -5.285699844360352, -5.797500133514404, -4.894899845123291, -4.7382001876831055, -5.62529993057251, -5.363999843597412, -5.101600170135498, -5.41349983215332, -5.052199840545654, -5.539599895477295, -5.164299964904785, -5.482600212097168, -5.510300159454346, -5.735099792480469, -5.539100170135498, -5.472899913787842, -5.632900238037109, -5.640900135040283, -5.706999778747559, -5.732600212097168, -6.058899879455566, -6.499000072479248, -6.633600234985352, -6.831200122833252, -7.045400142669678, -7.106299877166748, -7.121600151062012, -7.147299766540527, -4.3730998039245605, -7.306399822235107, -7.32859992980957, -7.359099864959717, -7.370500087738037, -7.445099830627441, -6.933700084686279, -7.4969000816345215, -7.5208001136779785, -7.551799774169922, -7.554699897766113, -7.557799816131592, -7.571499824523926, -7.611800193786621, -7.622099876403809, -6.592299938201904, -7.701600074768066, -7.703000068664551, -7.729300022125244, -7.743100166320801, -7.772299766540527, -7.781099796295166, -6.207699775695801, -6.807000160217285, -6.598199844360352, -6.753300189971924, -6.930600166320801, -6.197000026702881, -5.776599884033203, -6.456900119781494, -5.429800033569336, -6.782199859619141, -6.504899978637695, -6.622000217437744, -4.313000202178955, -4.902200222015381, -6.867300033569336, -6.082300186157227, -6.1793999671936035, -6.01039981842041, -6.32390022277832, -4.659599781036377, -5.890100002288818, -5.9182000160217285, -5.08050012588501, -6.434100151062012, -5.333499908447266, -6.4918999671936035, -6.226900100708008, -6.282899856567383, -5.601500034332275, -4.727499961853027, -5.721799850463867, -4.854100227355957, -5.361100196838379, -5.314899921417236, -5.60230016708374, -5.35699987411499, -5.577700138092041, -5.473899841308594, -5.1956000328063965, -5.7347002029418945, -5.878399848937988, -5.97760009765625, -4.9141998291015625, -5.417699813842773, -5.618000030517578, -5.668900012969971, -5.2270002365112305, -5.346399784088135, -5.567200183868408, -5.432300090789795, -5.508399963378906, -5.565800189971924, -5.598499774932861, -5.6595001220703125, -5.559100151062012, -6.064599990844727, -6.224800109863281, -6.408299922943115, -6.408299922943115, -6.478000164031982, -6.478000164031982, -6.479100227355957, -6.564799785614014, -6.643099784851074, -6.805600166320801, -6.844600200653076, -6.876200199127197, -6.960299968719482, -6.962500095367432, -6.984300136566162, -7.059899806976318, -7.072800159454346, -7.087900161743164, -7.093400001525879, -7.2241997718811035, -7.2667999267578125, -7.2769999504089355, -7.303299903869629, -7.276299953460693, -7.321599960327148, -7.341000080108643, -7.3678998947143555, -7.396299839019775, -7.398200035095215, -5.480800151824951, -5.7428998947143555, -5.647600173950195, -5.712200164794922, -6.103000164031982, -5.862199783325195, -3.4439001083374023, -5.91510009765625, -5.582099914550781, -6.101099967956543, -5.168399810791016, -6.193299770355225, -4.577600002288818, -5.962299823760986, -5.02400016784668, -5.698699951171875, -6.365200042724609, -2.696500062942505, -6.100599765777588, -4.265900135040283, -5.179900169372559, -5.463200092315674, -5.288899898529053, -5.404699802398682, -5.0721001625061035, -5.302299976348877, -5.068699836730957, -5.27810001373291, -4.808599948883057, -5.000100135803223, -4.774199962615967, -4.942500114440918, -5.655300140380859, -5.461900234222412, -5.581200122833252, -5.430500030517578, -5.505300045013428, -5.423699855804443, -5.470900058746338, -5.559999942779541, -5.64709997177124, -4.554200172424316, -5.875800132751465, -5.932700157165527, -5.9608001708984375, -6.150100231170654, -6.387199878692627, -6.587399959564209, -6.696000099182129, -6.771500110626221, -6.80049991607666, -6.855800151824951, -6.865499973297119, -6.9004998207092285, -7.053699970245361, -7.1504998207092285, -7.195099830627441, -7.24370002746582, -7.251200199127197, -7.297699928283691, -7.356200218200684, -7.377900123596191, -7.402900218963623, -7.410600185394287, -7.438399791717529, -7.454800128936768, -7.457499980926514, -7.462399959564209, -7.5, -7.507699966430664, -7.552599906921387, -5.67519998550415, -5.572700023651123, -4.315400123596191, -4.815899848937988, -6.36870002746582, -6.639800071716309, -6.116499900817871, -6.156799793243408, -6.35099983215332, -5.940800189971924, -5.270400047302246, -5.45989990234375, -4.373600006103516, -4.847799777984619, -4.399199962615967, -5.739999771118164, -5.404699802398682, -5.558700084686279, -4.493299961090088, -3.8661000728607178, -3.741300106048584, -5.691100120544434, -5.093599796295166, -5.518199920654297, -4.876100063323975, -5.3242998123168945, -4.4355998039245605, -4.983399868011475, -4.962600231170654, -5.2941999435424805, -5.493199825286865, -5.329500198364258, -5.231299877166748, -5.66349983215332, -5.490099906921387, -5.369900226593018, -5.401700019836426, -5.422800064086914, -5.493599891662598, -5.566199779510498, -6.222400188446045, -6.392600059509277, -6.468400001525879, -6.679599761962891, -6.458799839019775, -6.508500099182129, -6.942299842834473, -7.034599781036377, -7.03980016708374, -7.065299987792969, -7.107399940490723, -7.186299800872803, -7.2418999671936035, -7.287300109863281, -7.29640007019043, -7.305799961090088, -7.310400009155273, -7.316699981689453, -7.345300197601318, -7.368599891662598, -7.392399787902832, -7.399799823760986, -7.40910005569458, -7.426300048828125, -7.504899978637695, -7.5269999504089355, -5.31879997253418, -7.535999774932861, -7.600399971008301, -7.622799873352051, -5.707399845123291, -5.309500217437744, -6.692200183868408, -6.861199855804443, -5.4456000328063965, -6.333099842071533, -7.035200119018555, -6.413000106811523, -6.468699932098389, -6.503300189971924, -6.673900127410889, -5.615799903869629, -4.888800144195557, -6.755799770355225, -5.576000213623047, -6.298099994659424, -5.930600166320801, -6.521500110626221, -5.100399971008301, -4.2947998046875, -6.0756001472473145, -5.93120002746582, -6.735099792480469, -5.012800216674805, -5.900400161743164, -5.392000198364258, -5.199100017547607, -5.850200176239014, -5.680600166320801, -6.023799896240234, -5.6296000480651855, -5.893199920654297, -5.725399971008301, -5.170499801635742, -4.565700054168701, -5.666900157928467, -4.689599990844727, -5.499599933624268, -5.6682000160217285, -5.661900043487549, -5.723899841308594, -5.259900093078613, -5.3246002197265625, -5.523499965667725, -5.48859977722168, -5.472599983215332, -5.624000072479248, -5.623700141906738, -5.55109977722168, -5.565899848937988, -5.641200065612793, -3.8554999828338623, -4.036499977111816, -4.078499794006348, -4.697500228881836, -4.6992998123168945, -5.024099826812744, -5.335000038146973, -5.3668999671936035, -5.370299816131592, -5.579100131988525, -5.599899768829346, -5.6209001541137695, -5.696599960327148, -5.744699954986572, -5.770199775695801, -5.985199928283691, -5.968900203704834, -6.07390022277832, -6.170899868011475, -6.24970006942749, -6.572999954223633, -6.60290002822876, -6.640999794006348, -6.6682000160217285, -6.693299770355225, -6.7058000564575195, -6.716100215911865, -6.752799987792969, -6.806600093841553, -6.854300022125244, -4.215799808502197, -4.136199951171875, -5.746500015258789, -3.9981000423431396, -5.400199890136719, -6.244100093841553, -5.164100170135498, -6.234000205993652, -4.870999813079834, -5.4105000495910645, -5.483099937438965, -4.953400135040283, -4.478099822998047, -4.986999988555908, -5.118899822235107, -4.558899879455566, -4.422500133514404, -4.8582000732421875, -4.861999988555908, -5.026700019836426, -5.400199890136719, -4.844699859619141, -5.144199848175049, -4.92710018157959, -5.259799957275391, -5.031899929046631, -5.175899982452393, -5.3302001953125]}, \"token.table\": {\"Topic\": [6, 7, 1, 1, 2, 7, 11, 4, 6, 7, 10, 1, 2, 3, 4, 5, 6, 7, 8, 9, 10, 11, 7, 6, 1, 4, 5, 6, 7, 6, 9, 11, 2, 5, 8, 1, 2, 3, 4, 5, 10, 11, 3, 5, 4, 10, 2, 7, 8, 10, 2, 3, 3, 1, 5, 7, 8, 1, 4, 5, 6, 8, 1, 2, 3, 4, 5, 6, 7, 8, 9, 10, 11, 4, 5, 11, 1, 2, 3, 5, 8, 10, 3, 4, 6, 7, 10, 1, 2, 10, 11, 4, 11, 1, 3, 7, 7, 10, 7, 8, 3, 5, 6, 7, 10, 3, 5, 1, 3, 4, 5, 6, 1, 2, 4, 5, 7, 8, 9, 11, 7, 7, 6, 1, 1, 2, 3, 5, 7, 8, 10, 7, 2, 3, 4, 6, 7, 8, 9, 10, 11, 4, 6, 3, 1, 4, 5, 7, 4, 3, 4, 1, 4, 11, 10, 10, 5, 1, 3, 5, 2, 6, 7, 9, 2, 4, 5, 9, 10, 5, 3, 10, 4, 3, 7, 8, 4, 1, 3, 4, 7, 2, 4, 6, 7, 4, 5, 8, 8, 1, 2, 3, 4, 5, 6, 8, 10, 10, 11, 2, 4, 5, 6, 7, 9, 10, 8, 6, 1, 2, 4, 9, 1, 3, 4, 8, 10, 2, 5, 6, 11, 3, 1, 2, 3, 4, 6, 7, 8, 9, 10, 11, 1, 2, 3, 4, 5, 6, 7, 8, 10, 11, 4, 1, 2, 3, 4, 7, 8, 9, 10, 11, 6, 7, 9, 7, 2, 6, 5, 9, 1, 3, 4, 5, 11, 1, 3, 4, 6, 7, 10, 11, 10, 2, 5, 10, 1, 2, 3, 4, 5, 6, 7, 9, 10, 11, 6, 4, 5, 5, 3, 5, 10, 10, 5, 5, 1, 5, 1, 2, 3, 4, 5, 6, 7, 8, 9, 10, 11, 1, 6, 1, 2, 3, 3, 1, 3, 4, 8, 1, 3, 8, 4, 5, 6, 7, 8, 9, 10, 1, 2, 3, 4, 5, 6, 7, 8, 9, 10, 11, 1, 2, 3, 7, 8, 10, 11, 4, 5, 8, 10, 5, 1, 2, 3, 4, 5, 6, 1, 2, 3, 4, 5, 6, 7, 8, 9, 10, 11, 1, 2, 3, 4, 5, 6, 7, 8, 9, 10, 11, 2, 7, 10, 10, 10, 1, 7, 1, 7, 1, 2, 3, 4, 6, 10, 11, 1, 4, 5, 6, 10, 4, 8, 8, 5, 5, 3, 4, 6, 7, 8, 9, 10, 11, 4, 6, 9, 1, 2, 3, 4, 5, 6, 7, 8, 9, 10, 11, 6, 7, 1, 2, 4, 6, 7, 10, 11, 7, 1, 3, 5, 3, 3, 3, 3, 3, 1, 2, 5, 6, 10, 1, 8, 8, 3, 6, 7, 8, 7, 1, 2, 3, 4, 5, 6, 8, 9, 4, 4, 5, 11, 1, 3, 5, 8, 9, 4, 1, 5, 1, 6, 7, 6, 9, 1, 2, 4, 5, 9, 10, 11, 11, 6, 7, 10, 3, 5, 6, 11, 1, 1, 8, 3, 4, 10, 3, 10, 1, 3, 4, 5, 11, 1, 4, 5, 1, 2, 4, 5, 6, 8, 9, 1, 2, 4, 5, 8, 9, 6, 5, 6, 9, 6, 9, 4, 1, 6, 7, 10, 11, 2, 4, 1, 5, 7, 11, 6, 7, 9, 10, 6, 9, 4, 6, 9, 4, 5, 8, 1, 3, 6, 7, 8, 9, 1, 2, 4, 6, 7, 5, 5, 5, 1, 4, 5, 1, 2, 3, 4, 6, 7, 8, 9, 10, 11, 1, 2, 3, 5, 6, 7, 10, 1, 2, 3, 6, 7, 8, 4, 5, 2, 1, 2, 3, 6, 7, 9, 10, 11, 3, 11, 11, 2, 10, 9, 1, 6, 3, 5, 6, 7, 10, 11, 2, 4, 5, 6, 7, 8, 9, 10, 4, 2, 3, 7, 8, 9, 10, 1, 2, 4, 5, 7, 8, 9, 10, 1, 2, 3, 4, 5, 6, 7, 8, 9, 10, 11, 3, 5, 10, 3, 4, 5, 10, 11, 4, 2, 5, 4, 6, 7, 11, 1, 2, 3, 4, 5, 6, 7, 9, 10, 11, 1, 4, 5, 6, 7, 9, 11, 6, 1, 4, 5, 7, 11, 4, 5, 1, 2, 5, 6, 7, 8, 10, 2, 8, 10, 1, 4, 5, 6, 7, 2, 3, 6, 7, 8, 9, 10, 11, 7, 1, 1, 2, 4, 5, 6, 7, 9, 10, 11, 5, 7, 3, 6, 11, 6, 2, 1, 2, 5, 8, 9, 10, 1, 2, 5, 8, 9, 1, 3, 4, 5, 2, 9, 1, 2, 3, 4, 5, 6, 7, 8, 9, 10, 11, 8, 4, 1, 2, 3, 4, 5, 6, 7, 9, 10, 11, 4, 5, 9, 7, 7, 8, 8, 3, 7, 4, 5, 6, 11, 11, 1, 2, 3, 4, 5, 6, 7, 8, 9, 10, 11, 1, 2, 4, 5, 6, 11, 1, 2, 3, 4, 5, 6, 7, 8, 9, 10, 11, 1, 2, 3, 4, 5, 6, 7, 8, 9, 10, 11, 4, 9, 10, 1, 9, 1, 2, 5, 6, 7, 9, 10, 9, 8, 8, 7, 10, 11, 7, 10, 1, 4, 5, 6, 7, 11, 1, 7, 11, 8, 8, 1, 2, 5, 8, 9, 4, 7, 8, 9, 10, 2, 6, 7, 11, 4, 10, 4, 4, 6, 9, 3, 4, 5, 6, 4, 5, 7, 10, 2, 4, 5, 6, 9, 10, 11, 11, 11, 11, 1, 2, 3, 5, 1, 2, 3, 1, 3, 4, 5, 6, 7, 8, 10, 11, 2, 7, 8, 10, 11, 4, 5, 4, 4, 8, 6, 6, 1, 3, 4, 5, 10, 10, 1, 1, 2, 3, 4, 5, 6, 7, 8, 9, 10, 7, 10, 1, 4, 5, 1, 1, 4, 6, 7, 11, 1, 3, 4, 5, 10, 8, 10, 2, 5, 6, 7, 9, 10, 4, 5, 6, 8, 5, 6, 5, 6, 9, 1, 3, 4, 5, 9, 11, 3, 1, 2, 3, 6, 7, 8, 11, 2, 7, 8, 10, 7, 1, 5, 8, 8, 5, 6, 1, 2, 3, 5, 6, 7, 8, 10, 8, 2, 5, 7, 5, 8, 1, 4, 5, 6, 4, 1, 6, 9, 9, 9, 9, 9, 3, 1, 6, 5, 1, 2, 3, 4, 5, 6, 7, 8, 9, 10, 11, 1, 2, 3, 4, 5, 6, 7, 9, 10, 11, 1, 2, 3, 4, 5, 6, 7, 8, 10, 11, 1, 2, 3, 4, 5, 6, 8, 10, 11, 1, 2, 4, 6, 7, 9, 1, 2, 7, 8, 7, 10, 2, 6, 7, 1, 2, 3, 5, 7, 8, 2, 3, 7, 5, 6, 9, 1, 2, 4, 5, 6, 7, 8, 10, 11, 8, 8, 1, 2, 4, 7, 9, 10, 5, 2, 3, 4, 5, 6, 7, 8, 9, 10, 11, 1, 2, 3, 4, 5, 6, 7, 8, 9, 10, 11, 1, 4, 4, 7, 1, 2, 3, 4, 5, 6, 7, 8, 9, 10, 3, 8, 1, 2, 3, 4, 5, 6, 8, 9, 10, 2, 1, 2, 3, 6, 7, 10, 11, 4, 1, 2, 3, 4, 5, 6, 7, 8, 9, 10, 11, 9, 4, 5, 9, 10, 6, 7, 6, 1, 2, 3, 4, 5, 6, 7, 8, 9, 10, 11, 6, 4, 5, 6, 11, 11, 11, 1, 2, 3, 4, 5, 7, 8, 9, 11, 8, 4, 5, 4, 6, 7, 11, 11, 11, 11, 3, 4, 10, 1, 2, 4, 5, 6, 9, 11, 4, 5, 11, 1, 2, 3, 6, 7, 8, 1, 2, 4, 5, 6, 7, 8, 9, 10, 11, 1, 9, 9, 1, 2, 3, 4, 5, 8, 9, 10, 11, 1, 1, 3, 4, 5, 6, 7, 9, 10, 11, 9, 1, 3, 8, 3, 5, 7, 10, 1, 2, 3, 4, 5, 6, 7, 8, 9, 10, 11, 2, 1, 2, 4, 5, 6, 11, 2, 6, 7, 11, 6, 7, 1, 2, 3, 4, 5, 6, 7, 8, 9, 10, 11, 1, 2, 3, 4, 5, 6, 7, 8, 9, 10, 11, 2, 4, 5, 9, 3, 10, 3, 10, 3, 5, 7, 10, 10, 1, 2, 3, 4, 5, 6, 7, 8, 9, 10, 11, 2, 2, 2, 9, 9, 1, 3, 4, 7, 8, 11, 2, 1, 3, 4, 5, 8, 8, 8, 1, 8, 8, 1, 8, 1, 2, 3, 4, 6, 7, 9, 10, 11, 10, 4, 7, 1, 2, 3, 4, 5, 6, 7, 8, 9, 10, 11, 3, 7, 10, 1, 2, 3, 4, 5, 7, 8, 9, 10, 11, 4, 5, 10, 1, 2, 6, 7, 10, 11, 6, 6, 1, 2, 3, 4, 5, 6, 7, 8, 9, 10, 11, 3, 4, 5, 8, 9, 10, 11, 1, 2, 3, 5, 8, 2, 2, 11, 4, 1, 4, 6, 7, 9, 11, 4, 5, 7, 1, 2, 5, 6, 7, 8, 9, 10, 1, 2, 5, 2, 1, 2, 3, 4, 5, 6, 7, 8, 9, 10, 11, 1, 4, 5, 1, 2, 8, 10, 11, 11, 1, 2, 3, 5, 6, 7, 9, 10, 1, 3, 5, 8, 10, 2, 9, 9, 9, 1, 2, 3, 4, 5, 6, 7, 8, 9, 10, 11, 11, 2, 4, 6, 9, 11, 9, 9, 9, 5, 5, 7, 4, 7, 1, 2, 3, 4, 5, 7, 8, 9, 10, 11, 8, 7, 10, 7, 10, 7, 1, 2, 3, 4, 5, 6, 8, 9, 1, 4, 1, 2, 4, 5, 7, 8, 1, 2, 5, 6, 4, 10, 3, 1, 2, 5, 8, 9, 10, 1, 2, 5, 8, 9, 2, 5, 8, 2, 3, 4, 6, 9, 10, 7, 10, 1, 2, 4, 5, 6, 7, 8, 9, 10, 9, 1, 4, 5, 6, 3, 4, 9, 1, 2, 5, 6, 7, 9, 1, 3, 4, 5, 6, 8, 9, 1, 2, 3, 4, 5, 8, 10, 7, 8, 10, 10, 7, 8, 10, 2, 3, 4, 5, 6, 7, 8, 10, 11, 1, 3, 1, 2, 3, 4, 5, 6, 7, 8, 9, 10, 11, 7, 1, 4, 1, 3, 8, 4, 11, 11, 5, 10, 10, 5, 2, 7, 9, 10, 1, 3, 4, 5, 6, 7, 8, 9, 11, 7, 4, 6, 9, 11, 5, 3, 1, 5, 4, 2, 4, 5, 8, 9, 4, 5, 7, 1, 2, 3, 4, 8, 9, 1, 2, 4, 5, 7, 8, 9, 2, 2, 2, 2, 1, 2, 3, 4, 6, 7, 8, 9, 10, 11, 1, 2, 3, 4, 7, 8, 10, 11, 10, 10, 1, 3, 4, 5, 6, 8, 9, 1, 3, 4, 5, 6, 7, 10, 11, 2, 2, 7, 2, 4, 5, 6, 8, 10, 4, 11, 11, 6, 9, 9, 3, 1, 2, 3, 4, 5, 6, 7, 8, 9, 11, 2, 3, 8, 8, 2, 2, 7, 8, 9, 10, 2, 8, 2, 9, 2, 2, 3, 4, 5, 7, 10, 11, 9, 4, 6, 10, 10, 10, 8, 11, 1, 8, 2, 10, 3, 8, 11, 11, 2, 8, 1, 3, 6, 7, 9, 10, 11, 1, 2, 3, 4, 5, 7, 8, 9, 10, 11, 4, 7, 10, 7, 10, 1, 3, 2, 10, 2, 10, 1, 6, 7, 7, 1, 1, 1, 7, 1, 1, 1, 3, 10, 4, 5, 9, 5, 5, 1, 2, 3, 4, 5, 6, 7, 8, 9, 10, 11, 6, 1, 2, 3, 10, 1, 3, 4, 5, 6, 8, 10, 11, 1, 2, 3, 4, 5, 6, 7, 8, 9, 10, 11, 1, 8, 1, 10, 8, 6, 8, 10, 8, 10, 9, 6, 6, 9, 1, 3, 4, 5, 7, 8, 11, 1, 3, 4, 5, 7, 8, 1, 2, 4, 5, 6, 8, 9, 11, 1, 2, 4, 5, 6, 7, 9, 11, 1, 3, 6, 7, 4, 8, 8, 1, 2, 3, 4, 5, 6, 7, 9, 10, 11, 1, 3, 5, 6, 7, 8, 10, 11, 10, 10, 10, 1, 5, 1, 4, 5, 7, 10, 11, 4, 1, 2, 3, 4, 5, 6, 7, 8, 9, 10, 11, 1, 2, 3, 4, 5, 6, 7, 8, 9, 10, 11, 1, 2, 6, 7, 9, 10, 1, 3, 4, 5, 6, 8, 9, 10, 3, 8, 1, 5, 2, 5, 6, 8, 8, 10, 2, 7, 2, 3, 4, 6, 9, 9, 9, 1, 2, 7, 8, 10, 11, 4, 5, 4, 5, 6, 11, 11, 1, 2, 3, 4, 5, 6, 7, 8, 9, 11, 1, 2, 3, 5, 8, 9, 2, 4, 9, 10, 6, 7, 9, 3, 4, 5, 8, 1, 2, 3, 5, 10, 3, 1, 3, 4, 3, 6, 7, 8, 9, 11, 7, 8, 1, 9, 3, 1, 2, 3, 4, 5, 7, 8, 9, 11, 1, 2, 5, 1, 2, 3, 4, 5, 6, 7, 8, 9, 10, 11, 6, 1, 5, 7, 3, 4, 6, 7, 9, 10, 11, 4, 5, 6, 11, 5, 1, 4, 5, 7, 9, 10, 9, 9, 6, 4, 5, 6, 7, 10, 11, 7, 10, 11, 1, 9, 1, 4, 9, 1, 3, 3, 9, 1, 2, 3, 4, 5, 6, 7, 8, 9, 10, 11, 5, 9, 1, 2, 3, 5, 2, 9, 10, 6, 7, 9, 11, 7, 1, 7, 10, 10, 1, 5, 6, 7, 6, 7, 11, 11, 1, 2, 3, 4, 5, 6, 8, 11, 2, 2, 9, 9, 6, 8, 1, 2, 3, 5, 6, 7, 1, 3, 1, 1, 3, 5, 8, 1, 3, 4, 5, 8, 10, 4, 1, 3, 7, 8, 6, 7, 1, 6, 7, 11, 1, 2, 3, 4, 5, 6, 7, 8, 9, 10, 11, 1, 3, 6, 7, 8, 9, 10, 11, 1, 4, 5, 6, 11, 4, 1, 1, 1, 2, 3, 4, 5, 6, 7, 8, 9, 10, 11, 7, 6, 7, 10, 11, 1, 2, 4, 5, 6, 7, 9, 4], \"Freq\": [0.9588484764099121, 0.0322302021086216, 0.9992290735244751, 0.040427446365356445, 0.004255520645529032, 0.9511089324951172, 0.002127760322764516, 0.004089223220944405, 0.0020446116104722023, 0.010223058052361012, 0.9834582209587097, 0.08059730380773544, 0.039642322808504105, 0.08558541536331177, 0.22000177204608917, 0.04069245234131813, 0.15856929123401642, 0.10028719902038574, 0.026515726000070572, 0.0708836242556572, 0.07534667104482651, 0.10186239331960678, 0.98388671875, 0.9833790063858032, 0.02182803675532341, 0.0054570091888308525, 0.8840354681015015, 0.02182803675532341, 0.06548410654067993, 0.8257453441619873, 0.16168439388275146, 0.011548886075615883, 0.9454521536827087, 0.01957457885146141, 0.03327678516507149, 0.9974598288536072, 0.004721557255834341, 0.6213569045066833, 0.015108983032405376, 0.011331737041473389, 0.32201018929481506, 0.02455209754407406, 0.9886866807937622, 0.007243126165121794, 0.016071245074272156, 0.9803459644317627, 0.07434660196304321, 0.8241851925849915, 0.02549026347696781, 0.07434660196304321, 0.9986137747764587, 0.9962975382804871, 0.9904356598854065, 0.15644024312496185, 0.7919787168502808, 0.013851480558514595, 0.03748047724366188, 0.05431072413921356, 0.0336209237575531, 0.6879358291625977, 0.015517349354922771, 0.20948421955108643, 0.1341559737920761, 0.12667088210582733, 0.006909321062266827, 0.11457957327365875, 0.10824602842330933, 0.2867368161678314, 0.03800126537680626, 0.005757767241448164, 0.10536714643239975, 0.014394418336451054, 0.05930500477552414, 0.026109915226697922, 0.018649939447641373, 0.9548768997192383, 0.6667327880859375, 0.012899304740130901, 0.04111653193831444, 0.11206270754337311, 0.13544270396232605, 0.03063584864139557, 0.9958938360214233, 0.025155769661068916, 0.018866827711462975, 0.04402259737253189, 0.9056077003479004, 0.8595637679100037, 0.10531079024076462, 0.028462376445531845, 0.007115594111382961, 0.9842898845672607, 0.9958472847938538, 0.07566523551940918, 0.8945311903953552, 0.028584644198417664, 0.968360424041748, 0.02964368648827076, 0.9959004521369934, 0.9951310157775879, 0.033805787563323975, 0.1475161612033844, 0.7836796641349792, 0.03073253482580185, 0.003073253436014056, 0.9978383183479309, 0.9977697134017944, 0.4750487804412842, 0.021325718611478806, 0.12354210019111633, 0.37797999382019043, 0.0014707392547279596, 0.00547036062926054, 0.7963281869888306, 0.006251840386539698, 0.0781480073928833, 0.02500736154615879, 0.041418444365262985, 0.03438512235879898, 0.01328516099601984, 0.9947429895401001, 0.983801543712616, 0.9820268154144287, 0.9988284707069397, 0.008847418241202831, 0.0006805706070736051, 0.4335234761238098, 0.06057078391313553, 0.3389241695404053, 0.1572118103504181, 0.9870633482933044, 0.991682767868042, 0.06395675987005234, 0.03795236349105835, 0.047089044004678726, 0.007028215564787388, 0.4252070188522339, 0.003514107782393694, 0.041466470807790756, 0.16094613075256348, 0.21295492351055145, 0.009727666154503822, 0.9873581528663635, 0.995305597782135, 0.0440545417368412, 0.92398601770401, 0.004637320060282946, 0.02666459046304226, 0.9820820689201355, 0.9482412338256836, 0.04656541720032692, 0.9959174990653992, 0.00086226622806862, 0.002586798742413521, 0.9939948916435242, 0.9893580675125122, 0.9924747347831726, 0.6547289490699768, 0.0006680907681584358, 0.3447348475456238, 0.8944528102874756, 0.004384572617709637, 0.018269052729010582, 0.08257611840963364, 0.005429327953606844, 0.7456277012825012, 0.028956416994333267, 0.06032586842775345, 0.15926028788089752, 0.9907718896865845, 0.10832642763853073, 0.8912310600280762, 0.9700757265090942, 0.026495862752199173, 0.052991725504398346, 0.9185231924057007, 0.9788674116134644, 0.11242102831602097, 0.8616886734962463, 0.013589355163276196, 0.011736261658370495, 0.030887814238667488, 0.05295053869485855, 0.851621150970459, 0.061775628477334976, 0.03850610926747322, 0.9562350511550903, 0.9952899217605591, 0.9890459775924683, 0.07807673513889313, 0.0012011805083602667, 0.06606493145227432, 0.10089915990829468, 0.22702310979366302, 0.03243187442421913, 0.08648499846458435, 0.4072001874446869, 0.9454860091209412, 0.04890444874763489, 0.01062940713018179, 0.40320885181427, 0.29337164759635925, 0.011338034644722939, 0.0701540857553482, 0.16298425197601318, 0.04818664863705635, 0.9900428652763367, 0.995180606842041, 0.030393650755286217, 0.951555073261261, 0.014027838595211506, 0.0023379730992019176, 0.004651342984288931, 0.6128144264221191, 0.03953641653060913, 0.3418737053871155, 0.9895396828651428, 0.012220967561006546, 0.057771846652030945, 0.7110381126403809, 0.21775542199611664, 0.9970160722732544, 0.02010745368897915, 0.017594020813703537, 0.03560694679617882, 0.019269641488790512, 0.023877600207924843, 0.4712684154510498, 0.01675621047616005, 0.011310442350804806, 0.0025134317111223936, 0.38162270188331604, 0.027178490534424782, 0.04323850944638252, 0.014824631623923779, 0.04015004262328148, 0.163070946931839, 0.3730865716934204, 0.02841387689113617, 0.019766176119446754, 0.03335542231798172, 0.2575779855251312, 0.9804304242134094, 0.013193570077419281, 0.038028523325920105, 0.04656554013490677, 0.02949150837957859, 0.6961548328399658, 0.010089199990034103, 0.0636395737528801, 0.09313108026981354, 0.009313108399510384, 0.9906954765319824, 0.00564177380874753, 0.0033850641921162605, 0.98967045545578, 0.019945362582802773, 0.9773227572441101, 0.9473188519477844, 0.046589452773332596, 0.8645521998405457, 0.004447285085916519, 0.12452398240566254, 0.0014231312088668346, 0.00480306800454855, 0.6874563694000244, 0.006972174625843763, 0.19847457110881805, 0.006507362704724073, 0.018592465668916702, 0.0608903244137764, 0.020916523411870003, 0.9831047058105469, 0.8422267436981201, 0.12227251380681992, 0.034202102571725845, 0.0204982478171587, 0.0004555166233330965, 0.005466199479997158, 0.06377232819795609, 0.20543800294399261, 0.08973677456378937, 0.002733099739998579, 0.0022775831166654825, 0.6094812154769897, 0.0004555166233330965, 0.9826512336730957, 0.002142211189493537, 0.9961282014846802, 0.9983093738555908, 0.27315211296081543, 0.01838523894548416, 0.7065184712409973, 0.9904467463493347, 0.9942397475242615, 0.9946544170379639, 0.9840791821479797, 0.01374960970133543, 0.05696791410446167, 0.20875491201877594, 0.06843796372413635, 0.05964425951242447, 0.08755471557378769, 0.24431206285953522, 0.11278882622718811, 0.003441015025600791, 0.0420568510890007, 0.07379065454006195, 0.04282151907682419, 0.9803391695022583, 0.016522571444511414, 0.9980195760726929, 0.06375747174024582, 0.9357951879501343, 0.9975196719169617, 0.2950572073459625, 0.20854350924491882, 0.0009106703801080585, 0.4944940209388733, 0.022288354113698006, 0.059435609728097916, 0.9175372123718262, 0.5236328840255737, 0.01750173047184944, 0.0028381184674799442, 0.03878761827945709, 0.010406434535980225, 0.23887497186660767, 0.1674489825963974, 0.18511326611042023, 0.20084789395332336, 0.019436893984675407, 0.0027766991406679153, 0.43038836121559143, 0.0027766991406679153, 0.037022653967142105, 0.07682200521230698, 0.029618123546242714, 0.0037022654432803392, 0.012032362632453442, 0.0447886660695076, 0.05898994952440262, 0.014201284386217594, 0.08739251643419266, 0.05898994952440262, 0.0633595734834671, 0.6718299984931946, 0.22610558569431305, 0.09844052791595459, 0.1599658578634262, 0.5152746438980103, 0.9847258925437927, 0.38080862164497375, 0.002971750684082508, 0.008490716107189655, 0.08320901542901993, 0.5217545032501221, 0.002547214739024639, 0.26463836431503296, 0.13664568960666656, 0.09013567864894867, 0.07138745486736298, 0.05299977958202362, 0.05047598108649254, 0.06958474218845367, 0.17702648043632507, 0.05624466389417648, 0.018387679010629654, 0.012258452363312244, 0.1843842715024948, 0.0051357033662498, 0.057745348662137985, 0.28221315145492554, 0.2327350378036499, 0.03970775380730629, 0.039457231760025024, 0.04208771511912346, 0.03106474131345749, 0.006513575091958046, 0.07903973013162613, 0.005450577940791845, 0.9920051693916321, 0.0021802312694489956, 0.9929460287094116, 0.9841639995574951, 0.0690392479300499, 0.9298264980316162, 0.07128088921308517, 0.9266515970230103, 0.14132516086101532, 0.00954899750649929, 0.7772883772850037, 0.011458797380328178, 0.0324665904045105, 0.013368596322834492, 0.011458797380328178, 0.03926964849233627, 0.011780894361436367, 0.3010672926902771, 0.6400952339172363, 0.006544941104948521, 0.04227902740240097, 0.9548013210296631, 0.9885976910591125, 0.9927096962928772, 0.992353618144989, 0.009574824944138527, 0.6893873810768127, 0.13644126057624817, 0.04188985750079155, 0.0023937062360346317, 0.10651993006467819, 0.007181118708103895, 0.0047874124720692635, 0.920251727104187, 0.032633040100336075, 0.045686256140470505, 0.13445650041103363, 0.13015995919704437, 0.11701759696006775, 0.0005054755602031946, 0.17160895466804504, 0.12889626622200012, 0.05282219871878624, 0.02426282688975334, 0.0288121085613966, 0.05459136143326759, 0.15669742226600647, 0.985882580280304, 0.005903488490730524, 0.02342526987195015, 0.16280561685562134, 0.02342526987195015, 0.021082742139697075, 0.2342526912689209, 0.11009876430034637, 0.4239973723888397, 0.9822273254394531, 0.051354702562093735, 0.9447007775306702, 0.003668193006888032, 0.9987859725952148, 0.9976165294647217, 0.9965193271636963, 0.993415892124176, 0.9914038777351379, 0.019852539524435997, 0.924561083316803, 0.05388546362519264, 0.0009453590027987957, 0.9860855340957642, 0.01561372447758913, 0.9817129373550415, 0.9935624599456787, 0.9980753064155579, 0.9917790293693542, 0.9609368443489075, 0.03203122690320015, 0.996254026889801, 0.04508223757147789, 0.002276880666613579, 0.03324245661497116, 0.45583152770996094, 0.32104018330574036, 0.025045687332749367, 0.10063812881708145, 0.016393540427088737, 0.972547709941864, 0.9471514225006104, 0.037387557327747345, 0.998384952545166, 0.7664727568626404, 0.08603265136480331, 0.031284600496292114, 0.10069730877876282, 0.0136870127171278, 0.9841422438621521, 0.8113290667533875, 0.18824149668216705, 0.9935283064842224, 0.9717809557914734, 0.011299778707325459, 0.9641092419624329, 0.029573902487754822, 0.028365662321448326, 0.016546636819839478, 0.018910441547632217, 0.08273318409919739, 0.0070914155803620815, 0.8438785076141357, 0.002363805193454027, 0.9993743896484375, 0.9871852397918701, 0.9829733967781067, 0.01496913842856884, 0.9916873574256897, 0.016360806301236153, 0.13556095957756042, 0.8460873961448669, 0.9971342086791992, 0.04108487814664841, 0.956690788269043, 0.9990503191947937, 0.9925737380981445, 0.9933859705924988, 0.9945034980773926, 0.9802018404006958, 0.17113754153251648, 0.15177808701992035, 0.013938804157078266, 0.29116612672805786, 0.3717014491558075, 0.03420725464820862, 0.09773501008749008, 0.8649548292160034, 0.21942904591560364, 0.044502679258584976, 0.2767097055912018, 0.35293707251548767, 0.002203102922067046, 0.0004406205553095788, 0.103986456990242, 0.03170960396528244, 0.11400356888771057, 0.4250596761703491, 0.3163410425186157, 0.006039924453943968, 0.10645366460084915, 0.9820777177810669, 0.05484508350491524, 0.3341831862926483, 0.6107325553894043, 0.0649653747677803, 0.9338772892951965, 0.9856892824172974, 0.16117607057094574, 0.7879718542098999, 0.007675050757825375, 0.017908452078700066, 0.0230251532047987, 0.9991388916969299, 0.9949902892112732, 0.20299717783927917, 0.5890898108482361, 0.1804419308900833, 0.026535578072071075, 0.05502181127667427, 0.11004362255334854, 0.7372922897338867, 0.09463751316070557, 0.07122133672237396, 0.9258773326873779, 0.012800726108253002, 0.10880617052316666, 0.8768497705459595, 0.7003806233406067, 0.2871767282485962, 0.01239611767232418, 0.009624951519072056, 0.01924990303814411, 0.8590269088745117, 0.004812475759536028, 0.06256218254566193, 0.048124756664037704, 0.9956458806991577, 0.016888665035367012, 0.028147775679826736, 0.9232470393180847, 0.02251822128891945, 0.9915601015090942, 0.9891296625137329, 0.9890922904014587, 0.006530002690851688, 0.20569507777690887, 0.7836003303527832, 0.163123220205307, 0.12748950719833374, 0.048303477466106415, 0.009502323344349861, 0.3927627205848694, 0.07601858675479889, 0.06176510453224182, 0.08393719047307968, 0.011086043901741505, 0.025339530780911446, 0.3166576027870178, 0.024568263441324234, 0.09827305376529694, 0.4422287344932556, 0.0866713747382164, 0.0034122588112950325, 0.027980521321296692, 0.025191381573677063, 0.028790151700377464, 0.8037250638008118, 0.04078604653477669, 0.0023991791531443596, 0.09836634993553162, 0.8782985806465149, 0.11976798623800278, 0.9916556477546692, 0.0033705069217830896, 0.012519026175141335, 0.29516011476516724, 0.3298282027244568, 0.04911310225725174, 0.009630019776523113, 0.2681960463523865, 0.03177906572818756, 0.992913007736206, 0.9971814751625061, 0.9941762089729309, 0.033807478845119476, 0.9645074605941772, 0.9808779358863831, 0.0429779589176178, 0.9550657272338867, 0.9085856080055237, 0.04950626567006111, 0.04076986759901047, 0.9837769269943237, 0.003380676731467247, 0.010142030194401741, 0.04014967381954193, 0.6550132632255554, 0.001147133531048894, 0.04703247547149658, 0.07800508290529251, 0.004588534124195576, 0.14912736415863037, 0.025236938148736954, 0.9787375926971436, 0.0828290730714798, 0.36024072766304016, 0.010517978109419346, 0.010517978109419346, 0.073625847697258, 0.4627910256385803, 0.02230822667479515, 0.03253282979130745, 0.4703317880630493, 0.03625086694955826, 0.03903939574956894, 0.06227713078260422, 0.2602626383304596, 0.07714928686618805, 0.2019318789243698, 0.0634569600224495, 0.07835778594017029, 0.09146023541688919, 0.13667653501033783, 0.08580820262432098, 0.05626346170902252, 0.05112524703145027, 0.0256910789757967, 0.048813048750162125, 0.16005541384220123, 0.012869076803326607, 0.03860723227262497, 0.9458771347999573, 0.11785626411437988, 0.011118515394628048, 0.04002665728330612, 0.8272175788879395, 0.004447406157851219, 0.9779666662216187, 0.9951158165931702, 0.9782878160476685, 0.6188234686851501, 0.31414279341697693, 0.02081669121980667, 0.045418236404657364, 0.05635267496109009, 0.062102947384119034, 0.6906077861785889, 0.023001091554760933, 0.06037786602973938, 0.013800655491650105, 0.039676882326602936, 0.032201528549194336, 0.013225628063082695, 0.008625409565865993, 0.5104086399078369, 0.19033987820148468, 0.16588281095027924, 0.047053296118974686, 0.06592778116464615, 0.003987567499279976, 0.016481945291161537, 0.9867965579032898, 0.7929599285125732, 0.024188432842493057, 0.04522185027599335, 0.048376865684986115, 0.0893920361995697, 0.9297146797180176, 0.06291302293539047, 0.10228944569826126, 0.5792390704154968, 0.05054302141070366, 0.008022701367735863, 0.12996776401996613, 0.06859409809112549, 0.061373669654130936, 0.9847176671028137, 0.003383909584954381, 0.010151728987693787, 0.1818384975194931, 0.007640272844582796, 0.7793078422546387, 0.021392764523625374, 0.009168327786028385, 0.0017841054359450936, 0.0071364217437803745, 0.10972248017787933, 0.4870607852935791, 0.019625158980488777, 0.031221844255924225, 0.2863489091396332, 0.057091373950242996, 0.9922018051147461, 0.9927990436553955, 0.018258260563015938, 0.022822825238108635, 0.17801804840564728, 0.49069076776504517, 0.1711711883544922, 0.09585586935281754, 0.0045645651407539845, 0.01711711846292019, 0.00342342397198081, 0.9978370666503906, 0.992030680179596, 0.9976488947868347, 0.9855450987815857, 0.01016025897115469, 0.9933183789253235, 0.9952266216278076, 0.21646010875701904, 0.4480111002922058, 0.26927825808525085, 0.010846585035324097, 0.05140338093042374, 0.0037727251183241606, 0.23050908744335175, 0.42870381474494934, 0.2945992350578308, 0.007001444231718779, 0.03931580111384392, 0.10951640456914902, 0.0015534241683781147, 0.298257440328598, 0.5895244479179382, 0.9862166047096252, 0.012976533733308315, 0.13707409799098969, 0.09872372448444366, 0.023794949054718018, 0.1110009029507637, 0.03290790691971779, 0.01582111045718193, 0.06366414576768875, 0.0011391198495402932, 0.31287825107574463, 0.12922681868076324, 0.07353651523590088, 0.99337238073349, 0.986315906047821, 0.10432228446006775, 0.046104978770017624, 0.06056162714958191, 0.07619043439626694, 0.08869347721338272, 0.068766750395298, 0.31257614493370056, 0.10158724337816238, 0.13597062230110168, 0.00547008216381073, 0.6668554544448853, 0.24080891907215118, 0.08953152596950531, 0.9955136775970459, 0.9808666706085205, 0.9860104918479919, 0.9931091070175171, 0.9966012239456177, 0.9855836033821106, 0.04049285501241684, 0.04377605766057968, 0.10998734831809998, 0.8054794669151306, 0.9937921762466431, 0.34520673751831055, 0.11086931824684143, 0.08768755197525024, 0.0015118543524295092, 0.31849732995033264, 0.008063223212957382, 0.050899095833301544, 0.010582980699837208, 0.023181766271591187, 0.04233192279934883, 0.0015118543524295092, 0.022308124229311943, 0.0013122425880283117, 0.07611007243394852, 0.27163422107696533, 0.6272519826889038, 0.0013122425880283117, 0.05696428194642067, 0.21003156900405884, 0.06975217908620834, 0.056576769798994064, 0.08990281075239182, 0.24064502120018005, 0.11509110033512115, 0.0034876090940088034, 0.041851308196783066, 0.07285227626562119, 0.042626332491636276, 0.12711359560489655, 0.05279478430747986, 0.16731885075569153, 0.07553715258836746, 0.08853279054164886, 0.1035589948296547, 0.05929260328412056, 0.04670307785272598, 0.1620393693447113, 0.07147601246833801, 0.04589084908366203, 0.06286732107400894, 0.9262452125549316, 0.008382310159504414, 0.9738072752952576, 0.02434518188238144, 0.5691661238670349, 0.01404594536870718, 0.018320797011256218, 0.0714511126279831, 0.006106932647526264, 0.3193925619125366, 0.0018320797244086862, 0.9952116012573242, 0.9966725707054138, 0.9966725707054138, 0.02364635467529297, 0.057324495166540146, 0.9186250567436218, 0.9958032369613647, 0.9841763377189636, 0.29827362298965454, 0.017221340909600258, 0.02479873225092888, 0.06750766187906265, 0.4890860915184021, 0.10332804918289185, 0.28459781408309937, 0.6935827732086182, 0.020897042006254196, 0.9948828816413879, 0.9846315383911133, 0.21762168407440186, 0.4465484023094177, 0.2703784704208374, 0.006594596430659294, 0.05888032540678978, 0.010503157041966915, 0.8381518721580505, 0.027308207005262375, 0.04621388763189316, 0.07562272995710373, 0.01744375377893448, 0.046516675502061844, 0.011629168875515461, 0.9128897190093994, 0.9768192172050476, 0.022327296435832977, 0.9700257182121277, 0.08847875148057938, 0.2744646966457367, 0.6356024146080017, 0.029756741598248482, 0.034716200083494186, 0.9224590063095093, 0.009918914176523685, 0.024107713252305984, 0.9643085598945618, 0.9617761373519897, 0.03404517099261284, 0.012236546725034714, 0.7392913699150085, 0.1244048923254013, 0.03467021510004997, 0.02039424516260624, 0.06832072138786316, 0.9988266229629517, 0.9964921474456787, 0.9913094639778137, 0.9893645644187927, 0.5454298853874207, 0.012699182145297527, 0.41716814041137695, 0.024128446355462074, 0.5412576794624329, 0.008409370668232441, 0.4495190978050232, 0.27710703015327454, 0.00438691908493638, 0.24968880414962769, 0.24347399175167084, 0.021569017320871353, 0.062148015946149826, 0.1381879448890686, 0.001096729771234095, 0.00219345954246819, 0.12829096615314484, 0.525006115436554, 0.0888168215751648, 0.24079227447509766, 0.015789657831192017, 0.8225053548812866, 0.1767152100801468, 0.9915542006492615, 0.016123361885547638, 0.9812217950820923, 0.9878446459770203, 0.9849623441696167, 0.11971648037433624, 0.23179148137569427, 0.04584886506199837, 0.03311306983232498, 0.569290041923523, 0.9761096835136414, 0.9961034059524536, 0.7316353917121887, 0.05924899876117706, 0.04555888846516609, 0.00785498134791851, 0.047129884362220764, 0.01593438908457756, 0.012567969039082527, 0.00022442803310696036, 0.0686749741435051, 0.011221401393413544, 0.9874305725097656, 0.009974045678973198, 0.9744082093238831, 0.025259600952267647, 0.000191360610187985, 0.9938874244689941, 0.9568716287612915, 0.015471221879124641, 0.011251797899603844, 0.013127097859978676, 0.002812949474900961, 0.9963860511779785, 0.9957114458084106, 0.04113253206014633, 0.005876075942069292, 0.9460482597351074, 0.9948828816413879, 0.9779028296470642, 0.05985436588525772, 0.033077411353588104, 0.24965570867061615, 0.013388476334512234, 0.6442219614982605, 0.0007875574519857764, 0.00784498080611229, 0.9523807168006897, 0.020396951586008072, 0.018827954307198524, 0.9837201237678528, 0.009413589723408222, 0.9800776839256287, 0.019504033029079437, 0.9905128479003906, 0.35153138637542725, 0.46817344427108765, 0.018191883340477943, 0.11771218478679657, 0.02514760196208954, 0.018726937472820282, 0.99318927526474, 0.14300362765789032, 0.35628682374954224, 0.0763908252120018, 0.01283365860581398, 0.04094548150897026, 0.36789822578430176, 0.0024445063900202513, 0.03226142376661301, 0.9284120798110962, 0.03226142376661301, 0.007169205229729414, 0.9932101368904114, 0.9952303767204285, 0.9897840619087219, 0.992405116558075, 0.9949859380722046, 0.9861292243003845, 0.9905762672424316, 0.11262493580579758, 0.424043208360672, 0.05705147609114647, 0.0031038366723805666, 0.09533213078975677, 0.15652205049991608, 0.1507577896118164, 0.00029560350230894983, 0.9873408675193787, 0.9976701140403748, 0.029568195343017578, 0.9698367714881897, 0.9896655082702637, 0.9840275049209595, 0.006870557088404894, 0.08382079750299454, 0.2775704860687256, 0.6307170987129211, 0.9965521097183228, 0.04165327176451683, 0.00682840496301651, 0.9505139589309692, 0.9860385060310364, 0.9979516863822937, 0.9920265078544617, 0.9914825558662415, 0.9961390495300293, 0.03712153434753418, 0.960210382938385, 0.978114902973175, 0.124237559735775, 0.11825444549322128, 0.07056552171707153, 0.18969984352588654, 0.05191229283809662, 0.07848434895277023, 0.1210700273513794, 0.05543177202343941, 0.0637025460600853, 0.08411551266908646, 0.04240970313549042, 0.0634513720870018, 0.026878707110881805, 0.037013303488492966, 0.36087968945503235, 0.02555680461227894, 0.1793382614850998, 0.12469957768917084, 0.06962025910615921, 0.10531165450811386, 0.0070501528680324554, 0.136923685669899, 0.24964690208435059, 0.03247957304120064, 0.03948497027158737, 0.05094834789633751, 0.04521665722131729, 0.05031149089336395, 0.27129995822906494, 0.06559599936008453, 0.057316891849040985, 0.014054492115974426, 0.014054492115974426, 0.25561606884002686, 0.05533956363797188, 0.04743391275405884, 0.009662463329732418, 0.5973159074783325, 0.00527043454349041, 0.0008784057572484016, 0.03524507209658623, 0.10253111273050308, 0.028302859514951706, 0.019758600741624832, 0.7300001978874207, 0.08384054899215698, 0.011111093685030937, 0.9753071069717407, 0.003086414886638522, 0.009876527823507786, 0.9791136384010315, 0.01165611483156681, 0.026764575392007828, 0.08411724120378494, 0.8870545029640198, 0.2740273177623749, 0.4468216001987457, 0.03199894353747368, 0.15708571672439575, 0.0026180953718721867, 0.0872698426246643, 0.9964745044708252, 0.984094500541687, 0.01462560798972845, 0.032017093151807785, 0.9156888723373413, 0.04482392966747284, 0.01881297118961811, 0.5344974398612976, 0.003344528377056122, 0.06981702893972397, 0.2054794579744339, 0.07776028662919998, 0.002717429306358099, 0.07964158058166504, 0.007734221871942282, 0.9868234992027283, 0.997565507888794, 0.11349429190158844, 0.04470987245440483, 0.01891571469604969, 0.6293774247169495, 0.18055909872055054, 0.012037273496389389, 0.9942926168441772, 0.02877488173544407, 0.0059242406859993935, 0.03893072158098221, 0.019465360790491104, 0.5881924629211426, 0.084632009267807, 0.010155840776860714, 0.01861904188990593, 0.1303332895040512, 0.07532248646020889, 0.1315138041973114, 0.0472627729177475, 0.014384321868419647, 0.07911377400159836, 0.008219612762331963, 0.5784552693367004, 0.05240003019571304, 0.03493335470557213, 0.020549030974507332, 0.020549030974507332, 0.012329419143497944, 0.9911177158355713, 0.9657049179077148, 0.9379239082336426, 0.06109083071351051, 0.27482128143310547, 0.015824642032384872, 0.07806823402643204, 0.1023326888680458, 0.02373696304857731, 0.1313445270061493, 0.01318720169365406, 0.32546013593673706, 0.02584691531956196, 0.009494785219430923, 0.14207467436790466, 0.8556053042411804, 0.02074708789587021, 0.7799368500709534, 0.01383139193058014, 0.056093979626894, 0.009220927953720093, 0.04533622786402702, 0.032273247838020325, 0.009989338926970959, 0.033041659742593765, 0.9993369579315186, 0.03987032547593117, 0.03987032547593117, 0.011575255542993546, 0.0527317188680172, 0.685512363910675, 0.02186437137424946, 0.1491921842098236, 0.9809607267379761, 0.1828443706035614, 0.031122444197535515, 0.0032419213093817234, 0.08558672666549683, 0.01815475896000862, 0.49666234850883484, 0.025935370475053787, 0.05511266365647316, 0.037606287747621536, 0.040199823677539825, 0.023341834545135498, 0.9800929427146912, 0.6054759621620178, 0.03882315382361412, 0.3543645143508911, 0.0008260245085693896, 0.988186776638031, 0.009206709451973438, 0.9931296706199646, 0.27523013949394226, 0.10817869007587433, 0.08610140532255173, 0.08352572470903397, 0.0007359094452112913, 0.07211913168430328, 0.03753138333559036, 0.07800640165805817, 0.029068423435091972, 0.03605956584215164, 0.1935441941022873, 0.9832765460014343, 0.016630057245492935, 0.0031676299404352903, 0.04197109490633011, 0.9376184344291687, 0.99407958984375, 0.9921081066131592, 0.40907081961631775, 0.21208927035331726, 0.029053324833512306, 0.004357998725026846, 0.2672905921936035, 0.0011621330631896853, 0.027310125529766083, 0.03805985674262047, 0.011330797336995602, 0.9914102554321289, 0.03526918590068817, 0.9522680640220642, 0.021933235228061676, 0.8155175447463989, 0.1595144420862198, 0.9993210434913635, 0.98939049243927, 0.9972941875457764, 0.9968106150627136, 0.16426581144332886, 0.007300702854990959, 0.8213290572166443, 0.02539735473692417, 0.012260791845619678, 0.028024667873978615, 0.19004227221012115, 0.07181321084499359, 0.19179381430149078, 0.47904667258262634, 0.020709728822112083, 0.18811337649822235, 0.792147159576416, 0.1761561632156372, 0.03150573745369911, 0.7779846787452698, 0.006439128424972296, 0.007359004113823175, 0.00045993775711394846, 0.0031038057059049606, 0.0015519028529524803, 0.4632430076599121, 0.004655708558857441, 0.06362801790237427, 0.21377462148666382, 0.014355101622641087, 0.08108692616224289, 0.15208648145198822, 0.0023278542794287205, 0.013756092637777328, 0.9821850061416626, 0.9944767355918884, 0.38953378796577454, 0.29533424973487854, 0.016029292717576027, 0.0015370554756373167, 0.2342911809682846, 0.006148221902549267, 0.043696291744709015, 0.0006587380776181817, 0.012516023591160774, 0.9971374869346619, 0.18530051410198212, 0.14232996106147766, 0.13562080264091492, 0.03849777951836586, 0.004153287038207054, 0.06150060147047043, 0.1972811371088028, 0.08146832883358002, 0.1538313627243042, 0.9804050326347351, 0.006662948988378048, 0.6949063539505005, 0.29787302017211914, 0.997570812702179, 0.026148615404963493, 0.1176687702536583, 0.8530985713005066, 0.14999344944953918, 0.1021232008934021, 0.09719111770391464, 0.1328762173652649, 0.02175920456647873, 0.01885797828435898, 0.15492554008960724, 0.07978375256061554, 0.10705528408288956, 0.08065412193536758, 0.05454307422041893, 0.9977830648422241, 0.009304285980761051, 0.9125357270240784, 0.006441428791731596, 0.04795285686850548, 0.01359857153147459, 0.01001999992877245, 0.9974930882453918, 0.9516615271568298, 0.037596505135297775, 0.009399126283824444, 0.9937485456466675, 0.9950524568557739, 0.14489847421646118, 0.06439931690692902, 0.025401953607797623, 0.10768997669219971, 0.27333933115005493, 0.04221733286976814, 0.037208497524261475, 0.18926244974136353, 0.047583941370248795, 0.023613084107637405, 0.04400620236992836, 0.07351672649383545, 0.3943425714969635, 0.044504377990961075, 0.08957210183143616, 0.09098046272993088, 0.08224859088659286, 0.1554836481809616, 0.029857367277145386, 0.02704063430428505, 0.0008450198220089078, 0.011830277740955353, 0.9083443880081177, 0.021684613078832626, 0.0048188031651079655, 0.06384913623332977, 0.9394951462745667, 0.05752011388540268, 0.8332451581954956, 0.16483762860298157, 0.015633856877684593, 0.031267713755369186, 0.031267713755369186, 0.9145806431770325, 0.9844457507133484, 0.08164704591035843, 0.317021906375885, 0.05739764869213104, 0.16218173503875732, 0.13415032625198364, 0.02936623990535736, 0.004671901930123568, 0.07808750122785568, 0.060512252151966095, 0.022914566099643707, 0.051835861057043076, 0.9990379214286804, 0.9978290796279907, 0.9961290955543518, 0.9851673245429993, 0.993017852306366, 0.24198155105113983, 0.2776395082473755, 0.001642143353819847, 0.00023459190560970455, 0.47792235016822815, 0.0005278317839838564, 0.9988347291946411, 0.07839884608983994, 0.0013835091376677155, 0.005764621309936047, 0.024672579020261765, 0.8898269534111023, 0.9947444200515747, 0.9924829006195068, 0.10610293596982956, 0.8918381929397583, 0.9965237975120544, 0.057847827672958374, 0.9400272369384766, 0.035028863698244095, 0.01195102371275425, 0.013599441386759281, 0.37171804904937744, 0.22665734589099884, 0.04656778275966644, 0.07994823157787323, 0.02142942324280739, 0.1928648054599762, 0.991207480430603, 0.9884175658226013, 0.9862634539604187, 0.08226969093084335, 0.2928093373775482, 0.0030961711890995502, 0.026096299290657043, 0.14286617934703827, 0.02255781926214695, 0.28307849168777466, 0.003538481192663312, 0.061481114476919174, 0.06900038570165634, 0.013269305229187012, 0.3181317150592804, 0.5712231993675232, 0.10887174308300018, 0.1814594715833664, 0.09342467784881592, 0.17150892317295074, 0.04671233892440796, 0.07006850838661194, 0.10710669308900833, 0.07366176694631577, 0.059288740158081055, 0.12465837597846985, 0.07227974385023117, 0.904656171798706, 0.08359859138727188, 0.00895699206739664, 0.02347562462091446, 0.01891092024743557, 0.26149237155914307, 0.44342848658561707, 0.1049882099032402, 0.14607055485248566, 0.9891700148582458, 0.9848870635032654, 0.13233156502246857, 0.08569592982530594, 0.07575330883264542, 0.07385947555303574, 0.05586806684732437, 0.27223846316337585, 0.10084659606218338, 0.031011512503027916, 0.03527263551950455, 0.07456966489553452, 0.06225975230336189, 0.3851933181285858, 0.1369357407093048, 0.029554475098848343, 0.04334656149148941, 0.04531686007976532, 0.33396556973457336, 0.025613877922296524, 0.02833426184952259, 0.9199190735816956, 0.04344587028026581, 0.004722376819700003, 0.002833426231518388, 0.9953899383544922, 0.9972951412200928, 0.9989063143730164, 0.9681037068367004, 0.058327481150627136, 0.9332396984100342, 0.9643335938453674, 0.030677279457449913, 0.0013337947893887758, 0.004001384135335684, 0.00739795109257102, 0.869259238243103, 0.1220661923289299, 0.14981144666671753, 0.47637060284614563, 0.3073025941848755, 0.0051580071449279785, 0.0009169790428131819, 0.005731118842959404, 0.036679159849882126, 0.017881091684103012, 0.0263791736215353, 0.9652823209762573, 0.0068390448577702045, 0.9962822794914246, 0.1196913793683052, 0.04708447679877281, 0.18129722774028778, 0.09944945573806763, 0.1584150642156601, 0.09460899233818054, 0.05060480907559395, 0.015401463955640793, 0.07216686010360718, 0.1557748019695282, 0.005280502140522003, 0.157836452126503, 0.13218803703784943, 0.7082911133766174, 0.011448669247329235, 0.853161096572876, 0.13518838584423065, 0.9793997406959534, 0.01802576333284378, 0.9991925358772278, 0.10967860370874405, 0.003917092923074961, 0.04961651191115379, 0.0052227904088795185, 0.07834185659885406, 0.11620709300041199, 0.5457816123962402, 0.09139883518218994, 0.5516411662101746, 0.362014502286911, 0.044054675847291946, 0.04022383317351341, 0.001915420638397336, 0.3261215388774872, 0.6723563075065613, 0.9888358116149902, 0.9919230937957764, 0.061456456780433655, 0.09095555543899536, 0.02212432399392128, 0.06212688982486725, 0.10190597921609879, 0.1962137073278427, 0.057657331228256226, 0.022794758901000023, 0.10503467172384262, 0.09207294881343842, 0.18772153556346893, 0.9928981065750122, 0.0003445491020102054, 0.3352462649345398, 0.23170927166938782, 0.37590306997299194, 0.056850600987672806, 0.9937880635261536, 0.99558424949646, 0.992586612701416, 0.995084822177887, 0.989878237247467, 0.983628511428833, 0.9825989603996277, 0.9920802712440491, 0.09495004266500473, 0.09306362271308899, 0.20216184854507446, 0.11538631469011307, 0.17543749511241913, 0.0034584454260766506, 0.0025152328889817, 0.2292006015777588, 0.07136973738670349, 0.012576164677739143, 0.9847219586372375, 0.8943047523498535, 0.10548447072505951, 0.9792601466178894, 0.013890215195715427, 0.9909061789512634, 0.24747736752033234, 0.13184192776679993, 0.0021900651045143604, 0.1379740983247757, 0.13753609359264374, 0.012264364399015903, 0.14235423505306244, 0.18834559619426727, 0.016869597136974335, 0.9784365892410278, 0.24556754529476166, 0.6129991412162781, 0.003678914625197649, 0.0928925946354866, 0.009657151065766811, 0.03540955111384392, 0.04176042601466179, 0.9252254366874695, 0.01577616110444069, 0.016704170033335686, 0.049753542989492416, 0.9453173279762268, 0.9916207790374756, 0.18049098551273346, 0.5062114596366882, 0.2753184735774994, 0.018128786236047745, 0.0087655670940876, 0.010956958867609501, 0.21080610156059265, 0.4804418087005615, 0.27141842246055603, 0.006239504087716341, 0.031197519972920418, 0.8436251282691956, 0.14449524879455566, 0.011357705108821392, 0.9959592819213867, 0.017618494108319283, 0.8607892990112305, 0.010067710652947426, 0.09816017746925354, 0.01258463878184557, 0.9061962962150574, 0.0921555608510971, 0.02139940857887268, 0.013846675865352154, 0.20518256723880768, 0.050351548939943314, 0.08433884382247925, 0.13972555100917816, 0.010070309974253178, 0.4556815028190613, 0.01888183131814003, 0.9942460656166077, 0.006268426310271025, 0.8880270719528198, 0.08148954063653946, 0.022984229028224945, 0.08327644318342209, 0.8466438055038452, 0.0601440966129303, 0.16443629562854767, 0.2559184730052948, 0.009264017455279827, 0.5396289825439453, 0.0011580021819099784, 0.028950052335858345, 0.04030970111489296, 0.1117015853524208, 0.1646384298801422, 0.05682210996747017, 0.21854658424854279, 0.36764392256736755, 0.03982404246926308, 0.006946223322302103, 0.005209667608141899, 0.026048336178064346, 0.5580132603645325, 0.28016433119773865, 0.008682779036462307, 0.11519153416156769, 0.6829345226287842, 0.2749100923538208, 0.040513064712285995, 0.9844738841056824, 0.9047077894210815, 0.03628958389163017, 0.05823212489485741, 0.12970080971717834, 0.1278994083404541, 0.031524501740932465, 0.009007000364363194, 0.0702546015381813, 0.04503500089049339, 0.003602800192311406, 0.48817941546440125, 0.0945735052227974, 0.21076972782611847, 0.7883026003837585, 0.018931850790977478, 0.3696218430995941, 0.001803033403120935, 0.04717937484383583, 0.020734883844852448, 0.09255571663379669, 0.07632841169834137, 0.0003005055768880993, 0.16738159954547882, 0.12200526148080826, 0.08324003964662552, 0.9913090467453003, 0.9892399311065674, 0.9868654012680054, 0.2441364824771881, 0.2214554101228714, 0.5342651009559631, 0.9862651824951172, 0.9956845045089722, 0.9871648550033569, 0.884227454662323, 0.11442943662405014, 0.9773744940757751, 0.9800289273262024, 0.08876238018274307, 0.2178713083267212, 0.053795382380485535, 0.637475311756134, 0.013132168911397457, 0.36972105503082275, 0.023233836516737938, 0.10303701460361481, 0.0393965058028698, 0.0030305006075650454, 0.4273005723953247, 0.01616266928613186, 0.006061001215130091, 0.9961588978767395, 0.19243301451206207, 0.17837397754192352, 0.4463742971420288, 0.18276743590831757, 0.989263653755188, 0.9980074167251587, 0.08190818130970001, 0.9146413803100586, 0.9760857820510864, 0.49410560727119446, 0.0007109433063305914, 0.04052376747131348, 0.009242262691259384, 0.45429277420043945, 0.10610199719667435, 0.05305099859833717, 0.8425746560096741, 0.23350974917411804, 0.00589671079069376, 0.15095579624176025, 0.004717368632555008, 0.603823184967041, 0.9827035665512085, 0.8543757200241089, 0.015715941786766052, 0.0028574438765645027, 0.10477294027805328, 0.013334738090634346, 0.006667369045317173, 0.0019049625843763351, 0.9991808533668518, 0.9959829449653625, 0.9914509654045105, 0.995247483253479, 0.12795814871788025, 0.043858446180820465, 0.04431059584021568, 0.2681243121623993, 0.11575012654066086, 0.18945039808750153, 0.11846301704645157, 0.01763380877673626, 0.026676787063479424, 0.04837993532419205, 0.07644642144441605, 0.02108866721391678, 0.05799383670091629, 0.03866255655884743, 0.13971242308616638, 0.07908250391483307, 0.08962683379650116, 0.4973410665988922, 0.996715784072876, 0.9835004210472107, 0.029918145388364792, 0.01745225116610527, 0.5347868204116821, 0.06232946738600731, 0.22937244176864624, 0.09598737955093384, 0.029918145388364792, 0.021274663507938385, 0.01701973006129265, 0.06169652193784714, 0.010637331753969193, 0.08722612261772156, 0.17657969892024994, 0.6020729541778564, 0.023402130231261253, 0.9923747777938843, 0.9811075329780579, 0.01608373038470745, 0.051278628408908844, 0.7715103030204773, 0.09090302884578705, 0.07225625216960907, 0.006992540322244167, 0.004661693703383207, 0.9886568784713745, 0.9991941452026367, 0.9975942969322205, 0.027130067348480225, 0.97125643491745, 0.9933173656463623, 0.9969632625579834, 0.25422388315200806, 0.06182786449790001, 0.003072191961109638, 0.003456216072663665, 0.016897056251764297, 0.07565272599458694, 0.490398645401001, 0.0499231219291687, 0.03341008722782135, 0.010752672329545021, 0.9955454468727112, 0.1345072239637375, 0.8646893501281738, 0.9950959086418152, 0.9982559680938721, 0.7625526189804077, 0.16737790405750275, 0.06810218095779419, 0.0009591856505721807, 0.0004795928252860904, 0.9805941581726074, 0.017992554232478142, 0.9969455599784851, 0.0015151147963479161, 0.9995980858802795, 0.997873842716217, 0.049717411398887634, 0.02432979829609394, 0.044428326189517975, 0.044428326189517975, 0.7817269563674927, 0.05394868180155754, 0.9945229291915894, 0.8709942102432251, 0.046043746173381805, 0.08057656139135361, 0.9877066612243652, 0.992310643196106, 0.9844475984573364, 0.9951072931289673, 0.11334624141454697, 0.8861615657806396, 0.05307045951485634, 0.9401053190231323, 0.03366083279252052, 0.9649438858032227, 0.9954681396484375, 0.9950073957443237, 0.9317638278007507, 0.0673564225435257, 0.004888495896011591, 0.00311086094006896, 0.42885440587997437, 0.005332904402166605, 0.5177361369132996, 0.020442800596356392, 0.01910957507789135, 0.3766064941883087, 0.0019908712711185217, 0.20870967209339142, 0.017254218459129333, 0.11878865212202072, 0.09722088277339935, 0.1542925238609314, 0.024222267791628838, 0.0006636237376369536, 0.0003318118688184768, 0.9835221171379089, 0.9865708947181702, 0.012332136742770672, 0.9581810832023621, 0.03992421180009842, 0.9975519180297852, 0.9913609027862549, 0.07423216104507446, 0.9235354065895081, 0.057285599410533905, 0.9329369068145752, 0.41365477442741394, 0.08208293467760086, 0.5032979846000671, 0.9879240989685059, 0.9975478053092957, 0.9949573278427124, 0.997580885887146, 0.9825036525726318, 0.9971663355827332, 0.9971596002578735, 0.9954773187637329, 0.25134602189064026, 0.7477856278419495, 0.9684132933616638, 0.013834475539624691, 0.013834475539624691, 0.9937199950218201, 0.9942926168441772, 0.20466206967830658, 0.07987547665834427, 0.07203863561153412, 0.13352768123149872, 0.07234005630016327, 0.04973378777503967, 0.07505280524492264, 0.08138256520032883, 0.045513950288295746, 0.04913095384836197, 0.13654185831546783, 0.977323591709137, 0.01443745568394661, 0.04619985818862915, 0.1847994327545166, 0.7536351680755615, 0.2860797941684723, 0.04816649481654167, 0.043787725269794464, 0.008757544681429863, 0.032110996544361115, 0.10655012726783752, 0.4670690596103668, 0.008757544681429863, 0.02785222791135311, 0.00506404135376215, 0.0303842481225729, 0.02869623340666294, 0.07342860102653503, 0.06836456060409546, 0.09452877193689346, 0.5148441791534424, 0.02869623340666294, 0.08271267265081406, 0.045576371252536774, 0.01522997859865427, 0.9823336601257324, 0.9961243867874146, 0.003823894076049328, 0.9945032000541687, 0.9858774542808533, 0.00952137354761362, 0.9807015061378479, 0.022472422569990158, 0.9663141965866089, 0.9873965382575989, 0.9808239936828613, 0.9937750101089478, 0.9892080426216125, 0.2522912621498108, 0.16782613098621368, 0.13580667972564697, 0.1302860826253891, 0.024290625005960464, 0.28320661187171936, 0.006072656251490116, 0.3363528549671173, 0.17199862003326416, 0.08026602119207382, 0.048924051225185394, 0.013759889639914036, 0.347819447517395, 0.18713194131851196, 0.14632874727249146, 0.0035175178200006485, 0.007035035640001297, 0.557174801826477, 0.018994595855474472, 0.032361164689064026, 0.04713473841547966, 0.022538455203175545, 0.027368124574422836, 0.046686798334121704, 0.04024724289774895, 0.6922525763511658, 0.10625271499156952, 0.06117580831050873, 0.001609889674000442, 0.2284759283065796, 0.6923512816429138, 0.002769405022263527, 0.07477393746376038, 0.0252040047198534, 0.972154438495636, 0.9918361902236938, 0.28883060812950134, 0.00021021149586886168, 0.2846263647079468, 0.05948985368013382, 0.1278085857629776, 0.007777825463563204, 0.1229737251996994, 0.027117282152175903, 0.032372571527957916, 0.04876906797289848, 0.0226387158036232, 0.1276000291109085, 0.05145162716507912, 0.00205806503072381, 0.08849679678678513, 0.00205806503072381, 0.5577356219291687, 0.14818069338798523, 0.977475106716156, 0.9925966262817383, 0.9850150942802429, 0.9956629872322083, 0.994836151599884, 0.02657737024128437, 0.022488543763756752, 0.03679943457245827, 0.12266478687524796, 0.05724356696009636, 0.7318998575210571, 0.9699040651321411, 0.25370898842811584, 0.04149734228849411, 0.10518138110637665, 0.10292162001132965, 0.09429346024990082, 0.0034923504572361708, 0.08710332959890366, 0.2025563269853592, 0.09963470697402954, 0.003697782987728715, 0.005957539193332195, 0.5927571058273315, 0.07125060260295868, 0.0856204703450203, 0.0005987445474602282, 0.020357314497232437, 0.002394978189840913, 0.08621921390295029, 0.06646064668893814, 0.027542248368263245, 0.02095605805516243, 0.025746015831828117, 0.9893863201141357, 0.00650912057608366, 0.6015108823776245, 0.007957732304930687, 0.3721410036087036, 0.01778787188231945, 0.16228927671909332, 0.012227273546159267, 0.07892149686813354, 0.008892563171684742, 0.6691653728485107, 0.060024797916412354, 0.007780992425978184, 0.9798237085342407, 0.8788214325904846, 0.12018071115016937, 0.6442917585372925, 0.35522040724754333, 0.8093105554580688, 0.005316638853400946, 0.011814752593636513, 0.17308613657951355, 0.9878064393997192, 0.9832221865653992, 0.03503202646970749, 0.9608783721923828, 0.04731672629714012, 0.054076261818408966, 0.0033797663636505604, 0.14532995223999023, 0.7486182451248169, 0.9887768030166626, 0.9842259287834167, 0.013996311463415623, 0.013996311463415623, 0.9209573268890381, 0.019594836980104446, 0.022394098341464996, 0.005598524585366249, 0.16790397465229034, 0.8290258646011353, 0.008227095007896423, 0.9872514009475708, 0.9866990447044373, 0.9980167150497437, 0.9971758127212524, 0.0046174898743629456, 0.06926234811544418, 0.33665701746940613, 0.17504484951496124, 0.010074524208903313, 0.04659467190504074, 0.026445625349879265, 0.003358174581080675, 0.29971709847450256, 0.027704941108822823, 0.6260034441947937, 0.0011646576458588243, 0.053574249148368835, 0.06492966413497925, 0.23700782656669617, 0.017178699374198914, 0.08932571858167648, 0.09357932209968567, 0.7599775195121765, 0.058132611215114594, 0.2409665733575821, 0.060675036162137985, 0.6968961358070374, 0.034726932644844055, 0.6355028748512268, 0.17450283467769623, 0.15453484654426575, 0.4652068614959717, 0.03217318654060364, 0.5008582472801208, 0.0008695455617271364, 0.9811428189277649, 0.9907316565513611, 0.982027530670166, 0.01094181090593338, 0.002735452726483345, 0.05496720224618912, 0.044101592153310776, 0.0019174605840817094, 0.7938286662101746, 0.01981375925242901, 0.08564656972885132, 0.9920276403427124, 0.007035657297819853, 0.041960131376981735, 0.9571446180343628, 0.9983013868331909, 0.08115804195404053, 0.00541053619235754, 0.6560274958610535, 0.006086852867156267, 0.020289510488510132, 0.029757948592305183, 0.17990031838417053, 0.008115803822875023, 0.012173705734312534, 0.7392823696136475, 0.051901672035455704, 0.20823964476585388, 0.14711922407150269, 0.09437836706638336, 0.10603687167167664, 0.03969443216919899, 0.05579426884651184, 0.25954049825668335, 0.09632144868373871, 0.07744577527046204, 0.057737354189157486, 0.04718918353319168, 0.018875673413276672, 0.9940250515937805, 0.995604395866394, 0.003550657769665122, 0.978635311126709, 0.019196702167391777, 0.4758761525154114, 0.10002492368221283, 0.023238113150000572, 0.053548697382211685, 0.0848696306347847, 0.24147431552410126, 0.7494645118713379, 0.20603835582733154, 0.015452876687049866, 0.025754794478416443, 0.9880615472793579, 0.0005919940886087716, 0.4043319523334503, 0.4848431646823883, 0.0023679763544350863, 0.10478295385837555, 0.002959970384836197, 0.9815068244934082, 0.9932571053504944, 0.9787103533744812, 0.01112892385572195, 0.0133547093719244, 0.11128924041986465, 0.05787040665745735, 0.06454776227474213, 0.7411863803863525, 0.8941100835800171, 0.07757119834423065, 0.0285788606852293, 0.9429987668991089, 0.05536545813083649, 0.9897986054420471, 0.7550857067108154, 0.24375680088996887, 0.19067975878715515, 0.8077406883239746, 0.9932128190994263, 0.9962834119796753, 0.3111245930194855, 0.056966476142406464, 0.19205409288406372, 0.026594430208206177, 0.15669558942317963, 0.029012104496359825, 0.0953470766544342, 0.01239058654755354, 0.02175907790660858, 0.05666426569223404, 0.041251588612794876, 0.03528918698430061, 0.9598658680915833, 0.7799913883209229, 0.0651077926158905, 0.07943151146173477, 0.07552503794431686, 0.004921463318169117, 0.9744497537612915, 0.019685853272676468, 0.7623680233955383, 0.019981419667601585, 0.2167215496301651, 0.9942432045936584, 0.993763267993927, 0.3757005035877228, 0.3534417748451233, 0.27047738432884216, 0.9921619296073914, 0.020415382459759712, 0.029164830222725868, 0.11665932089090347, 0.8311976790428162, 0.006027271505445242, 0.054245442152023315, 0.9402543306350708, 0.9984580278396606, 0.5319773554801941, 0.027314240112900734, 0.07804068177938461, 0.004769152961671352, 0.2887505292892456, 0.020810849964618683, 0.005636271554976702, 0.04205525666475296, 0.9968973398208618, 0.9958683848381042, 0.9995624423027039, 0.9891636371612549, 0.024393917992711067, 0.9733172655105591, 0.6398975849151611, 0.024337824434041977, 0.2969214618206024, 0.020219115540385246, 0.00561642087996006, 0.012356125749647617, 0.9428619742393494, 0.05570824071764946, 0.9963372349739075, 0.5593303442001343, 0.194757342338562, 0.031309764832258224, 0.2143922746181488, 0.06390658766031265, 0.021302195265889168, 0.1138848140835762, 0.24989113211631775, 0.015566988848149776, 0.5350128412246704, 0.9882457256317139, 0.013230315409600735, 0.17606496810913086, 0.002035433193668723, 0.8090846538543701, 0.9870114326477051, 0.010500121861696243, 0.34263214468955994, 0.5656149983406067, 0.08390991389751434, 0.008157908916473389, 0.19831854104995728, 0.02492528222501278, 0.007044101599603891, 0.04985056445002556, 0.06556432694196701, 0.4215623736381531, 0.03630421310663223, 0.02059045061469078, 0.13329607248306274, 0.04172275587916374, 0.0005418539512902498, 0.00678298668935895, 0.036628127098083496, 0.09993600100278854, 0.022157756611704826, 0.07596945017576218, 0.5788148641586304, 0.06376007199287415, 0.11576297134160995, 0.42692652344703674, 0.13275998830795288, 0.29139429330825806, 0.1096578985452652, 0.03881150484085083, 0.9958216547966003, 0.9907715320587158, 0.9992113709449768, 0.24802841246128082, 0.21944208443164825, 0.07167600840330124, 0.03468193858861923, 0.02291109971702099, 0.1145554929971695, 0.05444013327360153, 0.1067783311009407, 0.09668903797864914, 0.020598970353603363, 0.00987909734249115, 0.9886022210121155, 0.21023118495941162, 0.5259658098220825, 0.09464281797409058, 0.1691158562898636, 0.03144466131925583, 0.2791672348976135, 0.003067771904170513, 0.07055874913930893, 0.42488640546798706, 0.015338859520852566, 0.17409604787826538, 0.9884318709373474], \"Term\": [\"30\", \"30\", \"abe\", \"abuse\", \"abuse\", \"abuse\", \"abuse\", \"accident\", \"accident\", \"accident\", \"accident\", \"according\", \"according\", \"according\", \"according\", \"according\", \"according\", \"according\", \"according\", \"according\", \"according\", \"according\", \"acquitted\", \"addiction\", \"african\", \"african\", \"african\", \"african\", \"african\", \"aged\", \"aged\", \"aged\", \"aide\", \"aide\", \"aide\", \"aiib\", \"air\", \"air\", \"air\", \"air\", \"air\", \"air\", \"air_force\", \"air_force\", \"airline\", \"airline\", \"allegedly\", \"allegedly\", \"allegedly\", \"allegedly\", \"alliance_democracy\", \"altitude\", \"altitude_area\", \"ambassador\", \"ambassador\", \"ambassador\", \"ambassador\", \"america\", \"america\", \"america\", \"america\", \"america\", \"among\", \"among\", \"among\", \"among\", \"among\", \"among\", \"among\", \"among\", \"among\", \"among\", \"among\", \"animal\", \"animal\", \"animal\", \"anniversary\", \"anniversary\", \"anniversary\", \"anniversary\", \"anniversary\", \"anniversary\", \"anti_pyongyang\", \"apartment\", \"apartment\", \"apartment\", \"apartment\", \"apology\", \"apology\", \"apology\", \"apology\", \"app\", \"arabia\", \"army\", \"army\", \"army\", \"arrest\", \"arrest\", \"arrested\", \"arsenal\", \"art\", \"art\", \"art\", \"art\", \"art\", \"artillery\", \"asean\", \"asia\", \"asia\", \"asia\", \"asia\", \"asia\", \"assembly\", \"assembly\", \"assembly\", \"assembly\", \"assembly\", \"assembly\", \"assembly\", \"assembly\", \"asylum\", \"asylum_seeker\", \"athlete\", \"atrocity\", \"attack\", \"attack\", \"attack\", \"attack\", \"attack\", \"attack\", \"attendant\", \"attorney\", \"authority\", \"authority\", \"authority\", \"authority\", \"authority\", \"authority\", \"authority\", \"authority\", \"authority\", \"baby\", \"baby\", \"balloon\", \"bank\", \"bank\", \"bank\", \"bank\", \"banking\", \"battery\", \"battery\", \"beijing\", \"beijing\", \"beijing\", \"bereaved\", \"bereaved_family\", \"berlin\", \"bilateral\", \"bilateral\", \"bilateral\", \"bill\", \"bill\", \"bill\", \"bill\", \"billion\", \"billion\", \"billion\", \"billion\", \"billion\", \"bird\", \"boat\", \"boat\", \"bolivia\", \"bomb\", \"bomb\", \"bomb\", \"boomer\", \"border\", \"border\", \"border\", \"border\", \"born\", \"born\", \"born\", \"born\", \"brazil\", \"brazil\", \"bribery\", \"bribery_scandal\", \"building\", \"building\", \"building\", \"building\", \"building\", \"building\", \"building\", \"building\", \"bus\", \"bus\", \"business\", \"business\", \"business\", \"business\", \"business\", \"business\", \"business\", \"cabin\", \"campus\", \"candidate\", \"candidate\", \"candidate\", \"candidate\", \"capability\", \"capability\", \"capability\", \"capability\", \"captain\", \"care\", \"care\", \"care\", \"care\", \"carter\", \"case\", \"case\", \"case\", \"case\", \"case\", \"case\", \"case\", \"case\", \"case\", \"case\", \"center\", \"center\", \"center\", \"center\", \"center\", \"center\", \"center\", \"center\", \"center\", \"center\", \"central_bank\", \"charge\", \"charge\", \"charge\", \"charge\", \"charge\", \"charge\", \"charge\", \"charge\", \"charge\", \"child\", \"child\", \"child\", \"child_abuse\", \"child_care\", \"child_care\", \"chile\", \"chile\", \"china\", \"china\", \"china\", \"china\", \"china\", \"chinese\", \"chinese\", \"chinese\", \"chinese\", \"chinese\", \"chinese\", \"chinese\", \"cho_hyun\", \"chung\", \"chung\", \"chung\", \"city\", \"city\", \"city\", \"city\", \"city\", \"city\", \"city\", \"city\", \"city\", \"city\", \"classroom\", \"climate\", \"climate\", \"climate_change\", \"coast\", \"coast\", \"coast\", \"coast_guard\", \"colombia\", \"colombian\", \"colonial\", \"colonial\", \"com\", \"com\", \"com\", \"com\", \"com\", \"com\", \"com\", \"com\", \"com\", \"com\", \"com\", \"comfort\", \"comfort\", \"comfort_woman\", \"command\", \"command\", \"commander\", \"communist\", \"communist\", \"communist\", \"communist\", \"communist_nation\", \"communist_nation\", \"communist_nation\", \"company\", \"company\", \"company\", \"company\", \"company\", \"company\", \"company\", \"conference\", \"conference\", \"conference\", \"conference\", \"conference\", \"conference\", \"conference\", \"conference\", \"conference\", \"conference\", \"conference\", \"confirmed\", \"confirmed\", \"confirmed\", \"confirmed\", \"confirmed\", \"confirmed\", \"confirmed\", \"construction\", \"construction\", \"construction\", \"construction\", \"continent\", \"cooperation\", \"cooperation\", \"cooperation\", \"cooperation\", \"cooperation\", \"cooperation\", \"could\", \"could\", \"could\", \"could\", \"could\", \"could\", \"could\", \"could\", \"could\", \"could\", \"could\", \"country\", \"country\", \"country\", \"country\", \"country\", \"country\", \"country\", \"country\", \"country\", \"country\", \"country\", \"court\", \"court\", \"court\", \"crew\", \"crew_member\", \"crime\", \"crime\", \"criminal\", \"criminal\", \"cross\", \"cross\", \"cross\", \"cross\", \"cross\", \"cross\", \"cross\", \"culture\", \"culture\", \"culture\", \"culture\", \"culture\", \"cyber\", \"cyber\", \"cyber_attack\", \"czech\", \"danish\", \"data\", \"data\", \"data\", \"data\", \"data\", \"data\", \"data\", \"data\", \"data_showed\", \"data_showed\", \"data_showed\", \"day\", \"day\", \"day\", \"day\", \"day\", \"day\", \"day\", \"day\", \"day\", \"day\", \"day\", \"day_care\", \"day_care\", \"death\", \"death\", \"death\", \"death\", \"death\", \"death\", \"death\", \"defendant\", \"defense\", \"defense\", \"defense\", \"defense_minister\", \"defense_ministry\", \"defense_system\", \"demilitarized\", \"demilitarized_zone\", \"democracy\", \"democracy\", \"democracy\", \"democracy\", \"demonstrator\", \"denuclearization\", \"denuclearization\", \"denuclearization_talk\", \"deployment\", \"depression\", \"detained\", \"detained\", \"detention\", \"development\", \"development\", \"development\", \"development\", \"development\", \"development\", \"development\", \"development\", \"development_assistance\", \"development_project\", \"development_project\", \"diagnosed\", \"dialogue\", \"dialogue\", \"dialogue\", \"dialogue\", \"dialogue\", \"diesel\", \"diplomatic\", \"diplomatic\", \"diplomatic_source\", \"disability\", \"disability\", \"disabled\", \"disabled\", \"disaster\", \"disaster\", \"disaster\", \"disaster\", \"disaster\", \"disaster\", \"disaster\", \"disease\", \"disorder\", \"district_court\", \"district_court\", \"dmz\", \"doctor\", \"doctor\", \"doctor\", \"dokdo\", \"dprk\", \"dprk\", \"drill\", \"drought\", \"dvd\", \"eagle\", \"earthquake\", \"east\", \"east\", \"east\", \"east\", \"east\", \"ebola\", \"ebola\", \"ebola\", \"economic\", \"economic\", \"economic\", \"economic\", \"economic\", \"economic\", \"economic\", \"economy\", \"economy\", \"economy\", \"economy\", \"economy\", \"economy\", \"educated\", \"education\", \"education\", \"education\", \"education_ministry\", \"education_ministry\", \"egypt\", \"elderly\", \"elderly\", \"elderly\", \"elderly\", \"elderly\", \"election\", \"electricity\", \"embassy\", \"embassy\", \"embassy\", \"embassy\", \"employee\", \"employee\", \"employee\", \"employee\", \"employer\", \"employer\", \"employment\", \"employment\", \"employment\", \"energy\", \"energy\", \"energy\", \"english\", \"english\", \"english\", \"english\", \"english\", \"english\", \"enslavement\", \"equality\", \"equality\", \"equality\", \"equality\", \"eurasia\", \"eurasia_initiative\", \"euro\", \"europe\", \"europe\", \"europe\", \"even\", \"even\", \"even\", \"even\", \"even\", \"even\", \"even\", \"even\", \"even\", \"even\", \"event\", \"event\", \"event\", \"event\", \"event\", \"event\", \"event\", \"exercise\", \"exercise\", \"exercise\", \"exercise\", \"exercise\", \"exercise\", \"export\", \"export\", \"faction\", \"family\", \"family\", \"family\", \"family\", \"family\", \"family\", \"family\", \"family\", \"family_reunion\", \"fatality\", \"fatality_rate\", \"ferry\", \"ferry\", \"fertility\", \"festival\", \"festival\", \"fighter\", \"fighter\", \"fighter\", \"filed\", \"filed\", \"filed\", \"financial\", \"financial\", \"financial\", \"financial\", \"financial\", \"financial\", \"financial\", \"financial\", \"financial_institution\", \"fire\", \"fire\", \"fire\", \"fire\", \"fire\", \"fire\", \"firm\", \"firm\", \"firm\", \"firm\", \"firm\", \"firm\", \"firm\", \"firm\", \"first\", \"first\", \"first\", \"first\", \"first\", \"first\", \"first\", \"first\", \"first\", \"first\", \"first\", \"fishing\", \"fishing\", \"fishing\", \"flight\", \"flight\", \"flight\", \"flight\", \"flight\", \"flood\", \"floor_leader\", \"flu\", \"food\", \"food\", \"food\", \"food\", \"force\", \"force\", \"force\", \"force\", \"force\", \"force\", \"force\", \"force\", \"force\", \"force\", \"foreign\", \"foreign\", \"foreign\", \"foreign\", \"foreign\", \"foreign\", \"foreign\", \"foreign_language\", \"foreign_ministry\", \"foreign_ministry\", \"foreign_ministry\", \"foreign_ministry\", \"foreign_ministry\", \"forest\", \"forest\", \"former\", \"former\", \"former\", \"former\", \"former\", \"former\", \"former\", \"former_president\", \"former_president\", \"former_president\", \"forum\", \"forum\", \"forum\", \"forum\", \"forum\", \"found\", \"found\", \"found\", \"found\", \"found\", \"found\", \"found\", \"found\", \"found_guilty\", \"frayed\", \"free\", \"free\", \"free\", \"free\", \"free\", \"free\", \"free\", \"free\", \"free\", \"free_trade\", \"freedom_expression\", \"gen\", \"gender\", \"gender\", \"gender_equality\", \"general_election\", \"geun\", \"geun\", \"geun\", \"geun\", \"geun\", \"geun\", \"geun_hye\", \"geun_hye\", \"geun_hye\", \"geun_hye\", \"geun_hye\", \"global\", \"global\", \"global\", \"global\", \"governing\", \"governing\", \"government\", \"government\", \"government\", \"government\", \"government\", \"government\", \"government\", \"government\", \"government\", \"government\", \"government\", \"graft_scandal\", \"greece\", \"group\", \"group\", \"group\", \"group\", \"group\", \"group\", \"group\", \"group\", \"group\", \"group\", \"growth\", \"growth\", \"growth\", \"guilty\", \"gunman\", \"hack\", \"hacking\", \"han_min\", \"harassment\", \"health\", \"health\", \"health\", \"health\", \"health_authority\", \"held\", \"held\", \"held\", \"held\", \"held\", \"held\", \"held\", \"held\", \"held\", \"held\", \"held\", \"herald\", \"herald\", \"herald\", \"herald\", \"herald\", \"herald\", \"heraldcorp\", \"heraldcorp\", \"heraldcorp\", \"heraldcorp\", \"heraldcorp\", \"heraldcorp\", \"heraldcorp\", \"heraldcorp\", \"heraldcorp\", \"heraldcorp\", \"heraldcorp\", \"high\", \"high\", \"high\", \"high\", \"high\", \"high\", \"high\", \"high\", \"high\", \"high\", \"high\", \"hike\", \"hike\", \"hike\", \"historical\", \"historical\", \"history\", \"history\", \"history\", \"history\", \"history\", \"history\", \"history\", \"history_textbook\", \"hj257\", \"hj257_heraldcorp\", \"hospital\", \"hospital\", \"hospital\", \"hostage\", \"huh\", \"human\", \"human\", \"human\", \"human\", \"human\", \"human\", \"human_right\", \"human_right\", \"human_right\", \"hunny\", \"hwang_joon\", \"hye\", \"hye\", \"hye\", \"hye\", \"hye\", \"illegal\", \"illegal\", \"illegal\", \"illegal\", \"illegal\", \"illness\", \"illness\", \"illness\", \"illness\", \"import\", \"import\", \"imported\", \"income\", \"income\", \"income\", \"india\", \"india\", \"india\", \"india\", \"indian\", \"indian\", \"indicted\", \"indicted\", \"industry\", \"industry\", \"industry\", \"industry\", \"industry\", \"industry\", \"infected\", \"infection\", \"infectious\", \"infectious_disease\", \"inter\", \"inter\", \"inter\", \"inter\", \"inter_korean\", \"inter_korean\", \"inter_korean\", \"international\", \"international\", \"international\", \"international\", \"international\", \"international\", \"international\", \"international\", \"international\", \"investigation\", \"investigation\", \"investigation\", \"investigation\", \"investigation\", \"investment\", \"investment\", \"investor\", \"iran\", \"iran\", \"ireland\", \"irish\", \"island\", \"island\", \"island\", \"island\", \"island\", \"island_jeju\", \"islet\", \"issue\", \"issue\", \"issue\", \"issue\", \"issue\", \"issue\", \"issue\", \"issue\", \"issue\", \"issue\", \"jail\", \"jail\", \"japan\", \"japan\", \"japan\", \"japan_wartime\", \"japanese\", \"japanese\", \"japanese\", \"japanese\", \"japanese\", \"japanese_prime\", \"jcs\", \"jeju\", \"jeju\", \"jeju\", \"jeong_hunny\", \"jindo\", \"job\", \"job\", \"job\", \"job\", \"job\", \"job\", \"joel\", \"joel\", \"joel\", \"joel\", \"joel_heraldcorp\", \"joel_heraldcorp\", \"joel_lee\", \"joel_lee\", \"join_aiib\", \"joint\", \"joint\", \"joint\", \"joint\", \"joint\", \"joint\", \"joint_military\", \"jong\", \"jong\", \"jong\", \"jong\", \"jong\", \"jong\", \"jong\", \"judge\", \"judge\", \"judge\", \"judge\", \"justice_ministry\", \"kaesong\", \"kazakhstan\", \"keangnam\", \"keangnam_enterprise\", \"kee\", \"kid\", \"kim\", \"kim\", \"kim\", \"kim\", \"kim\", \"kim\", \"kim\", \"kim\", \"kim_choon\", \"kim_moo\", \"knife\", \"knife\", \"knife_attack\", \"kook\", \"korea_herald\", \"korea_herald\", \"korea_herald\", \"korea_herald\", \"kuwait\", \"labor\", \"labor\", \"labor\", \"labor_management\", \"labor_market\", \"labor_reform\", \"labor_union\", \"land_mine\", \"language\", \"language\", \"lao\", \"last\", \"last\", \"last\", \"last\", \"last\", \"last\", \"last\", \"last\", \"last\", \"last\", \"last\", \"last_year\", \"last_year\", \"last_year\", \"last_year\", \"last_year\", \"last_year\", \"last_year\", \"last_year\", \"last_year\", \"last_year\", \"late\", \"late\", \"late\", \"late\", \"late\", \"late\", \"late\", \"late\", \"late\", \"late\", \"launch\", \"launch\", \"launch\", \"launch\", \"launch\", \"launch\", \"launch\", \"launch\", \"launch\", \"law\", \"law\", \"law\", \"law\", \"law\", \"law\", \"lawmaker\", \"lawmaker\", \"lawmaker\", \"lawmaker\", \"lawsuit\", \"lawsuit\", \"lawyer\", \"lawyer\", \"lawyer\", \"leader\", \"leader\", \"leader\", \"leader\", \"leader\", \"leader\", \"leader_rep\", \"leaflet\", \"leaflet\", \"learning\", \"learning\", \"learning\", \"lee\", \"lee\", \"lee\", \"lee\", \"lee\", \"lee\", \"lee\", \"lee\", \"lee\", \"lee_byung\", \"lee_wan\", \"legal\", \"legal\", \"legal\", \"legal\", \"legal\", \"legal\", \"leone\", \"life\", \"life\", \"life\", \"life\", \"life\", \"life\", \"life\", \"life\", \"life\", \"life\", \"like\", \"like\", \"like\", \"like\", \"like\", \"like\", \"like\", \"like\", \"like\", \"like\", \"like\", \"liu\", \"livestock\", \"loan\", \"loan\", \"long\", \"long\", \"long\", \"long\", \"long\", \"long\", \"long\", \"long\", \"long\", \"long\", \"long_range\", \"long_range\", \"main\", \"main\", \"main\", \"main\", \"main\", \"main\", \"main\", \"main\", \"main\", \"main_opposition\", \"man\", \"man\", \"man\", \"man\", \"man\", \"man\", \"man\", \"manufacturer\", \"many\", \"many\", \"many\", \"many\", \"many\", \"many\", \"many\", \"many\", \"many\", \"many\", \"many\", \"margin_error\", \"market\", \"market\", \"market\", \"market\", \"marriage\", \"marriage\", \"married\", \"may\", \"may\", \"may\", \"may\", \"may\", \"may\", \"may\", \"may\", \"may\", \"may\", \"may\", \"meal\", \"medical\", \"medical\", \"medical\", \"medical\", \"medical_facility\", \"medical_staff\", \"meeting\", \"meeting\", \"meeting\", \"meeting\", \"meeting\", \"meeting\", \"meeting\", \"meeting\", \"meeting\", \"memo\", \"memorandum\", \"memorandum\", \"men\", \"men\", \"men\", \"mers\", \"mers_case\", \"mers_outbreak\", \"mers_patient\", \"meter\", \"meter\", \"meter\", \"middle\", \"middle\", \"middle\", \"middle\", \"middle\", \"middle\", \"middle\", \"middle_east\", \"middle_east\", \"middle_east\", \"military\", \"military\", \"military\", \"military\", \"military\", \"military\", \"million\", \"million\", \"million\", \"million\", \"million\", \"million\", \"million\", \"million\", \"million\", \"million\", \"minimum\", \"minimum\", \"minimum_wage\", \"minister\", \"minister\", \"minister\", \"minister\", \"minister\", \"minister\", \"minister\", \"minister\", \"minister\", \"minister_shinzo\", \"ministry\", \"ministry\", \"ministry\", \"ministry\", \"ministry\", \"ministry\", \"ministry\", \"ministry\", \"ministry\", \"minus\", \"missile\", \"missile\", \"missile\", \"missile_defense\", \"missing\", \"missing\", \"missing\", \"month\", \"month\", \"month\", \"month\", \"month\", \"month\", \"month\", \"month\", \"month\", \"month\", \"month\", \"moo\", \"moon\", \"moon\", \"moon\", \"moon\", \"moon\", \"moon\", \"moon_jae\", \"mother\", \"mother\", \"mother\", \"multicultural\", \"murder\", \"nation\", \"nation\", \"nation\", \"nation\", \"nation\", \"nation\", \"nation\", \"nation\", \"nation\", \"nation\", \"nation\", \"national\", \"national\", \"national\", \"national\", \"national\", \"national\", \"national\", \"national\", \"national\", \"national\", \"national\", \"national_assembly\", \"national_assembly\", \"national_assembly\", \"national_assembly\", \"naval\", \"naval\", \"navy\", \"navy\", \"nearby\", \"nearby\", \"nearby\", \"nearby\", \"nepal\", \"new\", \"new\", \"new\", \"new\", \"new\", \"new\", \"new\", \"new\", \"new\", \"new\", \"new\", \"new_politics\", \"nomination\", \"nominee\", \"non_regular\", \"nonregular\", \"north\", \"north\", \"north\", \"north\", \"north\", \"north\", \"npad\", \"nuclear\", \"nuclear\", \"nuclear\", \"nuclear\", \"nuclear\", \"nuclear_arsenal\", \"nuclear_envoy\", \"nuclear_program\", \"nuclear_program\", \"nuclear_test\", \"nuclear_weapon\", \"nuclear_weapon\", \"number\", \"number\", \"number\", \"number\", \"number\", \"number\", \"number\", \"number\", \"number\", \"nut\", \"oda\", \"offender\", \"office\", \"office\", \"office\", \"office\", \"office\", \"office\", \"office\", \"office\", \"office\", \"office\", \"office\", \"officer\", \"officer\", \"officer\", \"official\", \"official\", \"official\", \"official\", \"official\", \"official\", \"official\", \"official\", \"official\", \"official\", \"oil\", \"oil\", \"oil\", \"old\", \"old\", \"old\", \"old\", \"old\", \"old\", \"olympic\", \"olympics\", \"one\", \"one\", \"one\", \"one\", \"one\", \"one\", \"one\", \"one\", \"one\", \"one\", \"one\", \"operation\", \"operation\", \"operation\", \"operation\", \"operation\", \"operation\", \"operation\", \"opposition\", \"opposition\", \"opposition\", \"opposition\", \"opposition\", \"opposition_lawmaker\", \"opposition_party\", \"outbreak\", \"pac\", \"pakistan\", \"pakistan\", \"parent\", \"parent\", \"parent\", \"parent\", \"paris\", \"paris\", \"paris\", \"park\", \"park\", \"park\", \"park\", \"park\", \"park\", \"park\", \"park\", \"parliamentary\", \"parliamentary\", \"parliamentary\", \"parliamentary_election\", \"part\", \"part\", \"part\", \"part\", \"part\", \"part\", \"part\", \"part\", \"part\", \"part\", \"part\", \"partnership\", \"partnership\", \"partnership\", \"party\", \"party\", \"party\", \"passenger\", \"passenger\", \"patient\", \"pay\", \"pay\", \"pay\", \"pay\", \"pay\", \"pay\", \"pay\", \"pay\", \"peninsula\", \"peninsula\", \"peninsula\", \"peninsula\", \"peninsula\", \"pension\", \"pension\", \"pension_reform\", \"pension_system\", \"people\", \"people\", \"people\", \"people\", \"people\", \"people\", \"people\", \"people\", \"people\", \"people\", \"people\", \"people_diagnosed\", \"percent\", \"percent\", \"percent\", \"percent\", \"percent\", \"percent_respondent\", \"percentage\", \"percentage_point\", \"peru\", \"peruvian\", \"petition\", \"pig\", \"plaintiff\", \"plan\", \"plan\", \"plan\", \"plan\", \"plan\", \"plan\", \"plan\", \"plan\", \"plan\", \"plan\", \"plutonium\", \"police\", \"police\", \"police_agency\", \"police_agency\", \"police_station\", \"policy\", \"policy\", \"policy\", \"policy\", \"policy\", \"policy\", \"policy\", \"policy\", \"polish\", \"polish\", \"political\", \"political\", \"political\", \"political\", \"political\", \"political\", \"politics\", \"politics\", \"politics\", \"politics\", \"posco\", \"posco\", \"posture\", \"president\", \"president\", \"president\", \"president\", \"president\", \"president\", \"president_park\", \"president_park\", \"president_park\", \"president_park\", \"president_park\", \"presidential\", \"presidential\", \"presidential\", \"presidential_election\", \"price\", \"price\", \"price\", \"price\", \"price\", \"prison\", \"prison\", \"private\", \"private\", \"private\", \"private\", \"private\", \"private\", \"private\", \"private\", \"private\", \"private_education\", \"product\", \"product\", \"product\", \"product\", \"production\", \"production\", \"production\", \"professor\", \"professor\", \"professor\", \"professor\", \"professor\", \"professor\", \"program\", \"program\", \"program\", \"program\", \"program\", \"program\", \"program\", \"project\", \"project\", \"project\", \"project\", \"project\", \"project\", \"project\", \"prosecution\", \"prosecution\", \"prosecution\", \"prosecution_probe\", \"prosecutor\", \"prosecutor\", \"prosecutor\", \"province\", \"province\", \"province\", \"province\", \"province\", \"province\", \"province\", \"province\", \"province\", \"provocation\", \"provocation\", \"public\", \"public\", \"public\", \"public\", \"public\", \"public\", \"public\", \"public\", \"public\", \"public\", \"public\", \"punished\", \"putin\", \"pyeongchang\", \"pyongyang\", \"pyongyang\", \"pyongyang\", \"qatar\", \"quarantine\", \"quarantined\", \"railway\", \"railway\", \"rain\", \"rajin\", \"rally\", \"rally\", \"rally\", \"rally\", \"range\", \"range\", \"range\", \"range\", \"range\", \"range\", \"range\", \"range\", \"range\", \"rape\", \"rate\", \"rate\", \"rate\", \"rate\", \"ratification\", \"readiness\", \"reception\", \"reception\", \"recycling\", \"reform\", \"reform\", \"reform\", \"reform\", \"reform\", \"refugee\", \"refugee\", \"refugee\", \"regime\", \"regime\", \"regime\", \"regime\", \"regime\", \"regular_worker\", \"relation\", \"relation\", \"relation\", \"relation\", \"relation\", \"relation\", \"relation\", \"rep\", \"rep_kim\", \"rep_lee\", \"rep_yoo\", \"report\", \"report\", \"report\", \"report\", \"report\", \"report\", \"report\", \"report\", \"report\", \"report\", \"reported\", \"reported\", \"reported\", \"reported\", \"reported\", \"reported\", \"reported\", \"reported\", \"rescue\", \"rescued\", \"research\", \"research\", \"research\", \"research\", \"research\", \"research\", \"research\", \"resident\", \"resident\", \"resident\", \"resident\", \"resident\", \"resident\", \"resident\", \"resident\", \"resign\", \"resignation\", \"resignation\", \"resource\", \"resource\", \"resource\", \"resource\", \"resource\", \"resource\", \"resource_development\", \"respiratory\", \"respiratory_syndrome\", \"respondent\", \"respondent\", \"retirement_age\", \"reunion\", \"right\", \"right\", \"right\", \"right\", \"right\", \"right\", \"right\", \"right\", \"right\", \"right\", \"rival_party\", \"rocket\", \"rocket\", \"rocket_launch\", \"roh\", \"ruling\", \"ruling\", \"ruling\", \"ruling\", \"ruling\", \"ruling_party\", \"ruling_party\", \"ruling_saenuri\", \"ruling_saenuri\", \"saenuri\", \"saenuri_party\", \"safety\", \"safety\", \"safety\", \"safety\", \"safety\", \"safety\", \"salary\", \"sale\", \"sale\", \"sale\", \"salt\", \"salvage\", \"salvage_ship\", \"samsung_medical\", \"sanction\", \"sanction\", \"sank\", \"sank\", \"satellite\", \"satellite\", \"saudi\", \"saudi_arabia\", \"scandal\", \"scandal\", \"school\", \"school\", \"school\", \"school\", \"school\", \"school\", \"school\", \"security\", \"security\", \"security\", \"security\", \"security\", \"security\", \"security\", \"security\", \"security\", \"security\", \"senior_citizen\", \"sentence\", \"sentence\", \"seoul_central\", \"seoul_central\", \"seoul_tokyo\", \"separated_family\", \"sewol\", \"sewol\", \"sewol_ferry\", \"sewol_ferry\", \"sex\", \"sex\", \"sex\", \"sex_crime\", \"sex_slave\", \"sex_slavery\", \"sexual_enslavement\", \"sexual_harassment\", \"sexual_slavery\", \"shinzo\", \"shinzo_abe\", \"ship\", \"ship\", \"shortage\", \"shortage\", \"shortage\", \"sierra\", \"sierra_leone\", \"since\", \"since\", \"since\", \"since\", \"since\", \"since\", \"since\", \"since\", \"since\", \"since\", \"since\", \"single_parent\", \"sinking\", \"sinking\", \"sinking\", \"sinking\", \"site\", \"site\", \"site\", \"site\", \"site\", \"site\", \"site\", \"site\", \"six\", \"six\", \"six\", \"six\", \"six\", \"six\", \"six\", \"six\", \"six\", \"six\", \"six\", \"six_party\", \"six_party\", \"slavery\", \"slavery\", \"slbm\", \"sleep\", \"slush\", \"slush\", \"slush_fund\", \"slush_fund\", \"smoe\", \"smoker\", \"smoking\", \"snions\", \"snited\", \"snited\", \"snited\", \"snited\", \"snited\", \"snited\", \"snited\", \"snited_state\", \"snited_state\", \"snited_state\", \"snited_state\", \"snited_state\", \"snited_state\", \"sniversity\", \"sniversity\", \"sniversity\", \"sniversity\", \"sniversity\", \"sniversity\", \"sniversity\", \"sniversity\", \"society\", \"society\", \"society\", \"society\", \"society\", \"society\", \"society\", \"society\", \"soldier\", \"soldier\", \"soldier\", \"soldier\", \"sony\", \"sony\", \"sony_picture\", \"south_korean\", \"south_korean\", \"south_korean\", \"south_korean\", \"south_korean\", \"south_korean\", \"south_korean\", \"south_korean\", \"south_korean\", \"south_korean\", \"southern\", \"southern\", \"southern\", \"southern\", \"southern\", \"southern\", \"southern\", \"southern\", \"southern_resort\", \"southwest\", \"southwest_coast\", \"sovereignty\", \"special_pardon\", \"spread\", \"spread\", \"spread\", \"spread\", \"spread\", \"spread\", \"start_ups\", \"state\", \"state\", \"state\", \"state\", \"state\", \"state\", \"state\", \"state\", \"state\", \"state\", \"state\", \"statement\", \"statement\", \"statement\", \"statement\", \"statement\", \"statement\", \"statement\", \"statement\", \"statement\", \"statement\", \"statement\", \"strained\", \"strained\", \"student\", \"student\", \"student\", \"student\", \"study\", \"study\", \"study\", \"study\", \"study\", \"study\", \"study\", \"subcontractor\", \"submarine\", \"submarine\", \"summit\", \"summit\", \"sung\", \"sung\", \"sung\", \"sung\", \"sung_wan\", \"sunken\", \"supreme_court\", \"supreme_court\", \"survey\", \"survey\", \"survey\", \"survey\", \"survey\", \"survey_conducted\", \"survey_showed\", \"suspect\", \"suspect\", \"suspect\", \"suspect\", \"suspect\", \"suspect\", \"sustainable\", \"sustainable\", \"sustainable_development\", \"sustainable_development\", \"swimming\", \"symptom\", \"syndrome\", \"system\", \"system\", \"system\", \"system\", \"system\", \"system\", \"system\", \"system\", \"system\", \"system\", \"talk\", \"talk\", \"talk\", \"talk\", \"talk\", \"talk\", \"tax\", \"tax\", \"tax\", \"tax\", \"teacher\", \"teacher\", \"teacher\", \"technology\", \"technology\", \"technology\", \"technology\", \"tension\", \"tension\", \"tension\", \"tension\", \"tent\", \"terminal_high\", \"territorial\", \"territorial\", \"territorial\", \"test\", \"test\", \"test\", \"test\", \"test\", \"test\", \"testimony\", \"testimony\", \"textbook\", \"textbook\", \"thaad\", \"threat\", \"threat\", \"threat\", \"threat\", \"threat\", \"threat\", \"threat\", \"threat\", \"threat\", \"tie\", \"tie\", \"tie\", \"time\", \"time\", \"time\", \"time\", \"time\", \"time\", \"time\", \"time\", \"time\", \"time\", \"time\", \"tobacco\", \"tokyo\", \"tokyo\", \"top_court\", \"total\", \"total\", \"total\", \"total\", \"total\", \"total\", \"total\", \"tourism\", \"tourism\", \"tourism\", \"tourism\", \"tpp\", \"trade\", \"trade\", \"trade\", \"trade\", \"trade\", \"trade\", \"trade_snions\", \"trade_union\", \"translation\", \"treatment\", \"treatment\", \"treatment\", \"treatment\", \"treatment\", \"treatment\", \"trial\", \"trial\", \"trial\", \"trilateral\", \"trilateral\", \"trilateral_summit\", \"trillion\", \"trillion\", \"troop\", \"troop\", \"truce\", \"tuition\", \"two\", \"two\", \"two\", \"two\", \"two\", \"two\", \"two\", \"two\", \"two\", \"two\", \"two\", \"unemployment\", \"unemployment\", \"unification\", \"unification\", \"unification\", \"unification\", \"union\", \"union\", \"union\", \"university\", \"university\", \"university\", \"vaccine\", \"verdict\", \"victim\", \"victim\", \"victim\", \"victim_family\", \"violence\", \"violence\", \"violence\", \"violence\", \"viral\", \"viral\", \"viral\", \"virus\", \"visit\", \"visit\", \"visit\", \"visit\", \"visit\", \"visit\", \"visit\", \"visit\", \"vote\", \"voter\", \"wage\", \"wage_peak\", \"wan\", \"wan\", \"war\", \"war\", \"war\", \"war\", \"war\", \"war\", \"wartime\", \"wartime\", \"wartime_atrocity\", \"washington\", \"washington\", \"washington\", \"washington\", \"water\", \"water\", \"water\", \"water\", \"water\", \"water\", \"water_management\", \"weapon\", \"weapon\", \"weapon\", \"weapon\", \"wedding\", \"wedding\", \"woman\", \"woman\", \"woman\", \"woman\", \"work\", \"work\", \"work\", \"work\", \"work\", \"work\", \"work\", \"work\", \"work\", \"work\", \"work\", \"worker\", \"worker\", \"worker\", \"worker\", \"worker\", \"worker\", \"worker\", \"worker\", \"world\", \"world\", \"world\", \"world\", \"world\", \"world_bank\", \"world_heritage\", \"world_war\", \"would\", \"would\", \"would\", \"would\", \"would\", \"would\", \"would\", \"would\", \"would\", \"would\", \"would\", \"wrist\", \"year_old\", \"year_old\", \"year_old\", \"year_old\", \"young\", \"young\", \"young\", \"young\", \"young\", \"young\", \"young\", \"yuan\"]}, \"R\": 30, \"lambda.step\": 0.01, \"plot.opts\": {\"xlab\": \"PC1\", \"ylab\": \"PC2\"}, \"topic.order\": [8, 11, 1, 7, 3, 4, 9, 10, 6, 2, 5]};\n",
       "\n",
       "function LDAvis_load_lib(url, callback){\n",
       "  var s = document.createElement('script');\n",
       "  s.src = url;\n",
       "  s.async = true;\n",
       "  s.onreadystatechange = s.onload = callback;\n",
       "  s.onerror = function(){console.warn(\"failed to load library \" + url);};\n",
       "  document.getElementsByTagName(\"head\")[0].appendChild(s);\n",
       "}\n",
       "\n",
       "if(typeof(LDAvis) !== \"undefined\"){\n",
       "   // already loaded: just create the visualization\n",
       "   !function(LDAvis){\n",
       "       new LDAvis(\"#\" + \"ldavis_el4852455551724807053970007\", ldavis_el4852455551724807053970007_data);\n",
       "   }(LDAvis);\n",
       "}else if(typeof define === \"function\" && define.amd){\n",
       "   // require.js is available: use it to load d3/LDAvis\n",
       "   require.config({paths: {d3: \"https://cdnjs.cloudflare.com/ajax/libs/d3/3.5.5/d3.min\"}});\n",
       "   require([\"d3\"], function(d3){\n",
       "      window.d3 = d3;\n",
       "      LDAvis_load_lib(\"https://cdn.rawgit.com/bmabey/pyLDAvis/files/ldavis.v1.0.0.js\", function(){\n",
       "        new LDAvis(\"#\" + \"ldavis_el4852455551724807053970007\", ldavis_el4852455551724807053970007_data);\n",
       "      });\n",
       "    });\n",
       "}else{\n",
       "    // require.js not available: dynamically load d3 & LDAvis\n",
       "    LDAvis_load_lib(\"https://cdnjs.cloudflare.com/ajax/libs/d3/3.5.5/d3.min.js\", function(){\n",
       "         LDAvis_load_lib(\"https://cdn.rawgit.com/bmabey/pyLDAvis/files/ldavis.v1.0.0.js\", function(){\n",
       "                 new LDAvis(\"#\" + \"ldavis_el4852455551724807053970007\", ldavis_el4852455551724807053970007_data);\n",
       "            })\n",
       "         });\n",
       "}\n",
       "</script>"
      ],
      "text/plain": [
       "PreparedData(topic_coordinates=              x         y  topics  cluster       Freq\n",
       "topic                                                \n",
       "7     -0.164884  0.055127       1        1  18.173382\n",
       "10    -0.077653  0.013634       2        1  12.816278\n",
       "0     -0.139060 -0.092221       3        1   9.372719\n",
       "6      0.083581  0.151954       4        1   9.267591\n",
       "2     -0.104399  0.169269       5        1   9.084379\n",
       "3      0.140964  0.072888       6        1   9.045061\n",
       "8      0.077890 -0.158158       7        1   8.494924\n",
       "9     -0.205212 -0.117380       8        1   7.113259\n",
       "5      0.099578  0.131461       9        1   6.134954\n",
       "1      0.129694 -0.110708      10        1   5.776216\n",
       "4      0.159501 -0.115866      11        1   4.721233, topic_info=      Category          Freq              Term         Total  loglift  logprob\n",
       "term                                                                          \n",
       "329    Default  17050.000000             north  17050.000000  30.0000  30.0000\n",
       "740    Default   6376.000000             party   6376.000000  29.0000  29.0000\n",
       "332    Default   4336.000000           nuclear   4336.000000  28.0000  28.0000\n",
       "113    Default   5804.000000           percent   5804.000000  27.0000  27.0000\n",
       "69     Default   5225.000000             japan   5225.000000  26.0000  26.0000\n",
       "341    Default   8724.000000              park   8724.000000  25.0000  25.0000\n",
       "237    Default   3543.000000           defense   3543.000000  24.0000  24.0000\n",
       "718    Default   4348.000000          military   4348.000000  23.0000  23.0000\n",
       "24     Default   5621.000000             china   5621.000000  22.0000  22.0000\n",
       "894    Default   7900.000000        government   7900.000000  21.0000  21.0000\n",
       "16328  Default   1698.000000              mers   1698.000000  20.0000  20.0000\n",
       "365    Default   3174.000000         pyongyang   3174.000000  19.0000  19.0000\n",
       "354    Default   5019.000000         president   5019.000000  18.0000  18.0000\n",
       "1972   Default   1827.000000            health   1827.000000  17.0000  17.0000\n",
       "100    Default   6260.000000          ministry   6260.000000  16.0000  16.0000\n",
       "317    Default   2551.000000           missile   2551.000000  15.0000  15.0000\n",
       "2967   Default   2161.000000            police   2161.000000  14.0000  14.0000\n",
       "911    Default   6765.000000               kim   6765.000000  13.0000  13.0000\n",
       "451    Default   1834.000000             court   1834.000000  12.0000  12.0000\n",
       "2360   Default   1417.000000           patient   1417.000000  11.0000  11.0000\n",
       "34     Default   2151.000000         education   2151.000000  10.0000  10.0000\n",
       "2335   Default   1358.000000           disease   1358.000000   9.0000   9.0000\n",
       "3912   Default   1772.000000             child   1772.000000   8.0000   8.0000\n",
       "132    Default   2250.000000            school   2250.000000   7.0000   7.0000\n",
       "1816   Default   2387.000000              case   2387.000000   6.0000   6.0000\n",
       "73     Default   1464.000000             labor   1464.000000   5.0000   5.0000\n",
       "209    Default   2195.000000              city   2195.000000   4.0000   4.0000\n",
       "1485   Default   1395.000000          hospital   1395.000000   3.0000   3.0000\n",
       "30     Default   7983.000000           country   7983.000000   2.0000   2.0000\n",
       "153    Default   2136.000000           student   2136.000000   1.0000   1.0000\n",
       "...        ...           ...               ...           ...      ...      ...\n",
       "9790   Topic11     88.732559  people_diagnosed     89.636589   3.0430  -6.8066\n",
       "12048  Topic11     84.602196  medical_facility     85.506233   3.0425  -6.8543\n",
       "3292   Topic11   1183.734497           medical   1262.773804   2.9885  -4.2158\n",
       "1485   Topic11   1281.821289          hospital   1395.563965   2.9681  -4.1362\n",
       "1924   Topic11    256.156525            animal    268.097382   3.0075  -5.7465\n",
       "1972   Topic11   1471.656006            health   1827.482910   2.8365  -3.9981\n",
       "1537   Topic11    362.151398            doctor    427.851776   2.8864  -5.4002\n",
       "3383   Topic11    155.729095             viral    165.912552   2.9898  -6.2441\n",
       "5704   Topic11    458.582550       middle_east    579.437805   2.8192  -5.1641\n",
       "2876   Topic11    157.315048           illness    171.981339   2.9640  -6.2340\n",
       "1849   Topic11    614.758545         confirmed    915.410156   2.6550  -4.8710\n",
       "3137   Topic11    358.420593            spread    489.137939   2.7422  -5.4105\n",
       "1526   Topic11    333.345337         treatment    449.279724   2.7546  -5.4831\n",
       "770    Topic11    566.143127          reported   1138.052002   2.3549  -4.9534\n",
       "1816   Topic11    910.609741              case   2387.174561   2.0893  -4.4781\n",
       "95     Topic11    547.407349            middle   1141.851196   2.3179  -4.9870\n",
       "1776   Topic11    479.772766              east   1291.359009   2.0630  -5.1189\n",
       "344    Topic11    839.989319            people   4474.712891   1.3803  -4.5589\n",
       "100    Topic11    962.655518          ministry   6260.101562   1.1808  -4.4225\n",
       "40     Topic11    622.654236             first   3892.401855   1.2203  -4.8582\n",
       "231    Topic11    620.300659               day   3956.669922   1.2001  -4.8620\n",
       "94     Topic11    526.143921               may   2717.725586   1.4111  -5.0267\n",
       "2194   Topic11    362.152435             death    853.778870   2.1955  -5.4002\n",
       "30     Topic11    631.158752           country   7983.327148   0.5155  -4.8447\n",
       "109    Topic11    467.804077            number   2426.570312   1.4069  -5.1442\n",
       "894    Topic11    581.238281        government   7900.836426   0.4435  -4.9271\n",
       "994    Topic11    416.739929            center   1618.927246   1.6960  -5.2598\n",
       "735    Topic11    523.417969          official   7235.775391   0.4267  -5.0319\n",
       "140    Topic11    453.183960             since   3317.664062   1.0624  -5.1759\n",
       "519    Topic11    388.410156         according   3809.060303   0.7700  -5.3302\n",
       "\n",
       "[844 rows x 6 columns], token_table=       Topic      Freq            Term\n",
       "term                                  \n",
       "10696      6  0.958848              30\n",
       "10696      7  0.032230              30\n",
       "6839       1  0.999229             abe\n",
       "1920       1  0.040427           abuse\n",
       "1920       2  0.004256           abuse\n",
       "1920       7  0.951109           abuse\n",
       "1920      11  0.002128           abuse\n",
       "2312       4  0.004089        accident\n",
       "2312       6  0.002045        accident\n",
       "2312       7  0.010223        accident\n",
       "2312      10  0.983458        accident\n",
       "519        1  0.080597       according\n",
       "519        2  0.039642       according\n",
       "519        3  0.085585       according\n",
       "519        4  0.220002       according\n",
       "519        5  0.040692       according\n",
       "519        6  0.158569       according\n",
       "519        7  0.100287       according\n",
       "519        8  0.026516       according\n",
       "519        9  0.070884       according\n",
       "519       10  0.075347       according\n",
       "519       11  0.101862       according\n",
       "8647       7  0.983887       acquitted\n",
       "7084       6  0.983379       addiction\n",
       "5085       1  0.021828         african\n",
       "5085       4  0.005457         african\n",
       "5085       5  0.884035         african\n",
       "5085       6  0.021828         african\n",
       "5085       7  0.065484         african\n",
       "7855       6  0.825745            aged\n",
       "...      ...       ...             ...\n",
       "2046       5  0.291394           world\n",
       "2046       6  0.109658           world\n",
       "2046      11  0.038812           world\n",
       "6030       4  0.995822      world_bank\n",
       "11682      1  0.990772  world_heritage\n",
       "4848       1  0.999211       world_war\n",
       "436        1  0.248028           would\n",
       "436        2  0.219442           would\n",
       "436        3  0.071676           would\n",
       "436        4  0.034682           would\n",
       "436        5  0.022911           would\n",
       "436        6  0.114555           would\n",
       "436        7  0.054440           would\n",
       "436        8  0.106778           would\n",
       "436        9  0.096689           would\n",
       "436       10  0.020599           would\n",
       "436       11  0.009879           would\n",
       "9314       7  0.988602           wrist\n",
       "2582       6  0.210231        year_old\n",
       "2582       7  0.525966        year_old\n",
       "2582      10  0.094643        year_old\n",
       "2582      11  0.169116        year_old\n",
       "174        1  0.031445           young\n",
       "174        2  0.279167           young\n",
       "174        4  0.003068           young\n",
       "174        5  0.070559           young\n",
       "174        6  0.424886           young\n",
       "174        7  0.015339           young\n",
       "174        9  0.174096           young\n",
       "10657      4  0.988432            yuan\n",
       "\n",
       "[2302 rows x 3 columns], R=30, lambda_step=0.01, plot_opts={'xlab': 'PC1', 'ylab': 'PC2'}, topic_order=[8, 11, 1, 7, 3, 4, 9, 10, 6, 2, 5])"
      ]
     },
     "execution_count": 10,
     "metadata": {},
     "output_type": "execute_result"
    }
   ],
   "source": [
    "import pyLDAvis\n",
    "from pyLDAvis import gensim\n",
    "\n",
    "pyLDAvis.enable_notebook()\n",
    "\n",
    "pyLDAvis.gensim.prepare(model_2015, corpus, dictionary)\n",
    "\n",
    "# The larger the bubble, the more prevalent is that topic.\n",
    "# A good topic model will have fairly big, non-overlapping bubbles scattered throughout the chart instead of being clustered in one quadrant.\n",
    "# A model with too many topics, will typically have many overlaps, small sized bubbles clustered in one region of the chart."
   ]
  },
  {
   "cell_type": "markdown",
   "metadata": {},
   "source": [
    "### Assign Topics to Docs"
   ]
  },
  {
   "cell_type": "code",
   "execution_count": 11,
   "metadata": {
    "scrolled": true
   },
   "outputs": [],
   "source": [
    "def argmax(ls):\n",
    "  return max(ls, key = lambda item: item[1])\n",
    "\n",
    "\n",
    "df_2015['topic'] = df_2015[feature].apply(lambda x : argmax(model_2015.get_document_topics(x))[0])\n",
    "df_2015['topic_confidence'] = df_2015[feature].apply(lambda x : argmax(model_2015.get_document_topics(x))[1])"
   ]
  },
  {
   "cell_type": "markdown",
   "metadata": {},
   "source": [
    "## Cluster Analysis"
   ]
  },
  {
   "cell_type": "markdown",
   "metadata": {},
   "source": [
    "### get only documents with topic_confidence >= t = 0.85"
   ]
  },
  {
   "cell_type": "code",
   "execution_count": 12,
   "metadata": {},
   "outputs": [],
   "source": [
    "df_anal = df_2015[df_2015['topic_confidence'] >= 0.85]"
   ]
  },
  {
   "cell_type": "markdown",
   "metadata": {},
   "source": [
    "## Metric 1: Number of Documents"
   ]
  },
  {
   "cell_type": "code",
   "execution_count": 13,
   "metadata": {
    "scrolled": false
   },
   "outputs": [
    {
     "data": {
      "text/plain": [
       "7     245\n",
       "10    129\n",
       "4      99\n",
       "0      32\n",
       "2      24\n",
       "1      16\n",
       "6      15\n",
       "9      13\n",
       "8      13\n",
       "5      12\n",
       "3       6\n",
       "Name: topic, dtype: int64"
      ]
     },
     "execution_count": 13,
     "metadata": {},
     "output_type": "execute_result"
    }
   ],
   "source": [
    "df_anal.topic.value_counts()"
   ]
  },
  {
   "cell_type": "markdown",
   "metadata": {},
   "source": [
    "## Metric 2: Duration of Reporting"
   ]
  },
  {
   "cell_type": "code",
   "execution_count": 14,
   "metadata": {
    "scrolled": false
   },
   "outputs": [
    {
     "ename": "TypeError",
     "evalue": "object of type 'int' has no len()",
     "output_type": "error",
     "traceback": [
      "\u001b[0;31m---------------------------------------------------------------------------\u001b[0m",
      "\u001b[0;31mTypeError\u001b[0m                                 Traceback (most recent call last)",
      "\u001b[0;32m<ipython-input-14-5941b3e94993>\u001b[0m in \u001b[0;36m<module>\u001b[0;34m\u001b[0m\n\u001b[1;32m      3\u001b[0m \u001b[0mreport_duration\u001b[0m \u001b[0;34m=\u001b[0m \u001b[0mpd\u001b[0m\u001b[0;34m.\u001b[0m\u001b[0mDataFrame\u001b[0m\u001b[0;34m(\u001b[0m\u001b[0mcolumns\u001b[0m\u001b[0;34m=\u001b[0m\u001b[0;34m[\u001b[0m\u001b[0;34m'topic'\u001b[0m\u001b[0;34m,\u001b[0m\u001b[0;34m'duration'\u001b[0m\u001b[0;34m]\u001b[0m\u001b[0;34m)\u001b[0m\u001b[0;34m\u001b[0m\u001b[0;34m\u001b[0m\u001b[0m\n\u001b[1;32m      4\u001b[0m \u001b[0;34m\u001b[0m\u001b[0m\n\u001b[0;32m----> 5\u001b[0;31m \u001b[0;32mfor\u001b[0m \u001b[0mi\u001b[0m \u001b[0;32min\u001b[0m \u001b[0mrange\u001b[0m\u001b[0;34m(\u001b[0m\u001b[0mlen\u001b[0m\u001b[0;34m(\u001b[0m\u001b[0mdf_anal\u001b[0m\u001b[0;34m.\u001b[0m\u001b[0mtopic\u001b[0m\u001b[0;34m.\u001b[0m\u001b[0mnunique\u001b[0m\u001b[0;34m(\u001b[0m\u001b[0;34m)\u001b[0m\u001b[0;34m)\u001b[0m\u001b[0;34m)\u001b[0m\u001b[0;34m:\u001b[0m\u001b[0;34m\u001b[0m\u001b[0;34m\u001b[0m\u001b[0m\n\u001b[0m\u001b[1;32m      6\u001b[0m   \u001b[0mdf\u001b[0m \u001b[0;34m=\u001b[0m \u001b[0mdf_anal\u001b[0m\u001b[0;34m[\u001b[0m\u001b[0mdf_anal\u001b[0m\u001b[0;34m[\u001b[0m\u001b[0;34m'topic'\u001b[0m\u001b[0;34m]\u001b[0m \u001b[0;34m==\u001b[0m \u001b[0mi\u001b[0m\u001b[0;34m]\u001b[0m\u001b[0;34m\u001b[0m\u001b[0;34m\u001b[0m\u001b[0m\n\u001b[1;32m      7\u001b[0m   \u001b[0mmax_t\u001b[0m \u001b[0;34m=\u001b[0m \u001b[0mdatetime\u001b[0m\u001b[0;34m.\u001b[0m\u001b[0mstrptime\u001b[0m\u001b[0;34m(\u001b[0m\u001b[0mdf\u001b[0m\u001b[0;34m.\u001b[0m\u001b[0mtime\u001b[0m\u001b[0;34m.\u001b[0m\u001b[0mmax\u001b[0m\u001b[0;34m(\u001b[0m\u001b[0;34m)\u001b[0m\u001b[0;34m,\u001b[0m \u001b[0;34m\"%Y-%m-%d %H:%M:%S\"\u001b[0m\u001b[0;34m)\u001b[0m\u001b[0;34m.\u001b[0m\u001b[0mdate\u001b[0m\u001b[0;34m(\u001b[0m\u001b[0;34m)\u001b[0m\u001b[0;34m\u001b[0m\u001b[0;34m\u001b[0m\u001b[0m\n",
      "\u001b[0;31mTypeError\u001b[0m: object of type 'int' has no len()"
     ]
    }
   ],
   "source": [
    "from datetime import datetime\n",
    "\n",
    "report_duration = pd.DataFrame(columns=['topic','duration'])\n",
    "\n",
    "for i in range(df_anal.topic.nunique()):\n",
    "  df = df_anal[df_anal['topic'] == i]\n",
    "  max_t = datetime.strptime(df.time.max(), \"%Y-%m-%d %H:%M:%S\").date()\n",
    "  min_t = datetime.strptime(df.time.min(), \"%Y-%m-%d %H:%M:%S\").date()\n",
    "  report_duration = report_duration.append(pd.DataFrame({'topic': i, 'duration': (max_t - min_t)}, index=[i]))\n",
    "  \n",
    "report_duration.sort_values('duration',ascending=False)"
   ]
  },
  {
   "cell_type": "markdown",
   "metadata": {},
   "source": [
    "## Metric 3: Entity Relations"
   ]
  },
  {
   "cell_type": "code",
   "execution_count": null,
   "metadata": {},
   "outputs": [],
   "source": [
    "import spacy\n",
    "nlp = spacy.load(\"en\")\n",
    "\n",
    "# Labels: ORG, LOC, PERSON\n",
    "def get_entities(txt, label):\n",
    "  #the NER model only takes in unicode so convert str to unicode\n",
    "  doc = nlp(txt)\n",
    "  \n",
    "  #doc now contains all the entities identified\n",
    "  NER_list = [((ent.text).encode(\"utf-8\"),ent.label_) for ent in doc.ents]\n",
    "\n",
    "  #this line is to remove duplicate entities\n",
    "  NER_list = list(dict.fromkeys(NER_list))\n",
    "\n",
    "  #converting list of tuples to list of lists for easier manipulation later\n",
    "  NER_list_final = [list(entity) for entity in NER_list]\n",
    "\n",
    "  #Filtering for the entity labels that we are interested in.\n",
    "  entities = [entity[0] for entity in NER_list_final if entity[1] == label]\n",
    "  \n",
    "  return entities\n",
    "\n",
    "df_anal['ORGS'] = df_anal['body_tokenised'].apply(lambda x: get_entities(' '.join(x), 'ORG'))\n",
    "df_anal['LOC'] = df_anal['body_tokenised'].apply(lambda x: get_entities(' '.join(x), 'LOC'))\n",
    "df_anal['PERSON'] = df_anal['body_tokenised'].apply(lambda x: get_entities(' '.join(x), 'PERSON'))"
   ]
  },
  {
   "cell_type": "code",
   "execution_count": null,
   "metadata": {
    "scrolled": false
   },
   "outputs": [],
   "source": [
    "entity_counts = pd.DataFrame(columns=['topic','n_org','n_loc','n_person'])\n",
    "\n",
    "for i in range(df_anal.topic.nunique()):\n",
    "  df = df_anal[df_anal['topic'] == i]\n",
    "  n_orgs = len(set([x for ls in df['ORGS'] for x in ls]))\n",
    "  n_loc = len(set([x for ls in df['LOC'] for x in ls]))        \n",
    "  n_person = len(set([x for ls in df['PERSON'] for x in ls]))\n",
    "  entity_counts = entity_counts.append(pd.DataFrame({'topic': i,'n_org': n_orgs,'n_loc': n_loc,'n_person': n_person,'n_total': n_orgs + n_loc + n_person}, index=[i]))\n",
    "  \n",
    "entity_counts.sort_values('n_total',ascending=False)"
   ]
  },
  {
   "cell_type": "markdown",
   "metadata": {},
   "source": [
    "# 2016 Analysis"
   ]
  },
  {
   "cell_type": "markdown",
   "metadata": {},
   "source": [
    "## Get n_topics by evaluating Coherence"
   ]
  },
  {
   "cell_type": "code",
   "execution_count": null,
   "metadata": {},
   "outputs": [],
   "source": [
    "from gensim.models.coherencemodel import CoherenceModel\n",
    "from gensim.models import LdaModel\n",
    "import seaborn as sns\n",
    "from tqdm import tqdm\n",
    "\n",
    "temp = dictionary[0] # to 'load' dictionary\n",
    "id2word = dictionary.id2token\n",
    "\n",
    "# parameters\n",
    "feature = 'body_bow' # lda uses bow\n",
    "corpus = df_2016[feature].values\n",
    "\n",
    "results = []\n",
    "\n",
    "for i in tqdm(range(10,31)):\n",
    "  model = LdaModel(\n",
    "    corpus = corpus,\n",
    "    id2word = id2word,\n",
    "    chunksize = 2000,\n",
    "    alpha = 'auto',\n",
    "    eta = 'auto',\n",
    "    iterations = 400,\n",
    "    num_topics = i,\n",
    "    passes = 20,\n",
    "    eval_every = None\n",
    "    )\n",
    "  cm = CoherenceModel(model=model, corpus=corpus, coherence='u_mass')\n",
    "  coherence = cm.get_coherence()\n",
    "  results.append([i,coherence])\n",
    "  \n",
    "best_score = max([i[1] for i in results])\n",
    "best_num_topics = [i[0] for i in results if i[1] == best_score][0]\n",
    "sns.lineplot(x=[i[0] for i in results], y=[i[1] for i in results])\n",
    "print('Best Coherence Score: {}, Number of Topics: {}'.format(best_score, best_num_topics))"
   ]
  },
  {
   "cell_type": "markdown",
   "metadata": {},
   "source": [
    "## LDA"
   ]
  },
  {
   "cell_type": "code",
   "execution_count": null,
   "metadata": {},
   "outputs": [],
   "source": [
    "from gensim.models import LdaModel\n",
    "\n",
    "temp = dictionary[0] # to 'load' dictionary\n",
    "id2word = dictionary.id2token\n",
    "\n",
    "# parameters\n",
    "feature = 'body_bow' # lda uses bow\n",
    "corpus = df_2016[feature].values\n",
    "num_topics = best_num_topics\n",
    "\n",
    "model_2016 = LdaModel(\n",
    "  corpus = corpus,\n",
    "  id2word = id2word,\n",
    "  chunksize = 2000,\n",
    "  alpha = 'auto',\n",
    "  eta = 'auto',\n",
    "  iterations = 400,\n",
    "  num_topics = num_topics,\n",
    "  passes = 20,\n",
    "  eval_every = None\n",
    "  )"
   ]
  },
  {
   "cell_type": "markdown",
   "metadata": {},
   "source": [
    "### LDA Visualisation"
   ]
  },
  {
   "cell_type": "code",
   "execution_count": null,
   "metadata": {
    "scrolled": false
   },
   "outputs": [],
   "source": [
    "import pyLDAvis\n",
    "from pyLDAvis import gensim\n",
    "\n",
    "pyLDAvis.enable_notebook()\n",
    "\n",
    "pyLDAvis.gensim.prepare(model_2016, corpus, dictionary)\n",
    "\n",
    "# The larger the bubble, the more prevalent is that topic.\n",
    "# A good topic model will have fairly big, non-overlapping bubbles scattered throughout the chart instead of being clustered in one quadrant.\n",
    "# A model with too many topics, will typically have many overlaps, small sized bubbles clustered in one region of the chart."
   ]
  },
  {
   "cell_type": "markdown",
   "metadata": {},
   "source": [
    "### Assign Topics to Docs"
   ]
  },
  {
   "cell_type": "code",
   "execution_count": null,
   "metadata": {
    "scrolled": true
   },
   "outputs": [],
   "source": [
    "def argmax(ls):\n",
    "  return max(ls, key = lambda item: item[1])\n",
    "\n",
    "\n",
    "df_2016['topic'] = df_2016[feature].apply(lambda x : argmax(model_2016.get_document_topics(x))[0])\n",
    "df_2016['topic_confidence'] = df_2016[feature].apply(lambda x : argmax(model_2016.get_document_topics(x))[1])"
   ]
  },
  {
   "cell_type": "markdown",
   "metadata": {},
   "source": [
    "## Cluster Analysis"
   ]
  },
  {
   "cell_type": "markdown",
   "metadata": {},
   "source": [
    "### get only documents with topic_confidence >= t = 0.85"
   ]
  },
  {
   "cell_type": "code",
   "execution_count": null,
   "metadata": {},
   "outputs": [],
   "source": [
    "df_anal = df_2016[df_2016['topic_confidence'] >= 0.85]"
   ]
  },
  {
   "cell_type": "markdown",
   "metadata": {},
   "source": [
    "## Metric 1: Number of Documents"
   ]
  },
  {
   "cell_type": "code",
   "execution_count": null,
   "metadata": {
    "scrolled": false
   },
   "outputs": [],
   "source": [
    "df_anal.topic.value_counts()"
   ]
  },
  {
   "cell_type": "markdown",
   "metadata": {},
   "source": [
    "## Metric 2: Duration of Reporting"
   ]
  },
  {
   "cell_type": "code",
   "execution_count": null,
   "metadata": {
    "scrolled": false
   },
   "outputs": [],
   "source": [
    "from datetime import datetime\n",
    "\n",
    "report_duration = pd.DataFrame(columns=['topic','duration'])\n",
    "\n",
    "for i in range(df_anal.topic.nunique()):\n",
    "  df = df_anal[df_anal['topic'] == i]\n",
    "  max_t = datetime.strptime(df.time.max(), \"%Y-%m-%d %H:%M:%S\").date()\n",
    "  min_t = datetime.strptime(df.time.min(), \"%Y-%m-%d %H:%M:%S\").date()\n",
    "  report_duration = report_duration.append(pd.DataFrame({'topic': i, 'duration': (max_t - min_t)}, index=[i]))\n",
    "  \n",
    "report_duration.sort_values('duration',ascending=False)"
   ]
  },
  {
   "cell_type": "markdown",
   "metadata": {},
   "source": [
    "## Metric 3: Entity Relations"
   ]
  },
  {
   "cell_type": "code",
   "execution_count": null,
   "metadata": {},
   "outputs": [],
   "source": [
    "import spacy\n",
    "nlp = spacy.load(\"en\")\n",
    "\n",
    "# Labels: ORG, LOC, PERSON\n",
    "def get_entities(txt, label):\n",
    "  #the NER model only takes in unicode so convert str to unicode\n",
    "  doc = nlp(txt)\n",
    "  \n",
    "  #doc now contains all the entities identified\n",
    "  NER_list = [((ent.text).encode(\"utf-8\"),ent.label_) for ent in doc.ents]\n",
    "\n",
    "  #this line is to remove duplicate entities\n",
    "  NER_list = list(dict.fromkeys(NER_list))\n",
    "\n",
    "  #converting list of tuples to list of lists for easier manipulation later\n",
    "  NER_list_final = [list(entity) for entity in NER_list]\n",
    "\n",
    "  #Filtering for the entity labels that we are interested in.\n",
    "  entities = [entity[0] for entity in NER_list_final if entity[1] == label]\n",
    "  \n",
    "  return entities\n",
    "\n",
    "df_anal['ORGS'] = df_anal['body_tokenised'].apply(lambda x: get_entities(' '.join(x), 'ORG'))\n",
    "df_anal['LOC'] = df_anal['body_tokenised'].apply(lambda x: get_entities(' '.join(x), 'LOC'))\n",
    "df_anal['PERSON'] = df_anal['body_tokenised'].apply(lambda x: get_entities(' '.join(x), 'PERSON'))"
   ]
  },
  {
   "cell_type": "code",
   "execution_count": null,
   "metadata": {
    "scrolled": false
   },
   "outputs": [],
   "source": [
    "entity_counts = pd.DataFrame(columns=['topic','n_org','n_loc','n_person'])\n",
    "\n",
    "for i in range(df_anal.topic.nunique()):\n",
    "  df = df_anal[df_anal['topic'] == i]\n",
    "  n_orgs = len(set([x for ls in df['ORGS'] for x in ls]))\n",
    "  n_loc = len(set([x for ls in df['LOC'] for x in ls]))        \n",
    "  n_person = len(set([x for ls in df['PERSON'] for x in ls]))\n",
    "  entity_counts = entity_counts.append(pd.DataFrame({'topic': i,'n_org': n_orgs,'n_loc': n_loc,'n_person': n_person,'n_total': n_orgs + n_loc + n_person}, index=[i]))\n",
    "  \n",
    "entity_counts.sort_values('n_total',ascending=False)"
   ]
  },
  {
   "cell_type": "markdown",
   "metadata": {},
   "source": [
    "# 2017 Analysis"
   ]
  },
  {
   "cell_type": "markdown",
   "metadata": {},
   "source": [
    "## Get n_topics by evaluating Coherence"
   ]
  },
  {
   "cell_type": "code",
   "execution_count": null,
   "metadata": {},
   "outputs": [],
   "source": [
    "from gensim.models.coherencemodel import CoherenceModel\n",
    "from gensim.models import LdaModel\n",
    "import seaborn as sns\n",
    "from tqdm import tqdm\n",
    "\n",
    "temp = dictionary[0] # to 'load' dictionary\n",
    "id2word = dictionary.id2token\n",
    "\n",
    "# parameters\n",
    "feature = 'body_bow' # lda uses bow\n",
    "corpus = df_2017[feature].values\n",
    "\n",
    "results = []\n",
    "\n",
    "for i in tqdm(range(10,31)):\n",
    "  model = LdaModel(\n",
    "    corpus = corpus,\n",
    "    id2word = id2word,\n",
    "    chunksize = 2000,\n",
    "    alpha = 'auto',\n",
    "    eta = 'auto',\n",
    "    iterations = 400,\n",
    "    num_topics = i,\n",
    "    passes = 20,\n",
    "    eval_every = None\n",
    "    )\n",
    "  cm = CoherenceModel(model=model, corpus=corpus, coherence='u_mass')\n",
    "  coherence = cm.get_coherence()\n",
    "  results.append([i,coherence])\n",
    "  \n",
    "best_score = max([i[1] for i in results])\n",
    "best_num_topics = [i[0] for i in results if i[1] == best_score][0]\n",
    "sns.lineplot(x=[i[0] for i in results], y=[i[1] for i in results])\n",
    "print('Best Coherence Score: {}, Number of Topics: {}'.format(best_score, best_num_topics))"
   ]
  },
  {
   "cell_type": "markdown",
   "metadata": {},
   "source": [
    "## LDA"
   ]
  },
  {
   "cell_type": "code",
   "execution_count": null,
   "metadata": {},
   "outputs": [],
   "source": [
    "from gensim.models import LdaModel\n",
    "\n",
    "temp = dictionary[0] # to 'load' dictionary\n",
    "id2word = dictionary.id2token\n",
    "\n",
    "# parameters\n",
    "feature = 'body_bow' # lda uses bow\n",
    "corpus = df_2017[feature].values\n",
    "num_topics = best_num_topics\n",
    "\n",
    "model_2017 = LdaModel(\n",
    "  corpus = corpus,\n",
    "  id2word = id2word,\n",
    "  chunksize = 2000,\n",
    "  alpha = 'auto',\n",
    "  eta = 'auto',\n",
    "  iterations = 400,\n",
    "  num_topics = num_topics,\n",
    "  passes = 20,\n",
    "  eval_every = None\n",
    "  )"
   ]
  },
  {
   "cell_type": "markdown",
   "metadata": {},
   "source": [
    "### LDA Visualisation"
   ]
  },
  {
   "cell_type": "code",
   "execution_count": null,
   "metadata": {
    "scrolled": false
   },
   "outputs": [],
   "source": [
    "import pyLDAvis\n",
    "from pyLDAvis import gensim\n",
    "\n",
    "pyLDAvis.enable_notebook()\n",
    "\n",
    "pyLDAvis.gensim.prepare(model_2017, corpus, dictionary)\n",
    "\n",
    "# The larger the bubble, the more prevalent is that topic.\n",
    "# A good topic model will have fairly big, non-overlapping bubbles scattered throughout the chart instead of being clustered in one quadrant.\n",
    "# A model with too many topics, will typically have many overlaps, small sized bubbles clustered in one region of the chart."
   ]
  },
  {
   "cell_type": "markdown",
   "metadata": {},
   "source": [
    "### Assign Topics to Docs"
   ]
  },
  {
   "cell_type": "code",
   "execution_count": null,
   "metadata": {
    "scrolled": true
   },
   "outputs": [],
   "source": [
    "def argmax(ls):\n",
    "  return max(ls, key = lambda item: item[1])\n",
    "\n",
    "\n",
    "df_2017['topic'] = df_2017[feature].apply(lambda x : argmax(model_2017.get_document_topics(x))[0])\n",
    "df_2017['topic_confidence'] = df_2017[feature].apply(lambda x : argmax(model_2017.get_document_topics(x))[1])"
   ]
  },
  {
   "cell_type": "markdown",
   "metadata": {},
   "source": [
    "## Cluster Analysis"
   ]
  },
  {
   "cell_type": "markdown",
   "metadata": {},
   "source": [
    "### get only documents with topic_confidence >= t = 0.85"
   ]
  },
  {
   "cell_type": "code",
   "execution_count": null,
   "metadata": {},
   "outputs": [],
   "source": [
    "df_anal = df_2017[df_2017['topic_confidence'] >= 0.85]"
   ]
  },
  {
   "cell_type": "markdown",
   "metadata": {},
   "source": [
    "## Metric 1: Number of Documents"
   ]
  },
  {
   "cell_type": "code",
   "execution_count": null,
   "metadata": {
    "scrolled": false
   },
   "outputs": [],
   "source": [
    "df_anal.topic.value_counts()"
   ]
  },
  {
   "cell_type": "markdown",
   "metadata": {},
   "source": [
    "## Metric 2: Duration of Reporting"
   ]
  },
  {
   "cell_type": "code",
   "execution_count": null,
   "metadata": {
    "scrolled": false
   },
   "outputs": [],
   "source": [
    "from datetime import datetime\n",
    "\n",
    "report_duration = pd.DataFrame(columns=['topic','duration'])\n",
    "\n",
    "for i in range(df_anal.topic.nunique()):\n",
    "  df = df_anal[df_anal['topic'] == i]\n",
    "  max_t = datetime.strptime(df.time.max(), \"%Y-%m-%d %H:%M:%S\").date()\n",
    "  min_t = datetime.strptime(df.time.min(), \"%Y-%m-%d %H:%M:%S\").date()\n",
    "  report_duration = report_duration.append(pd.DataFrame({'topic': i, 'duration': (max_t - min_t)}, index=[i]))\n",
    "  \n",
    "report_duration.sort_values('duration',ascending=False)"
   ]
  },
  {
   "cell_type": "markdown",
   "metadata": {},
   "source": [
    "## Metric 3: Entity Relations"
   ]
  },
  {
   "cell_type": "code",
   "execution_count": null,
   "metadata": {},
   "outputs": [],
   "source": [
    "import spacy\n",
    "nlp = spacy.load(\"en\")\n",
    "\n",
    "# Labels: ORG, LOC, PERSON\n",
    "def get_entities(txt, label):\n",
    "  #the NER model only takes in unicode so convert str to unicode\n",
    "  doc = nlp(txt)\n",
    "  \n",
    "  #doc now contains all the entities identified\n",
    "  NER_list = [((ent.text).encode(\"utf-8\"),ent.label_) for ent in doc.ents]\n",
    "\n",
    "  #this line is to remove duplicate entities\n",
    "  NER_list = list(dict.fromkeys(NER_list))\n",
    "\n",
    "  #converting list of tuples to list of lists for easier manipulation later\n",
    "  NER_list_final = [list(entity) for entity in NER_list]\n",
    "\n",
    "  #Filtering for the entity labels that we are interested in.\n",
    "  entities = [entity[0] for entity in NER_list_final if entity[1] == label]\n",
    "  \n",
    "  return entities\n",
    "\n",
    "df_anal['ORGS'] = df_anal['body_tokenised'].apply(lambda x: get_entities(' '.join(x), 'ORG'))\n",
    "df_anal['LOC'] = df_anal['body_tokenised'].apply(lambda x: get_entities(' '.join(x), 'LOC'))\n",
    "df_anal['PERSON'] = df_anal['body_tokenised'].apply(lambda x: get_entities(' '.join(x), 'PERSON'))"
   ]
  },
  {
   "cell_type": "code",
   "execution_count": null,
   "metadata": {
    "scrolled": false
   },
   "outputs": [],
   "source": [
    "entity_counts = pd.DataFrame(columns=['topic','n_org','n_loc','n_person'])\n",
    "\n",
    "for i in range(df_anal.topic.nunique()):\n",
    "  df = df_anal[df_anal['topic'] == i]\n",
    "  n_orgs = len(set([x for ls in df['ORGS'] for x in ls]))\n",
    "  n_loc = len(set([x for ls in df['LOC'] for x in ls]))        \n",
    "  n_person = len(set([x for ls in df['PERSON'] for x in ls]))\n",
    "  entity_counts = entity_counts.append(pd.DataFrame({'topic': i,'n_org': n_orgs,'n_loc': n_loc,'n_person': n_person,'n_total': n_orgs + n_loc + n_person}, index=[i]))\n",
    "  \n",
    "entity_counts.sort_values('n_total',ascending=False)"
   ]
  }
 ],
 "metadata": {
  "kernelspec": {
   "display_name": "Python 3",
   "language": "python",
   "name": "python3"
  },
  "language_info": {
   "codemirror_mode": {
    "name": "ipython",
    "version": 3
   },
   "file_extension": ".py",
   "mimetype": "text/x-python",
   "name": "python",
   "nbconvert_exporter": "python",
   "pygments_lexer": "ipython3",
   "version": "3.7.3"
  }
 },
 "nbformat": 4,
 "nbformat_minor": 2
}
